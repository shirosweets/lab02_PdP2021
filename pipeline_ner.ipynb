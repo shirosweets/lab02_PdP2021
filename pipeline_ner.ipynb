{
 "cells": [
  {
   "cell_type": "markdown",
   "id": "77e07999-1b9b-4ce9-a072-aad79b31a252",
   "metadata": {
    "tags": []
   },
   "source": [
    "# Named Entity Recognition Pipeline\n",
    "\n",
    "El pipeline toma una URL de un feed en formato RSS, obtiene el título y descripción de los artículos en el feed, detecta las NER con un modelo pre-entrenado, y las muestra ordenadas por frecuencia de aparición.\n",
    "\n",
    "### Versiones\n",
    "Probado con:\n",
    "* Almond 0.6.0\n",
    "* Ammonite 1.6.7\n",
    "* Scala library version **2.11.12** -- Copyright 2002-2017, LAMP/EPFL\n",
    "* Java 1.8.0_282\n",
    "\n",
    "Para ver más información ir a (Help -> About Scala Kernel)"
   ]
  },
  {
   "cell_type": "markdown",
   "id": "3c9aca1f-e342-4f45-9e90-20f01e75ac7c",
   "metadata": {
    "tags": []
   },
   "source": [
    "## 1. Obtener texto"
   ]
  },
  {
   "cell_type": "markdown",
   "id": "important-swaziland",
   "metadata": {},
   "source": [
    "### 1.1 Importar librerías"
   ]
  },
  {
   "cell_type": "code",
   "execution_count": 1,
   "id": "ccd94c5a-99e4-49cf-8b19-a17c49e37703",
   "metadata": {
    "tags": []
   },
   "outputs": [
    {
     "data": {
      "text/plain": [
       "\u001b[32mimport \u001b[39m\u001b[36m$ivy.$                              \u001b[39m"
      ]
     },
     "execution_count": 1,
     "metadata": {},
     "output_type": "execute_result"
    }
   ],
   "source": [
    "import $ivy.`org.scalaj::scalaj-http:2.4.2`"
   ]
  },
  {
   "cell_type": "code",
   "execution_count": 2,
   "id": "9fb71d1f-9381-4674-ac0b-46cdcb512435",
   "metadata": {
    "tags": []
   },
   "outputs": [
    {
     "data": {
      "text/plain": [
       "\u001b[32mimport \u001b[39m\u001b[36m$ivy.$                              \n",
       "// \"org.scala-lang.modules\" %% \"scala-xml\" % \"1.3.0\"\n",
       "\u001b[39m\n",
       "\u001b[32mimport \u001b[39m\u001b[36m$ivy.$                                        \u001b[39m"
      ]
     },
     "execution_count": 2,
     "metadata": {},
     "output_type": "execute_result"
    }
   ],
   "source": [
    "import $ivy.`org.scalaj::scalaj-http:2.4.2`\n",
    "// \"org.scala-lang.modules\" %% \"scala-xml\" % \"1.3.0\"\n",
    "import $ivy.`org.scala-lang.modules::scala-xml:1.3.0`"
   ]
  },
  {
   "cell_type": "code",
   "execution_count": 3,
   "id": "composed-porter",
   "metadata": {
    "tags": []
   },
   "outputs": [
    {
     "data": {
      "text/plain": [
       "\u001b[32mimport \u001b[39m\u001b[36mscalaj.http.{Http, HttpResponse}\n",
       "\u001b[39m\n",
       "\u001b[32mimport \u001b[39m\u001b[36mscala.xml.XML\u001b[39m"
      ]
     },
     "execution_count": 3,
     "metadata": {},
     "output_type": "execute_result"
    }
   ],
   "source": [
    "import scalaj.http.{Http, HttpResponse}\n",
    "import scala.xml.XML"
   ]
  },
  {
   "cell_type": "markdown",
   "id": "794c77e9-bfd4-4fd0-ba3f-84bcc8e847fe",
   "metadata": {},
   "source": [
    "### 1.1 Obtener el texto del RSS Feed\n",
    "\n",
    "Realizamos una consulta HTTP, que nos devuelve una instancia de HTTPResponse. Dentro del atributo `body` de la HTTPResponse, se encuentra el texto del feed en formato XML. Luego, se parsea el XML para extraer los campos `title` y `description`."
   ]
  },
  {
   "cell_type": "code",
   "execution_count": 28,
   "id": "338d75b2-c4bc-4405-994b-a931ca28ee0e",
   "metadata": {
    "tags": []
   },
   "outputs": [
    {
     "data": {
      "text/plain": [
       "defined \u001b[32mclass\u001b[39m \u001b[36mRSS\u001b[39m"
      ]
     },
     "execution_count": 28,
     "metadata": {},
     "output_type": "execute_result"
    }
   ],
   "source": [
    "class RSS(){\n",
    "    // Obtener texto desde una url\n",
    "    def getRSSText (url: String): Seq[String] ={\n",
    "        try{\n",
    "            val response: HttpResponse[String] = Http(url)\n",
    "              .timeout(connTimeoutMs = 2000, readTimeoutMs = 5000)\n",
    "              .asString\n",
    "            val xmlString = response.body\n",
    "            // convert the String to a scala.xml.Elem\n",
    "            val xml = XML.loadString(xmlString)\n",
    "            // Extract text from title and description\n",
    "            (xml \\\\ \"item\").map { item => ((item \\ \"title\").text ++ \" \" ++ (item \\ \"description\").text) }\n",
    "        }\n",
    "        catch{\n",
    "        case e: Exception => Seq()\n",
    "        }\n",
    "    }\n",
    "}"
   ]
  },
  {
   "cell_type": "code",
   "execution_count": 29,
   "id": "13721d69-9a7e-4a1f-9658-4534534320d7",
   "metadata": {
    "tags": []
   },
   "outputs": [
    {
     "data": {
      "text/plain": [
       "\u001b[36mrss\u001b[39m: \u001b[32mRSS\u001b[39m = ammonite.$sess.cmd27$Helper$RSS@6dc1efe9"
      ]
     },
     "execution_count": 29,
     "metadata": {},
     "output_type": "execute_result"
    }
   ],
   "source": [
    "val rss = new RSS"
   ]
  },
  {
   "cell_type": "code",
   "execution_count": 36,
   "id": "e57ff087-e8a5-437c-9bfb-99a932af91cf",
   "metadata": {
    "tags": []
   },
   "outputs": [
    {
     "data": {
      "text/plain": [
       "\u001b[36mrssText\u001b[39m: \u001b[32mSeq\u001b[39m[\u001b[32mString\u001b[39m] = \u001b[33mList\u001b[39m(\n",
       "  \u001b[32m\"ESPN announces a contract extension for Chris Berman on his 66th birthday Chris Berman will continue to host \\u201cNFL PrimeTime\\u201d after agreeing to a new contract with ESPN. The multiyear agreement was announced on Berman\\u2019s 66th birthday Monday.\"\u001b[39m,\n",
       "  \u001b[32m\"Tim Tebow is expected to reunite with Urban Meyer on the Jacksonville Jaguars \\u2014 as a tight end Tim Tebow and Urban Meyer apparently are getting back together, this time in the NFL. The 2007 Heisman Trophy-winning quarterback at Florida is expected to team up with his college coach by signing a one-year contract to play tight end for the Jacksonville Jaguars.\"\u001b[39m,\n",
       "  \u001b[32m\"Cubs and White Sox fans are back at ballparks \\u2014 with some 2021 adjustments Chicago baseball fans are back at ballparks for the 2021 season \\u2014 with some adjustments. Masks are required, tickets are digital and social distancing is built into seating arrangements.\"\u001b[39m,\n",
       "  \u001b[32m\"What would a DQ mean for bettors? Does Bob Baffert have a history of doping horses? Q&A about Medina Spirit\\u2019s failed drug test. Kentucky Derby winner Medina Spirit failed a postrace drug test, once again raising questions about horse doping in the sport when the colt\\u2019s blood sample was found to be in violation of the state\\u2019s medication protocols for racehorses.\"\u001b[39m,\n",
       "  \u001b[32m\"Medina Spirit heads to this weekend\\u2019s Preakness Stakes \\u2014 minus trainer Bob Baffert: \\u2018I think it\\u2019d be a distraction if I went\\u2019 Kentucky Derby winner Medina Spirit is headed to Baltimore for the Preakness Stakes while trainer Bob Baffert said Monday that he won\\u2019t attend the race to avoid being a distraction in the wake of scrutiny following the colt\\u2019s failed postrace drug test.\"\u001b[39m,\n",
       "  \u001b[32m\"IOC President cancels trip to Japan \\u2014 to meet the Olympic torch relay \\u2014 because of surging COVID-19 cases in the country IOC President Thomas Bach has canceled a trip to Japan because of surging cases of COVID-19 in the country, the Tokyo Olympic organizing committee said Monday in a statement.\"\u001b[39m,\n",
       "  \u001b[32m\"How slim are the Chicago Bulls\\u2019 playoff odds? A look at where the teams fighting for the Eastern Conference play-in spots stand. The Chicago Bulls have won three in a row to put some pressure on the teams vying for the final spots in the Eastern Conference play-in tournament.\"\u001b[39m,\n",
       "  \u001b[32m\"3 takeaways from the Chicago Cubs\\u2019 5-1 homestand, including young pitchers getting a long look and a \\u2018scary\\u2019 number of HBP The Chicago Cubs ended their homestand with a 5-1 record after Sunday's 6-5 loss to the Pittsburgh Pirates. Here are three takeaways from the week.\"\u001b[39m,\n",
       "  \u001b[32m\"4 takeaways from the Chicago White Sox sweep of the Kansas City Royals, including Yasmani Grandal walking into the record book and another stellar outing by \u001b[39m..."
      ]
     },
     "execution_count": 36,
     "metadata": {},
     "output_type": "execute_result"
    }
   ],
   "source": [
    "val rssText = rss.getRSSText(\"https://www.chicagotribune.com/arcio/rss/category/sports/?query=display_date:[now-2d+TO+now]&sort=display_date:desc\")"
   ]
  },
  {
   "cell_type": "markdown",
   "id": "c0cd7c82-e1b7-400f-8781-ea8d1aeaf787",
   "metadata": {},
   "source": [
    "## 2. Detectar las entidades nombradas"
   ]
  },
  {
   "cell_type": "markdown",
   "id": "portable-tender",
   "metadata": {
    "tags": []
   },
   "source": [
    "### 2.1 Crear el modelo\n",
    "\n",
    "El **modelo** es sólo la función `getNEs`, que recibe una lista de textos.\n",
    "Para cada texto, se separa las palabras del texto usando los espacios, y considera que es una entidad nombrada si empieza con mayúscula."
   ]
  },
  {
   "cell_type": "markdown",
   "id": "8eb5cdf5-5b4e-4a5b-8368-bd8e731aa328",
   "metadata": {},
   "source": [
    "Este código lista los signos de puntuación y algunas palabras comunes del inglés que se van a sacar del texto."
   ]
  },
  {
   "cell_type": "code",
   "execution_count": 37,
   "id": "ef16a433-c5d0-4566-997e-dd9c9958d097",
   "metadata": {
    "tags": []
   },
   "outputs": [
    {
     "data": {
      "text/plain": [
       "defined \u001b[32mclass\u001b[39m \u001b[36mNERModel\u001b[39m"
      ]
     },
     "execution_count": 37,
     "metadata": {},
     "output_type": "execute_result"
    }
   ],
   "source": [
    "class NERModel() {\n",
    "    // Variables Necesarias para crear modelo\n",
    "    val STOPWORDS = Seq (\n",
    "        \"i\", \"me\", \"my\", \"myself\", \"we\", \"our\", \"ours\", \"ourselves\", \"you\",\n",
    "        \"yours\", \"yourself\", \"yourselves\", \"he\", \"him\", \"his\", \"himself\", \"she\",\n",
    "        \"her\", \"hers\", \"herself\", \"it\", \"its\", \"itself\", \"they\", \"them\", \"your\",\n",
    "        \"their\", \"theirs\", \"themselves\", \"what\", \"which\", \"who\", \"whom\",\n",
    "        \"this\", \"that\", \"these\", \"those\", \"am\", \"is\", \"are\", \"was\", \"were\",\n",
    "        \"be\", \"been\", \"being\", \"have\", \"has\", \"had\", \"having\", \"do\", \"does\",\n",
    "        \"did\", \"doing\", \"a\", \"an\", \"the\", \"and\", \"but\", \"if\", \"or\",\n",
    "        \"because\", \"as\", \"until\", \"while\", \"of\", \"at\", \"by\", \"for\", \"with\",\n",
    "        \"about\", \"against\", \"between\", \"into\", \"through\", \"during\", \"before\",\n",
    "        \"after\", \"above\", \"below\", \"to\", \"from\", \"up\", \"down\", \"in\", \"out\",\n",
    "        \"off\", \"over\", \"under\", \"again\", \"further\", \"then\", \"once\", \"here\",\n",
    "        \"there\", \"when\", \"where\", \"why\", \"how\", \"all\", \"any\", \"both\", \"each\",\n",
    "        \"few\", \"more\", \"most\", \"other\", \"some\", \"such\", \"no\", \"nor\", \"not\",\n",
    "        \"only\", \"own\", \"same\", \"so\", \"than\", \"too\", \"very\", \"s\", \"t\", \"can\",\n",
    "        \"will\", \"just\", \"don\", \"should\", \"now\", \"on\",\n",
    "        // Contractions without '\n",
    "        \"im\", \"ive\", \"id\", \"Youre\", \"youd\", \"youve\",\n",
    "        \"hes\", \"hed\", \"shes\", \"shed\", \"itd\", \"were\", \"wed\", \"weve\",\n",
    "        \"theyre\", \"theyd\", \"theyve\",\n",
    "        \"shouldnt\", \"couldnt\", \"musnt\", \"cant\", \"wont\",\n",
    "        // Common uppercase words\n",
    "        \"hi\", \"hello\"\n",
    "    )\n",
    "    val punctuationSymbols = \".,()!?;:'`´\\n\"\n",
    "    val punctuationRegex = \"\\\\\" + punctuationSymbols.split(\"\").mkString(\"|\\\\\")\n",
    "    \n",
    "    // Aplicar el Modelo a los datos (simplemente es aplicar la funcion a la lista de textos)\n",
    "    def getNEsSingle(text: String): Seq[String] =\n",
    "      text.replaceAll(punctuationRegex, \"\").split(\" \")\n",
    "        .filter { word:String => word.length > 1 &&\n",
    "                  Character.isUpperCase(word.charAt(0)) &&\n",
    "                  !STOPWORDS.contains(word.toLowerCase) }.toSeq\n",
    "\n",
    "    def getNEs(textList: Seq[String]): Seq[Seq[String]] = textList.map(getNEsSingle)\n",
    "    \n",
    "    // Contar y ordenar las entidades\n",
    "    def countandsort(textL : Seq[Seq[String]]): List[(String, Int)] = {\n",
    "        val counts: Map[String, Int] = textL.flatten\n",
    "          .foldLeft(Map.empty[String, Int]) {\n",
    "             (count, word) => count + (word -> (count.getOrElse(word, 0) + 1)) }\n",
    "        counts.toList\n",
    "          .sortBy(_._2)(Ordering[Int].reverse)\n",
    "    }\n",
    "}\n",
    "       "
   ]
  },
  {
   "cell_type": "code",
   "execution_count": 38,
   "id": "395a1734-f2d6-4b74-8dbe-5d7a5c765972",
   "metadata": {
    "tags": []
   },
   "outputs": [
    {
     "data": {
      "text/plain": [
       "\u001b[36mmodel\u001b[39m: \u001b[32mNERModel\u001b[39m = ammonite.$sess.cmd36$Helper$NERModel@5fd0d4ff"
      ]
     },
     "execution_count": 38,
     "metadata": {},
     "output_type": "execute_result"
    }
   ],
   "source": [
    "val model = new NERModel"
   ]
  },
  {
   "cell_type": "markdown",
   "id": "7e1f4f79-fb92-4b69-815b-ecf7fe556d1b",
   "metadata": {},
   "source": [
    "### 2.2 Aplicar el \"Modelo\" a los datos"
   ]
  },
  {
   "cell_type": "code",
   "execution_count": 39,
   "id": "6eb40c69-0bfe-4f37-87da-ba2078ecddd4",
   "metadata": {
    "tags": []
   },
   "outputs": [
    {
     "data": {
      "text/plain": [
       "\u001b[36mresult\u001b[39m: \u001b[32mSeq\u001b[39m[\u001b[32mSeq\u001b[39m[\u001b[32mString\u001b[39m]] = \u001b[33mList\u001b[39m(\n",
       "  \u001b[33mArrayBuffer\u001b[39m(\n",
       "    \u001b[32m\"ESPN\"\u001b[39m,\n",
       "    \u001b[32m\"Chris\"\u001b[39m,\n",
       "    \u001b[32m\"Berman\"\u001b[39m,\n",
       "    \u001b[32m\"Chris\"\u001b[39m,\n",
       "    \u001b[32m\"Berman\"\u001b[39m,\n",
       "    \u001b[32m\"PrimeTime\\u201d\"\u001b[39m,\n",
       "    \u001b[32m\"ESPN\"\u001b[39m,\n",
       "    \u001b[32m\"Berman\\u2019s\"\u001b[39m,\n",
       "    \u001b[32m\"Monday\"\u001b[39m\n",
       "  ),\n",
       "  \u001b[33mArrayBuffer\u001b[39m(\n",
       "    \u001b[32m\"Tim\"\u001b[39m,\n",
       "    \u001b[32m\"Tebow\"\u001b[39m,\n",
       "    \u001b[32m\"Urban\"\u001b[39m,\n",
       "    \u001b[32m\"Meyer\"\u001b[39m,\n",
       "    \u001b[32m\"Jacksonville\"\u001b[39m,\n",
       "    \u001b[32m\"Jaguars\"\u001b[39m,\n",
       "    \u001b[32m\"Tim\"\u001b[39m,\n",
       "    \u001b[32m\"Tebow\"\u001b[39m,\n",
       "    \u001b[32m\"Urban\"\u001b[39m,\n",
       "    \u001b[32m\"Meyer\"\u001b[39m,\n",
       "    \u001b[32m\"NFL\"\u001b[39m,\n",
       "    \u001b[32m\"Heisman\"\u001b[39m,\n",
       "    \u001b[32m\"Trophy-winning\"\u001b[39m,\n",
       "    \u001b[32m\"Florida\"\u001b[39m,\n",
       "    \u001b[32m\"Jacksonville\"\u001b[39m,\n",
       "    \u001b[32m\"Jaguars\"\u001b[39m\n",
       "  ),\n",
       "  \u001b[33mArrayBuffer\u001b[39m(\u001b[32m\"Cubs\"\u001b[39m, \u001b[32m\"White\"\u001b[39m, \u001b[32m\"Sox\"\u001b[39m, \u001b[32m\"Chicago\"\u001b[39m, \u001b[32m\"Masks\"\u001b[39m),\n",
       "  \u001b[33mArrayBuffer\u001b[39m(\n",
       "    \u001b[32m\"DQ\"\u001b[39m,\n",
       "    \u001b[32m\"Bob\"\u001b[39m,\n",
       "    \u001b[32m\"Baffert\"\u001b[39m,\n",
       "    \u001b[32m\"Q&A\"\u001b[39m,\n",
       "    \u001b[32m\"Medina\"\u001b[39m,\n",
       "    \u001b[32m\"Spirit\\u2019s\"\u001b[39m,\n",
       "    \u001b[32m\"Kentucky\"\u001b[39m,\n",
       "..."
      ]
     },
     "execution_count": 39,
     "metadata": {},
     "output_type": "execute_result"
    }
   ],
   "source": [
    "val result = model.getNEs(rssText)"
   ]
  },
  {
   "cell_type": "markdown",
   "id": "located-cookbook",
   "metadata": {
    "tags": []
   },
   "source": [
    "## 3. Contar y ordenar las entidades\n",
    "\n",
    "Concatenar todas las listas, contar cada Named Entity, y luego ordernar por frecuencia"
   ]
  },
  {
   "cell_type": "code",
   "execution_count": 40,
   "id": "dc1d260b-50c4-4783-a414-417375e7919a",
   "metadata": {
    "tags": []
   },
   "outputs": [
    {
     "data": {
      "text/plain": [
       "\u001b[36mCountAndSortedNEs\u001b[39m: \u001b[32mList\u001b[39m[(\u001b[32mString\u001b[39m, \u001b[32mInt\u001b[39m)] = \u001b[33mList\u001b[39m(\n",
       "  (\u001b[32m\"Chicago\"\u001b[39m, \u001b[32m35\u001b[39m),\n",
       "  (\u001b[32m\"Sox\"\u001b[39m, \u001b[32m10\u001b[39m),\n",
       "  (\u001b[32m\"Cubs\"\u001b[39m, \u001b[32m10\u001b[39m),\n",
       "  (\u001b[32m\"White\"\u001b[39m, \u001b[32m9\u001b[39m),\n",
       "  (\u001b[32m\"Medina\"\u001b[39m, \u001b[32m6\u001b[39m),\n",
       "  (\u001b[32m\"Pirates\"\u001b[39m, \u001b[32m6\u001b[39m),\n",
       "  (\u001b[32m\"Photos\"\u001b[39m, \u001b[32m6\u001b[39m),\n",
       "  (\u001b[32m\"Bob\"\u001b[39m, \u001b[32m5\u001b[39m),\n",
       "  (\u001b[32m\"Baffert\"\u001b[39m, \u001b[32m5\u001b[39m),\n",
       "  (\u001b[32m\"Sunday\"\u001b[39m, \u001b[32m5\u001b[39m),\n",
       "  (\u001b[32m\"Sky\"\u001b[39m, \u001b[32m4\u001b[39m),\n",
       "  (\u001b[32m\"Derby\"\u001b[39m, \u001b[32m4\u001b[39m),\n",
       "  (\u001b[32m\"Saturday\"\u001b[39m, \u001b[32m4\u001b[39m),\n",
       "  (\u001b[32m\"Royals\"\u001b[39m, \u001b[32m4\u001b[39m),\n",
       "  (\u001b[32m\"Spirit\"\u001b[39m, \u001b[32m4\u001b[39m),\n",
       "  (\u001b[32m\"Center\"\u001b[39m, \u001b[32m4\u001b[39m),\n",
       "  (\u001b[32m\"May\"\u001b[39m, \u001b[32m4\u001b[39m),\n",
       "  (\u001b[32m\"Kentucky\"\u001b[39m, \u001b[32m4\u001b[39m),\n",
       "  (\u001b[32m\"Field\"\u001b[39m, \u001b[32m4\u001b[39m),\n",
       "  (\u001b[32m\"City\"\u001b[39m, \u001b[32m4\u001b[39m),\n",
       "  (\u001b[32m\"Stars\"\u001b[39m, \u001b[32m4\u001b[39m),\n",
       "  (\u001b[32m\"United\"\u001b[39m, \u001b[32m4\u001b[39m),\n",
       "  (\u001b[32m\"Kansas\"\u001b[39m, \u001b[32m4\u001b[39m),\n",
       "  (\u001b[32m\"Pittsburgh\"\u001b[39m, \u001b[32m4\u001b[39m),\n",
       "  (\u001b[32m\"Wrigley\"\u001b[39m, \u001b[32m4\u001b[39m),\n",
       "  (\u001b[32m\"Cohen\"\u001b[39m, \u001b[32m3\u001b[39m),\n",
       "  (\u001b[32m\"Monday\"\u001b[39m, \u001b[32m3\u001b[39m),\n",
       "  (\u001b[32m\"Chris\"\u001b[39m, \u001b[32m3\u001b[39m),\n",
       "  (\u001b[32m\"Eastern\"\u001b[39m, \u001b[32m3\u001b[39m),\n",
       "  (\u001b[32m\"Dallas\"\u001b[39m, \u001b[32m3\u001b[39m),\n",
       "  (\u001b[32m\"Blackhawks\"\u001b[39m, \u001b[32m3\u001b[39m),\n",
       "  (\u001b[32m\"Tokyo\"\u001b[39m, \u001b[32m3\u001b[39m),\n",
       "  (\u001b[32m\"Conference\"\u001b[39m, \u001b[32m3\u001b[39m),\n",
       "  (\u001b[32m\"Spirit\\u2019s\"\u001b[39m, \u001b[32m2\u001b[39m),\n",
       "  (\u001b[32m\"Preakness\"\u001b[39m, \u001b[32m2\u001b[39m),\n",
       "  (\u001b[32m\"Los\"\u001b[39m, \u001b[32m2\u001b[39m),\n",
       "  (\u001b[32m\"Mercedes\"\u001b[39m, \u001b[32m2\u001b[39m),\n",
       "  (\u001b[32m\"Detroit\"\u001b[39m, \u001b[32m2\u001b[39m),\n",
       "..."
      ]
     },
     "execution_count": 40,
     "metadata": {},
     "output_type": "execute_result"
    }
   ],
   "source": [
    "val CountAndSortedNEs = model.countandsort(result)"
   ]
  }
 ],
 "metadata": {
  "kernelspec": {
   "display_name": "Scala",
   "language": "scala",
   "name": "scala"
  },
  "language_info": {
   "codemirror_mode": "text/x-scala",
   "file_extension": ".scala",
   "mimetype": "text/x-scala",
   "name": "scala",
   "nbconvert_exporter": "script",
   "version": "2.11.12"
  }
 },
 "nbformat": 4,
 "nbformat_minor": 5
}
