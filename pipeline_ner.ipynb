{
 "cells": [
  {
   "cell_type": "code",
   "execution_count": null,
   "id": "441ca1ff-62f1-4cf0-8c2e-bf6bf7ec14d0",
   "metadata": {},
   "outputs": [],
   "source": [
    "# Named Entity Recognition Pipeline\n",
    "\n",
    "El pipeline toma una URL de un feed en formato RSS, obtiene el título y descripción de los artículos en el feed, detecta las NER con un modelo pre-entrenado, y las muestra ordenadas por frecuencia de aparición.\n",
    "\n",
    "### Versiones\n",
    "Probado con:\n",
    "* Almond 0.6.0\n",
    "* Ammonite 1.6.7\n",
    "* Scala library version **2.11.12** -- Copyright 2002-2017, LAMP/EPFL\n",
    "* Java 1.8.0_282\n",
    "\n",
    "Para ver más información ir a (Help -> About Scala Kernel)"
   ]
  },
  {
   "cell_type": "markdown",
   "id": "compliant-nursing",
   "metadata": {
    "tags": []
   },
   "source": [
    "## 1. Obtener texto"
   ]
  },
  {
   "cell_type": "markdown",
   "id": "important-swaziland",
   "metadata": {},
   "source": [
    "### 1.1 Importar librerías"
   ]
  },
  {
   "cell_type": "code",
   "execution_count": 1,
   "id": "ccd94c5a-99e4-49cf-8b19-a17c49e37703",
   "metadata": {
    "tags": []
   },
   "outputs": [
    {
     "data": {
      "text/plain": [
       "\u001b[32mimport \u001b[39m\u001b[36m$ivy.$                              \u001b[39m"
      ]
     },
     "execution_count": 1,
     "metadata": {},
     "output_type": "execute_result"
    }
   ],
   "source": [
    "import $ivy.`org.scalaj::scalaj-http:2.4.2`"
   ]
  },
  {
   "cell_type": "code",
   "execution_count": 2,
   "id": "9fb71d1f-9381-4674-ac0b-46cdcb512435",
   "metadata": {
    "tags": []
   },
   "outputs": [
    {
     "data": {
      "text/plain": [
       "\u001b[32mimport \u001b[39m\u001b[36m$ivy.$                              \n",
       "// \"org.scala-lang.modules\" %% \"scala-xml\" % \"1.3.0\"\n",
       "\u001b[39m\n",
       "\u001b[32mimport \u001b[39m\u001b[36m$ivy.$                                        \u001b[39m"
      ]
     },
     "execution_count": 2,
     "metadata": {},
     "output_type": "execute_result"
    }
   ],
   "source": [
    "import $ivy.`org.scalaj::scalaj-http:2.4.2`\n",
    "// \"org.scala-lang.modules\" %% \"scala-xml\" % \"1.3.0\"\n",
    "import $ivy.`org.scala-lang.modules::scala-xml:1.3.0`"
   ]
  },
  {
   "cell_type": "code",
   "execution_count": 3,
   "id": "composed-porter",
   "metadata": {
    "tags": []
   },
   "outputs": [
    {
     "data": {
      "text/plain": [
       "\u001b[32mimport \u001b[39m\u001b[36mscalaj.http.{Http, HttpResponse}\n",
       "\u001b[39m\n",
       "\u001b[32mimport \u001b[39m\u001b[36mscala.xml.XML\u001b[39m"
      ]
     },
     "execution_count": 3,
     "metadata": {},
     "output_type": "execute_result"
    }
   ],
   "source": [
    "import scalaj.http.{Http, HttpResponse}\n",
    "import scala.xml.XML"
   ]
  },
  {
   "cell_type": "markdown",
   "id": "2445c849-9d26-423c-9967-2da8d9c7573f",
   "metadata": {},
   "source": []
  },
  {
   "cell_type": "markdown",
   "id": "794c77e9-bfd4-4fd0-ba3f-84bcc8e847fe",
   "metadata": {},
   "source": [
    "### 1.1 Obtener el texto del RSS Feed\n",
    "\n",
    "Realizamos una consulta HTTP, que nos devuelve una instancia de HTTPResponse. Dentro del atributo `body` de la HTTPResponse, se encuentra el texto del feed en formato XML. Luego, se parsea el XML para extraer los campos `title` y `description`."
   ]
  },
  {
   "cell_type": "code",
   "execution_count": null,
   "id": "338d75b2-c4bc-4405-994b-a931ca28ee0e",
   "metadata": {
    "tags": []
   },
   "outputs": [],
   "source": [
    "class RSS(){\n",
    "    // Obtener texto desde una url\n",
    "    def getRSSText (url: String): Seq[String] ={\n",
    "        val response: HttpResponse[String] = Http(url)\n",
    "          .timeout(connTimeoutMs = 2000, readTimeoutMs = 5000)\n",
    "          .asString\n",
    "        val xmlString = response.body\n",
    "        // convert the `String` to a `scala.xml.Elem`\n",
    "        val xml = XML.loadString(xmlString)\n",
    "        // Extract text from title and description\n",
    "        (xml \\\\ \"item\").map { item => ((item \\ \"title\").text ++ \" \" ++ (item \\ \"description\").text) }\n",
    "    }\n",
    "}"
   ]
  },
  {
   "cell_type": "code",
   "execution_count": 7,
   "id": "13721d69-9a7e-4a1f-9658-4534534320d7",
   "metadata": {
    "tags": []
   },
   "outputs": [
    {
     "data": {
      "text/plain": [
       "\u001b[36mrss\u001b[39m: \u001b[32mRSS\u001b[39m = ammonite.$sess.cmd5$Helper$RSS@2c73a5d2"
      ]
     },
     "execution_count": 7,
     "metadata": {},
     "output_type": "execute_result"
    }
   ],
   "source": [
    "val rss = new RSS"
   ]
  },
  {
   "cell_type": "code",
   "execution_count": 8,
   "id": "e57ff087-e8a5-437c-9bfb-99a932af91cf",
   "metadata": {
    "tags": []
   },
   "outputs": [
    {
     "data": {
      "text/plain": [
       "\u001b[36mrssText\u001b[39m: \u001b[32mSeq\u001b[39m[\u001b[32mString\u001b[39m] = \u001b[33mList\u001b[39m(\n",
       "  \u001b[32m\"Northwestern faculty say they\\u2019re \\u2018alarmed\\u2019 and \\u2018embarrassed\\u2019 by athletic director Mike Polisky\\u2019s hiring and plan to protest at President Morton Schapiro\\u2019s house Six female Northwestern faculty members sent an open letter Wednesday to Provost Kathleen Hagerty demanding greater transparency about the hiring of athletic director Mike Polisky, and they\\u2019re planning a picket Friday that will march from campus to President Morton Schapiro\\u2019s home to express opposition to the hiring.\"\u001b[39m,\n",
       "  \u001b[32m\"3 takeaways from the Chicago Cubs\\u2019 series sweep of the Los Angeles Dodgers, including David Ross\\u2019 savvy and Javier B\\u00e1ez stepping up in big moments The Chicago Cubs showed their resiliency in sweeping the Los Angeles Dodgers in a three-game series at Wrigley Field. \\u201cHonestly, we\\u2019re riding a roller coaster right now,\\\" said Anthony Rizzo, whose RBI single in the 11th inning Wednesday gave the Cubs a 6-5 victory.\"\u001b[39m,\n",
       "  \u001b[32m\"\\u00c1lvaro Medr\\u00e1n showed flashes of brilliance in his 1st season with the Chicago Fire. And they will need more of the same in 2021 if they hope to reach the MLS playoffs. \\u00c1lvaro Medr\\u00e1n was one of the few bright spots in 2020 for the Chicago Fire, who need a big season from the Spanish midfielder if they hope to return to the Major League Soccer postseason for the first time since 2017.\"\u001b[39m,\n",
       "  \u001b[32m\"Justin Fields\\u2019 arrival starts a new era for the Chicago Bears. How much optimism should fans have? And what\\u2019s next for the Bears and their new QB? With the selection of Justin Fields in the first round of the NFL draft, a new era has arrived for the Chicago Bears. What\\u2019s next for the franchise in their quarterback journey?\"\u001b[39m,\n",
       "  \u001b[32m\"Chicago Cubs are getting a look at the future now with pitchers Adbert Alzolay, Keegan Thompson and Justin Steele For an organization that has struggled to develop arms, the Chicago Cubs trio of Adbert Alzolay, Keegan Thompson and Justin Steele represents a glimpse of the emerging talent. Alzolay threw five strong innings against the Los Angeles Dodgers before the Cubs won 6-5 in 11 innings.\"\u001b[39m,\n",
       "  \u001b[32m\"Photos: Chicago Cubs 6, Los Angeles Dodgers 5 (11 innings) Photos from the Chicago Cubs' 6-5 win in 11 innings against the Los Angeles Dodgers on May 5, 2021, at Wrigley Field.\"\u001b[39m,\n",
       "  \u001b[32m\"John Means throws Orioles\\u2019 first solo no-hitter since 1969 in 6-0 win over Mariners: \\u2018I don\\u2019t even know how to describe it\\u2019 In a 6-0 victory over the Seattle Mariners at T-Mobile Park, John Means pitched the Orioles\\u2019 first solo no-hitter since Jim Palmer shut down the Oakland Athletics in 1969.\"\u001b[39m,\n",
       "  \u001b[32m\"Column: Tony La Russa\\u2019s gaffe on the extra-innings rule bites the Chicag\u001b[39m..."
      ]
     },
     "execution_count": 8,
     "metadata": {},
     "output_type": "execute_result"
    }
   ],
   "source": [
    "val rssText = rss.getRSSText(\"https://www.chicagotribune.com/arcio/rss/category/sports/?query=display_date:[now-2d+TO+now]&sort=display_date:desc\")"
   ]
  },
  {
   "cell_type": "markdown",
   "id": "c0cd7c82-e1b7-400f-8781-ea8d1aeaf787",
   "metadata": {},
   "source": [
    "## 2. Detectar las entidades nombradas"
   ]
  },
  {
   "cell_type": "markdown",
   "id": "portable-tender",
   "metadata": {
    "tags": []
   },
   "source": [
    "### 2.1 Crear el modelo\n",
    "\n",
    "El **modelo** es sólo la función `getNEs`, que recibe una lista de textos.\n",
    "Para cada texto, se separa las palabras del texto usando los espacios, y considera que es una entidad nombrada si empieza con mayúscula."
   ]
  },
  {
   "cell_type": "markdown",
   "id": "8eb5cdf5-5b4e-4a5b-8368-bd8e731aa328",
   "metadata": {},
   "source": [
    "Este código lista los signos de puntuación y algunas palabras comunes del inglés que se van a sacar del texto."
   ]
  },
  {
   "cell_type": "code",
   "execution_count": 12,
   "id": "ef16a433-c5d0-4566-997e-dd9c9958d097",
   "metadata": {
    "tags": []
   },
   "outputs": [
    {
     "data": {
      "text/plain": [
       "defined \u001b[32mclass\u001b[39m \u001b[36mNERModel\u001b[39m"
      ]
     },
     "execution_count": 12,
     "metadata": {},
     "output_type": "execute_result"
    }
   ],
   "source": [
    "class NERModel() {\n",
    "    // Variables Necesarias para crear modelo\n",
    "    val STOPWORDS = Seq (\n",
    "        \"i\", \"me\", \"my\", \"myself\", \"we\", \"our\", \"ours\", \"ourselves\", \"you\",\n",
    "        \"yours\", \"yourself\", \"yourselves\", \"he\", \"him\", \"his\", \"himself\", \"she\",\n",
    "        \"her\", \"hers\", \"herself\", \"it\", \"its\", \"itself\", \"they\", \"them\", \"your\",\n",
    "        \"their\", \"theirs\", \"themselves\", \"what\", \"which\", \"who\", \"whom\",\n",
    "        \"this\", \"that\", \"these\", \"those\", \"am\", \"is\", \"are\", \"was\", \"were\",\n",
    "        \"be\", \"been\", \"being\", \"have\", \"has\", \"had\", \"having\", \"do\", \"does\",\n",
    "        \"did\", \"doing\", \"a\", \"an\", \"the\", \"and\", \"but\", \"if\", \"or\",\n",
    "        \"because\", \"as\", \"until\", \"while\", \"of\", \"at\", \"by\", \"for\", \"with\",\n",
    "        \"about\", \"against\", \"between\", \"into\", \"through\", \"during\", \"before\",\n",
    "        \"after\", \"above\", \"below\", \"to\", \"from\", \"up\", \"down\", \"in\", \"out\",\n",
    "        \"off\", \"over\", \"under\", \"again\", \"further\", \"then\", \"once\", \"here\",\n",
    "        \"there\", \"when\", \"where\", \"why\", \"how\", \"all\", \"any\", \"both\", \"each\",\n",
    "        \"few\", \"more\", \"most\", \"other\", \"some\", \"such\", \"no\", \"nor\", \"not\",\n",
    "        \"only\", \"own\", \"same\", \"so\", \"than\", \"too\", \"very\", \"s\", \"t\", \"can\",\n",
    "        \"will\", \"just\", \"don\", \"should\", \"now\", \"on\",\n",
    "        // Contractions without '\n",
    "        \"im\", \"ive\", \"id\", \"Youre\", \"youd\", \"youve\",\n",
    "        \"hes\", \"hed\", \"shes\", \"shed\", \"itd\", \"were\", \"wed\", \"weve\",\n",
    "        \"theyre\", \"theyd\", \"theyve\",\n",
    "        \"shouldnt\", \"couldnt\", \"musnt\", \"cant\", \"wont\",\n",
    "        // Common uppercase words\n",
    "        \"hi\", \"hello\"\n",
    "    )\n",
    "    val punctuationSymbols = \".,()!?;:'`´\\n\"\n",
    "    val punctuationRegex = \"\\\\\" + punctuationSymbols.split(\"\").mkString(\"|\\\\\")\n",
    "    \n",
    "    // Aplicar el Modelo a los datos (simplemente es aplicar la funcion a la lista de textos)\n",
    "    def getNEsSingle(text: String): Seq[String] =\n",
    "      text.replaceAll(punctuationRegex, \"\").split(\" \")\n",
    "        .filter { word:String => word.length > 1 &&\n",
    "                  Character.isUpperCase(word.charAt(0)) &&\n",
    "                  !STOPWORDS.contains(word.toLowerCase) }.toSeq\n",
    "\n",
    "    def getNEs(textList: Seq[String]): Seq[Seq[String]] = textList.map(getNEsSingle)\n",
    "    \n",
    "    // Contar y ordenar las entidades\n",
    "    def countandsort(textL : Seq[Seq[String]]): List[(String, Int)] = {\n",
    "        val counts: Map[String, Int] = textL.flatten\n",
    "          .foldLeft(Map.empty[String, Int]) {\n",
    "             (count, word) => count + (word -> (count.getOrElse(word, 0) + 1)) }\n",
    "        counts.toList\n",
    "          .sortBy(_._2)(Ordering[Int].reverse)\n",
    "    }\n",
    "}\n",
    "       "
   ]
  },
  {
   "cell_type": "code",
   "execution_count": 13,
   "id": "395a1734-f2d6-4b74-8dbe-5d7a5c765972",
   "metadata": {
    "tags": []
   },
   "outputs": [
    {
     "data": {
      "text/plain": [
       "\u001b[36mmodel\u001b[39m: \u001b[32mNERModel\u001b[39m = ammonite.$sess.cmd11$Helper$NERModel@4caf1176"
      ]
     },
     "execution_count": 13,
     "metadata": {},
     "output_type": "execute_result"
    }
   ],
   "source": [
    "val model = new NERModel"
   ]
  },
  {
   "cell_type": "markdown",
   "id": "7e1f4f79-fb92-4b69-815b-ecf7fe556d1b",
   "metadata": {},
   "source": [
    "### 2.2 Aplicar el \"Modelo\" a los datos"
   ]
  },
  {
   "cell_type": "code",
   "execution_count": 14,
   "id": "6eb40c69-0bfe-4f37-87da-ba2078ecddd4",
   "metadata": {
    "tags": []
   },
   "outputs": [
    {
     "data": {
      "text/plain": [
       "\u001b[36mresult\u001b[39m: \u001b[32mSeq\u001b[39m[\u001b[32mSeq\u001b[39m[\u001b[32mString\u001b[39m]] = \u001b[33mList\u001b[39m(\n",
       "  \u001b[33mArraySeq\u001b[39m(\n",
       "    \u001b[32m\"Northwestern\"\u001b[39m,\n",
       "    \u001b[32m\"Mike\"\u001b[39m,\n",
       "    \u001b[32m\"Polisky\\u2019s\"\u001b[39m,\n",
       "    \u001b[32m\"President\"\u001b[39m,\n",
       "    \u001b[32m\"Morton\"\u001b[39m,\n",
       "    \u001b[32m\"Schapiro\\u2019s\"\u001b[39m,\n",
       "    \u001b[32m\"Six\"\u001b[39m,\n",
       "    \u001b[32m\"Northwestern\"\u001b[39m,\n",
       "    \u001b[32m\"Wednesday\"\u001b[39m,\n",
       "    \u001b[32m\"Provost\"\u001b[39m,\n",
       "    \u001b[32m\"Kathleen\"\u001b[39m,\n",
       "    \u001b[32m\"Hagerty\"\u001b[39m,\n",
       "    \u001b[32m\"Mike\"\u001b[39m,\n",
       "    \u001b[32m\"Polisky\"\u001b[39m,\n",
       "    \u001b[32m\"Friday\"\u001b[39m,\n",
       "    \u001b[32m\"President\"\u001b[39m,\n",
       "    \u001b[32m\"Morton\"\u001b[39m,\n",
       "    \u001b[32m\"Schapiro\\u2019s\"\u001b[39m\n",
       "  ),\n",
       "  \u001b[33mArraySeq\u001b[39m(\n",
       "    \u001b[32m\"Chicago\"\u001b[39m,\n",
       "    \u001b[32m\"Cubs\\u2019\"\u001b[39m,\n",
       "    \u001b[32m\"Los\"\u001b[39m,\n",
       "    \u001b[32m\"Angeles\"\u001b[39m,\n",
       "    \u001b[32m\"Dodgers\"\u001b[39m,\n",
       "    \u001b[32m\"David\"\u001b[39m,\n",
       "    \u001b[32m\"Ross\\u2019\"\u001b[39m,\n",
       "    \u001b[32m\"Javier\"\u001b[39m,\n",
       "    \u001b[32m\"B\\u00e1ez\"\u001b[39m,\n",
       "    \u001b[32m\"Chicago\"\u001b[39m,\n",
       "    \u001b[32m\"Cubs\"\u001b[39m,\n",
       "    \u001b[32m\"Los\"\u001b[39m,\n",
       "    \u001b[32m\"Angeles\"\u001b[39m,\n",
       "    \u001b[32m\"Dodgers\"\u001b[39m,\n",
       "    \u001b[32m\"Wrigley\"\u001b[39m,\n",
       "    \u001b[32m\"Field\"\u001b[39m,\n",
       "    \u001b[32m\"Anthony\"\u001b[39m,\n",
       "..."
      ]
     },
     "execution_count": 14,
     "metadata": {},
     "output_type": "execute_result"
    }
   ],
   "source": [
    "val result = model.getNEs(rssText)"
   ]
  },
  {
   "cell_type": "markdown",
   "id": "located-cookbook",
   "metadata": {
    "tags": []
   },
   "source": [
    "## 3. Contar y ordenar las entidades\n",
    "\n",
    "Concatenar todas las listas, contar cada Named Entity, y luego ordernar por frecuencia"
   ]
  },
  {
   "cell_type": "code",
   "execution_count": 15,
   "id": "dc1d260b-50c4-4783-a414-417375e7919a",
   "metadata": {
    "tags": []
   },
   "outputs": [
    {
     "data": {
      "text/plain": [
       "\u001b[36mCountAndSortedNEs\u001b[39m: \u001b[32mList\u001b[39m[(\u001b[32mString\u001b[39m, \u001b[32mInt\u001b[39m)] = \u001b[33mList\u001b[39m(\n",
       "  (\u001b[32m\"Chicago\"\u001b[39m, \u001b[32m41\u001b[39m),\n",
       "  (\u001b[32m\"Bears\"\u001b[39m, \u001b[32m12\u001b[39m),\n",
       "  (\u001b[32m\"Los\"\u001b[39m, \u001b[32m11\u001b[39m),\n",
       "  (\u001b[32m\"Angeles\"\u001b[39m, \u001b[32m11\u001b[39m),\n",
       "  (\u001b[32m\"Cubs\"\u001b[39m, \u001b[32m11\u001b[39m),\n",
       "  (\u001b[32m\"Dodgers\"\u001b[39m, \u001b[32m11\u001b[39m),\n",
       "  (\u001b[32m\"White\"\u001b[39m, \u001b[32m7\u001b[39m),\n",
       "  (\u001b[32m\"Sox\"\u001b[39m, \u001b[32m7\u001b[39m),\n",
       "  (\u001b[32m\"Reds\"\u001b[39m, \u001b[32m6\u001b[39m),\n",
       "  (\u001b[32m\"Cincinnati\"\u001b[39m, \u001b[32m6\u001b[39m),\n",
       "  (\u001b[32m\"Field\"\u001b[39m, \u001b[32m6\u001b[39m),\n",
       "  (\u001b[32m\"Justin\"\u001b[39m, \u001b[32m6\u001b[39m),\n",
       "  (\u001b[32m\"May\"\u001b[39m, \u001b[32m5\u001b[39m),\n",
       "  (\u001b[32m\"Tuesday\"\u001b[39m, \u001b[32m5\u001b[39m),\n",
       "  (\u001b[32m\"Tony\"\u001b[39m, \u001b[32m5\u001b[39m),\n",
       "  (\u001b[32m\"Kyle\"\u001b[39m, \u001b[32m4\u001b[39m),\n",
       "  (\u001b[32m\"Game\"\u001b[39m, \u001b[32m4\u001b[39m),\n",
       "  (\u001b[32m\"COVID-19\"\u001b[39m, \u001b[32m4\u001b[39m),\n",
       "  (\u001b[32m\"Photos\"\u001b[39m, \u001b[32m4\u001b[39m),\n",
       "  (\u001b[32m\"Wrigley\"\u001b[39m, \u001b[32m4\u001b[39m),\n",
       "  (\u001b[32m\"Column\"\u001b[39m, \u001b[32m3\u001b[39m),\n",
       "  (\u001b[32m\"Houston\"\u001b[39m, \u001b[32m3\u001b[39m),\n",
       "  (\u001b[32m\"Cubs\\u2019\"\u001b[39m, \u001b[32m3\u001b[39m),\n",
       "  (\u001b[32m\"QB\"\u001b[39m, \u001b[32m3\u001b[39m),\n",
       "  (\u001b[32m\"Wednesday\"\u001b[39m, \u001b[32m3\u001b[39m),\n",
       "  (\u001b[32m\"Collin\"\u001b[39m, \u001b[32m3\u001b[39m),\n",
       "  (\u001b[32m\"Alzolay\"\u001b[39m, \u001b[32m3\u001b[39m),\n",
       "  (\u001b[32m\"NFL\"\u001b[39m, \u001b[32m3\u001b[39m),\n",
       "  (\u001b[32m\"LaVine\"\u001b[39m, \u001b[32m3\u001b[39m),\n",
       "  (\u001b[32m\"Blackhawks\"\u001b[39m, \u001b[32m3\u001b[39m),\n",
       "  (\u001b[32m\"Delia\"\u001b[39m, \u001b[32m3\u001b[39m),\n",
       "  (\u001b[32m\"Fields\"\u001b[39m, \u001b[32m3\u001b[39m),\n",
       "  (\u001b[32m\"La\"\u001b[39m, \u001b[32m3\u001b[39m),\n",
       "  (\u001b[32m\"Park\"\u001b[39m, \u001b[32m2\u001b[39m),\n",
       "  (\u001b[32m\"John\"\u001b[39m, \u001b[32m2\u001b[39m),\n",
       "  (\u001b[32m\"Medr\\u00e1n\"\u001b[39m, \u001b[32m2\u001b[39m),\n",
       "  (\u001b[32m\"Mariners\"\u001b[39m, \u001b[32m2\u001b[39m),\n",
       "  (\u001b[32m\"Orioles\\u2019\"\u001b[39m, \u001b[32m2\u001b[39m),\n",
       "..."
      ]
     },
     "execution_count": 15,
     "metadata": {},
     "output_type": "execute_result"
    }
   ],
   "source": [
    "val CountAndSortedNEs = model.countandsort(result)"
   ]
  },
  {
   "cell_type": "code",
   "execution_count": null,
   "id": "0732b9aa-16bf-46af-9428-ca4f9bc712af",
   "metadata": {},
   "outputs": [],
   "source": []
  }
 ],
 "metadata": {
  "kernelspec": {
   "display_name": "Scala",
   "language": "scala",
   "name": "scala"
  },
  "language_info": {
   "codemirror_mode": "text/x-scala",
   "file_extension": ".sc",
   "mimetype": "text/x-scala",
   "name": "scala",
   "nbconvert_exporter": "script",
   "version": "2.13.4"
  }
 },
 "nbformat": 4,
 "nbformat_minor": 5
}
