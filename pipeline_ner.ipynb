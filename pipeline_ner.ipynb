{
 "cells": [
  {
   "cell_type": "markdown",
   "id": "77e07999-1b9b-4ce9-a072-aad79b31a252",
   "metadata": {
    "tags": []
   },
   "source": [
    "# Named Entity Recognition Pipeline\n",
    "\n",
    "El pipeline toma una URL de un feed en formato RSS, obtiene el título y descripción de los artículos en el feed, detecta las NER con un modelo pre-entrenado, y las muestra ordenadas por frecuencia de aparición.\n",
    "\n",
    "### Versiones\n",
    "Probado con:\n",
    "* Almond 0.6.0\n",
    "* Ammonite 1.6.7\n",
    "* Scala library version **2.11.12** -- Copyright 2002-2017, LAMP/EPFL\n",
    "* Java 1.8.0_282\n",
    "\n",
    "Para ver más información ir a (Help -> About Scala Kernel)"
   ]
  },
  {
   "cell_type": "markdown",
   "id": "3c9aca1f-e342-4f45-9e90-20f01e75ac7c",
   "metadata": {
    "tags": []
   },
   "source": [
    "## 1. Obtener texto"
   ]
  },
  {
   "cell_type": "markdown",
   "id": "important-swaziland",
   "metadata": {},
   "source": [
    "### 1.1 Importar librerías"
   ]
  },
  {
   "cell_type": "code",
   "execution_count": 6,
   "id": "ccd94c5a-99e4-49cf-8b19-a17c49e37703",
   "metadata": {
    "tags": []
   },
   "outputs": [
    {
     "data": {
      "text/plain": [
       "\u001b[32mimport \u001b[39m\u001b[36m$ivy.$                              \u001b[39m"
      ]
     },
     "execution_count": 6,
     "metadata": {},
     "output_type": "execute_result"
    }
   ],
   "source": [
    "import $ivy.`org.scalaj::scalaj-http:2.4.2`"
   ]
  },
  {
   "cell_type": "code",
   "execution_count": 7,
   "id": "9fb71d1f-9381-4674-ac0b-46cdcb512435",
   "metadata": {
    "tags": []
   },
   "outputs": [
    {
     "data": {
      "text/plain": [
       "\u001b[32mimport \u001b[39m\u001b[36m$ivy.$                              \n",
       "// \"org.scala-lang.modules\" %% \"scala-xml\" % \"1.3.0\"\n",
       "\u001b[39m\n",
       "\u001b[32mimport \u001b[39m\u001b[36m$ivy.$                                        \u001b[39m"
      ]
     },
     "execution_count": 7,
     "metadata": {},
     "output_type": "execute_result"
    }
   ],
   "source": [
    "import $ivy.`org.scalaj::scalaj-http:2.4.2`\n",
    "// \"org.scala-lang.modules\" %% \"scala-xml\" % \"1.3.0\"\n",
    "import $ivy.`org.scala-lang.modules::scala-xml:1.3.0`"
   ]
  },
  {
   "cell_type": "code",
   "execution_count": 8,
   "id": "4c876116-303f-4839-a8b5-cbea434adace",
   "metadata": {
    "tags": []
   },
   "outputs": [
    {
     "data": {
      "text/plain": [
       "\u001b[32mimport \u001b[39m\u001b[36mscalaj.http.{Http, HttpResponse}\n",
       "\u001b[39m\n",
       "\u001b[32mimport \u001b[39m\u001b[36mscala.xml.XML\u001b[39m"
      ]
     },
     "execution_count": 8,
     "metadata": {},
     "output_type": "execute_result"
    }
   ],
   "source": [
    "import scalaj.http.{Http, HttpResponse}\n",
    "import scala.xml.XML"
   ]
  },
  {
   "cell_type": "code",
   "execution_count": 9,
   "id": "ea956412-17d4-49a3-8d48-210c70c07e9f",
   "metadata": {
    "tags": []
   },
   "outputs": [
    {
     "data": {
      "text/plain": [
       "\u001b[32mimport \u001b[39m\u001b[36m$ivy.$                                 \n",
       "\u001b[39m\n",
       "\u001b[32mimport \u001b[39m\u001b[36morg.json4s.JsonDSL._\n",
       "\u001b[39m\n",
       "\u001b[32mimport \u001b[39m\u001b[36morg.json4s._\n",
       "\u001b[39m\n",
       "\u001b[32mimport \u001b[39m\u001b[36morg.json4s.jackson.JsonMethods._\n",
       "\u001b[39m\n",
       "\u001b[36mformats\u001b[39m: \u001b[32mDefaultFormats\u001b[39m.type = org.json4s.DefaultFormats$@602878fb"
      ]
     },
     "execution_count": 9,
     "metadata": {},
     "output_type": "execute_result"
    }
   ],
   "source": [
    "import $ivy.`org.json4s::json4s-jackson:3.4.0`\n",
    "import org.json4s.JsonDSL._\n",
    "import org.json4s._\n",
    "import org.json4s.jackson.JsonMethods._\n",
    "implicit val formats = DefaultFormats"
   ]
  },
  {
   "cell_type": "code",
   "execution_count": 10,
   "id": "8d3088f8-d18a-4338-b2d9-e335a6cd72e5",
   "metadata": {
    "tags": []
   },
   "outputs": [
    {
     "data": {
      "text/plain": [
       "\u001b[32mimport \u001b[39m\u001b[36mscala.collection.mutable.ListBuffer\u001b[39m"
      ]
     },
     "execution_count": 10,
     "metadata": {},
     "output_type": "execute_result"
    }
   ],
   "source": [
    "import scala.collection.mutable.ListBuffer"
   ]
  },
  {
   "cell_type": "markdown",
   "id": "794c77e9-bfd4-4fd0-ba3f-84bcc8e847fe",
   "metadata": {},
   "source": [
    "### 1.1 Obtener el texto del RSS Feed y REDDIT Feed\n",
    "\n",
    "Creamos una clase la cual toma un argumento que definira como se usara.\n",
    "Consta de un metodo queryURL(url: String) ---> Seq[String] el cual recibe una url y devuelve una lista de texto, la cual tiene los datos de dicha url.\n",
    "\n",
    "Para RSS:\n",
    "\n",
    "Realizamos una consulta HTTP, que nos devuelve una instancia de HTTPResponse. Dentro del atributo `body` de la HTTPResponse, se encuentra el texto del feed en formato XML. Luego, se parsea el XML para extraer los campos `title` y `description`.\n",
    "\n",
    "Para REDDIT:\n",
    "\n",
    "Realizamos una consulta HTTP, que nos devuelve una instancia de HTTPResponse.Dentro del atributo `body` de la HTTPResponse, se encuentra el texto del feed en formato XML.Luego, se parsea con JSON para extraer los campos `title` y `selftext`."
   ]
  },
  {
   "cell_type": "code",
   "execution_count": 132,
   "id": "89c0593e-2092-44a5-b904-602803e316e8",
   "metadata": {
    "tags": []
   },
   "outputs": [
    {
     "data": {
      "text/plain": [
       "\u001b[36murl1\u001b[39m: \u001b[32mString\u001b[39m = \u001b[32m\"https://www.reddit.com/r/Android/hot/.json?count=10\"\u001b[39m\n",
       "\u001b[36murl2\u001b[39m: \u001b[32mString\u001b[39m = \u001b[32m\"https://www.chicagotribune.com/arcio/rss/category/sports/?query=display_date:[now-2d+TO+now]&sort=display_date:desc\"\u001b[39m"
      ]
     },
     "execution_count": 132,
     "metadata": {},
     "output_type": "execute_result"
    }
   ],
   "source": [
    "val url1 = \"https://www.reddit.com/r/Android/hot/.json?count=10\"\n",
    "val url2 = \"https://www.chicagotribune.com/arcio/rss/category/sports/?query=display_date:[now-2d+TO+now]&sort=display_date:desc\""
   ]
  },
  {
   "cell_type": "code",
   "execution_count": 133,
   "id": "e76ea4b8-9ae4-475c-bae3-e481c33dcfac",
   "metadata": {
    "tags": []
   },
   "outputs": [
    {
     "data": {
      "text/plain": [
       "defined \u001b[32mclass\u001b[39m \u001b[36mURL_R\u001b[39m"
      ]
     },
     "execution_count": 133,
     "metadata": {},
     "output_type": "execute_result"
    }
   ],
   "source": [
    "abstract class URL_R{\n",
    "    \n",
    "    //Request HTTP\n",
    "    def get_body(url: String): String = {\n",
    "        try {\n",
    "            Http(url).timeout(connTimeoutMs = 2000, readTimeoutMs = 5000).asString.body\n",
    "        }\n",
    "        catch{\n",
    "            case e: Exception => \"\"   \n",
    "        }\n",
    "    }\n",
    "    \n",
    "    def parser(url: String): Seq[String]\n",
    "}"
   ]
  },
  {
   "cell_type": "code",
   "execution_count": 134,
   "id": "5fcc61e2-9561-41c9-ad93-460ab396e83c",
   "metadata": {
    "tags": []
   },
   "outputs": [
    {
     "data": {
      "text/plain": [
       "defined \u001b[32mclass\u001b[39m \u001b[36mRSS_Parse\u001b[39m"
      ]
     },
     "execution_count": 134,
     "metadata": {},
     "output_type": "execute_result"
    }
   ],
   "source": [
    "class RSS_Parse extends URL_R {\n",
    "    //Parse Rss\n",
    "    def parser(url: String): Seq[String] = {\n",
    "        val response = get_body(url)\n",
    "        response match {\n",
    "            case \"\" => Seq()\n",
    "            case _ => val xml = XML.loadString(response)\n",
    "                        // Extract text from title and description\n",
    "                        (xml \\\\ \"item\").map { item => ((item \\ \"title\").text + \" \" + (item \\ \"description\").text) }\n",
    "        }\n",
    "        \n",
    "    }\n",
    "}"
   ]
  },
  {
   "cell_type": "code",
   "execution_count": 135,
   "id": "51a161c6-14eb-4e66-b0e1-e2267c902114",
   "metadata": {
    "tags": []
   },
   "outputs": [
    {
     "data": {
      "text/plain": [
       "defined \u001b[32mclass\u001b[39m \u001b[36mREDDIT_Parse\u001b[39m"
      ]
     },
     "execution_count": 135,
     "metadata": {},
     "output_type": "execute_result"
    }
   ],
   "source": [
    "class REDDIT_Parse extends URL_R {\n",
    "    // Parse Reddit\n",
    "    def parser(url: String): Seq[String] = {\n",
    "        val response = get_body(url)\n",
    "        response match {\n",
    "            case \"\" => Seq()\n",
    "            case _ => val result = (parse(response) \\ \"data\" \\ \"children\" \\ \"data\")\n",
    "                         .extract[List[Map[String, Any]]]\n",
    "                    // Parsear JSON\n",
    "                    val filterContent = result.flatten.filter{case (v , _) => v == \"title\" || v == \"selftext\" }.map(x => x._2.toString)\n",
    "                    val pattern = \"(https?|ftp|file)://[-a-zA-Z0-9+&@#/%?=~_|!:,.;]*[-a-zA-Z0-9+&@#/%=~_|]\".r\n",
    "                    filterContent.map(x => pattern.replaceAllIn(x,\"\")).toSeq\n",
    "        }\n",
    "    }\n",
    "}"
   ]
  },
  {
   "cell_type": "code",
   "execution_count": 136,
   "id": "184d2a18-8e0e-4458-b8c7-59c1904f0e54",
   "metadata": {
    "collapsed": true,
    "jupyter": {
     "outputs_hidden": true
    },
    "tags": []
   },
   "outputs": [
    {
     "data": {
      "text/plain": [
       "\u001b[36mrss\u001b[39m: \u001b[32mRSS_Parse\u001b[39m = ammonite.$sess.cmd133$Helper$RSS_Parse@5893e6ce\n",
       "\u001b[36mrssT\u001b[39m: \u001b[32mSeq\u001b[39m[\u001b[32mString\u001b[39m] = \u001b[33mList\u001b[39m(\n",
       "  \u001b[32m\"4 things we heard from Chicago Bears defensive coaches, including the competition at cornerback and Eddie Goldman\\u2019s return from an opt-out year New Chicago Bears defensive coordinator Sean Desai and his revamped coaching staff will get their first chance to work with players on the field this weekend at rookie minicamp.\"\u001b[39m,\n",
       "  \u001b[32m\"After the Chicago Cubs won a team Gold Glove Award last season, a look at 4 reasons why their defense still is working to get back to elite form As the Chicago Cubs try to return to .500 this weekend in Detroit, it\\u2019s worth delving into a few factors manager David Ross identified that he believes have affected the team\\u2019s defensive performance.\"\u001b[39m,\n",
       "  \u001b[32m\"Prospect Henrik Borgstr\\u00f6m already has personal connections to the Chicago Blackhawks \\u2014 but the ones he\\u2019s building with coaches matter most  The Chicago Blackhawks have high hopes for center Henrik Borgstr\\u00f6m, who reached an agreement on a two-year contract that runs through 2022-23 and carries a $1 million annual cap hit. Borgstr\\u00f6m, 23, was the 23rd pick in the 2016 draft by the Florida Panthers.\"\u001b[39m,\n",
       "  \u001b[32m\"4 takeaways from the Chicago White Sox\\u2019s sweep of the Minnesota Twins, including contributions from regulars to role players and closer Liam Hendriks locking in Four takeaways from the Chicago White Sox\\u2019s three-game sweep of the Minnesota Twins at Guaranteed Rate Field, including how closer Liam Hendriks believes the team has climbed to the top of the American League Central.\"\u001b[39m,\n",
       "  \u001b[32m\"Cubs great Ryne Sandberg new spokesman for Chicago-based weed retailer Verilife, as marijuana goes fully mainstream Ryne Sandberg, the former Cubs great and baseball Hall of Famer, is the new spokesman for Chicago-based cannabis retailer Verilife, the surest sign yet that weed has become mainstream.\"\u001b[39m,\n",
       "  \u001b[32m\"Trap shooting is growing in popularity as a high school sport. In Illinois, students at 55 schools are participating. Trap shooting, a sport in which participants blast flying clay targets out of the sky, has over the last decade grown from a handful of schools in Minnesota to more than 1,000 across the country, including 55 in Illinois.\"\u001b[39m,\n",
       "  \u001b[32m\"The Chicago Fire stay winless with a 1-0 loss to D.C. United, failing to score for a 3rd straight game  Edison Flores scored his first MLS goal in the seventh minute, and D.C. United beat the Chicago Fire 1-0 on Thursday night. The Fire (0-4-1) are winless through five matches for the second time in club history and have not scored in three consecutive matches.\"\u001b[39m,\n",
       "  \u001b[32m\"The Chicago Bulls stave off postseason elimination with a 114-102 victory over the Toronto Raptors and set the stage for a critical weekend The Chicago Bulls lived to fight another day with a 114-102 victory Thursday night against the To\u001b[39m..."
      ]
     },
     "execution_count": 136,
     "metadata": {},
     "output_type": "execute_result"
    }
   ],
   "source": [
    "val rss = new RSS_Parse()\n",
    "val rssT = rss.parser(url2)"
   ]
  },
  {
   "cell_type": "code",
   "execution_count": 137,
   "id": "1eebc64a-cab4-4a77-a66c-4a35822fb263",
   "metadata": {
    "collapsed": true,
    "jupyter": {
     "outputs_hidden": true
    },
    "tags": []
   },
   "outputs": [
    {
     "data": {
      "text/plain": [
       "\u001b[36mreddit\u001b[39m: \u001b[32mREDDIT_Parse\u001b[39m = ammonite.$sess.cmd134$Helper$REDDIT_Parse@48123f5\n",
       "\u001b[36mredditT\u001b[39m: \u001b[32mSeq\u001b[39m[\u001b[32mString\u001b[39m] = \u001b[33mList\u001b[39m(\n",
       "  \u001b[32m\"\"\"**Credits to the team at /r/PickAnAndroidForMe for compiling this information:**\n",
       "\n",
       "* Home - \n",
       "\n",
       "* Smartphones 101 - \n",
       "\n",
       "* Top Phones - \n",
       "\n",
       "\n",
       "***        \n",
       "Note 1. Join us at /r/MoronicMondayAndroid, a sub serving as a repository for our retired weekly threads. Just pick any thread and Ctrl-F your way to wisdom! \n",
       "\n",
       "Note 2. Join our IRC, and Telegram chat-rooms! [Please see our wiki for instructions.]()\"\"\"\u001b[39m,\n",
       "  \u001b[32m\"What should I buy Thursday (May 13 2021) - Your weekly device inquiry thread!\"\u001b[39m,\n",
       "  \u001b[32m\"\"\"Hey /r/android, we had conducted a [feedback poll]() last year. We have decided to make a few revisions (mainly a preferential voting system) since some of the results were rather open-ended and did not present a clear solution. Participation on the last poll was also lower than anticipated since we only got about [930 responses]().\n",
       "\n",
       "NOTES\n",
       "\n",
       "* The poll was created via Google Forms and requires sign-in to prevent duplication of votes.\n",
       "\n",
       "* Most questions require a response although a few yes/no type questions are optional.\n",
       "\n",
       "* Email addresses aren't collected by the /r/android mod team.\n",
       "\n",
       "* Responses can be edited after they have been submitted.\n",
       "\n",
       "* The order of yes/no responses have been randomized.\n",
       "\n",
       "\u001b[39m..."
      ]
     },
     "execution_count": 137,
     "metadata": {},
     "output_type": "execute_result"
    }
   ],
   "source": [
    "val reddit = new REDDIT_Parse()\n",
    "val redditT = reddit.parser(url1)"
   ]
  },
  {
   "cell_type": "markdown",
   "id": "c0cd7c82-e1b7-400f-8781-ea8d1aeaf787",
   "metadata": {},
   "source": [
    "## 2. Detectar las entidades nombradas"
   ]
  },
  {
   "cell_type": "markdown",
   "id": "portable-tender",
   "metadata": {
    "tags": []
   },
   "source": [
    "### 2.1 Crear la clase encargada del modelo,contar,y ordenar Entidades\n",
    "\n",
    "Los metodos de esta clase son :\n",
    "\n",
    "getNEs(textList: Seq[String]) ---> Seq[Seq[String]] el cual que recibe una lista de textos y aplica el modelo, para cada texto, se separa las palabras del texto usando los espacios, y considera que es una entidad nombrada si empieza con mayúscula.\n",
    "\n",
    "count(textL : Seq[Seq[String]]) ---> Map[String,Int] el cual recibe el resultado de aplicar el modelo, devuelve la entidad junto las cantidad de veces que aparece nombrada\n",
    "\n",
    "sort(counts: Map[String,Int]) ---> List[(String, Int)] el cual ordena el resultado de contar las entidades"
   ]
  },
  {
   "cell_type": "code",
   "execution_count": 72,
   "id": "ef16a433-c5d0-4566-997e-dd9c9958d097",
   "metadata": {
    "tags": []
   },
   "outputs": [
    {
     "data": {
      "text/plain": [
       "defined \u001b[32mclass\u001b[39m \u001b[36mNERModel\u001b[39m"
      ]
     },
     "execution_count": 72,
     "metadata": {},
     "output_type": "execute_result"
    }
   ],
   "source": [
    "class NERModel() {\n",
    "    // Variables Necesarias para crear modelo\n",
    "    private val STOPWORDS = Seq (\n",
    "        \"i\", \"me\", \"my\", \"myself\", \"we\", \"our\", \"ours\", \"ourselves\", \"you\",\n",
    "        \"yours\", \"yourself\", \"yourselves\", \"he\", \"him\", \"his\", \"himself\", \"she\",\n",
    "        \"her\", \"hers\", \"herself\", \"it\", \"its\", \"itself\", \"they\", \"them\", \"your\",\n",
    "        \"their\", \"theirs\", \"themselves\", \"what\", \"which\", \"who\", \"whom\",\n",
    "        \"this\", \"that\", \"these\", \"those\", \"am\", \"is\", \"are\", \"was\", \"were\",\n",
    "        \"be\", \"been\", \"being\", \"have\", \"has\", \"had\", \"having\", \"do\", \"does\",\n",
    "        \"did\", \"doing\", \"a\", \"an\", \"the\", \"and\", \"but\", \"if\", \"or\",\n",
    "        \"because\", \"as\", \"until\", \"while\", \"of\", \"at\", \"by\", \"for\", \"with\",\n",
    "        \"about\", \"against\", \"between\", \"into\", \"through\", \"during\", \"before\",\n",
    "        \"after\", \"above\", \"below\", \"to\", \"from\", \"up\", \"down\", \"in\", \"out\",\n",
    "        \"off\", \"over\", \"under\", \"again\", \"further\", \"then\", \"once\", \"here\",\n",
    "        \"there\", \"when\", \"where\", \"why\", \"how\", \"all\", \"any\", \"both\", \"each\",\n",
    "        \"few\", \"more\", \"most\", \"other\", \"some\", \"such\", \"no\", \"nor\", \"not\",\n",
    "        \"only\", \"own\", \"same\", \"so\", \"than\", \"too\", \"very\", \"s\", \"t\", \"can\",\n",
    "        \"will\", \"just\", \"don\", \"should\", \"now\", \"on\",\n",
    "        // Contractions without '\n",
    "        \"im\", \"ive\", \"id\", \"Youre\", \"youd\", \"youve\",\n",
    "        \"hes\", \"hed\", \"shes\", \"shed\", \"itd\", \"were\", \"wed\", \"weve\",\n",
    "        \"theyre\", \"theyd\", \"theyve\",\n",
    "        \"shouldnt\", \"couldnt\", \"musnt\", \"cant\", \"wont\",\n",
    "        // Common uppercase words\n",
    "        \"hi\", \"hello\"\n",
    "    )\n",
    "    private val punctuationSymbols = \".,()!?;:'`´\\n\"\n",
    "    private val punctuationRegex = \"\\\\\" + punctuationSymbols.split(\"\").mkString(\"|\\\\\")\n",
    "    \n",
    "    // Aplicar el Modelo a los datos (simplemente es aplicar la funcion a la lista de textos)\n",
    "    private def getNEsSingle(text: String): Seq[String] =\n",
    "      text.replaceAll(punctuationRegex, \"\").split(\" \")\n",
    "        .filter { word:String => word.length > 1 &&\n",
    "                  Character.isUpperCase(word.charAt(0)) &&\n",
    "                  !STOPWORDS.contains(word.toLowerCase) }.toSeq\n",
    "\n",
    "    def getNEs(textList: Seq[String]): Seq[Seq[String]] = textList.map(getNEsSingle)\n",
    "    \n",
    "    // Contar las entidades\n",
    "    def count(textL : Seq[Seq[String]]): Map[String,Int] = {\n",
    "            textL.flatten.foldLeft(Map.empty[String, Int]) {\n",
    "             (count, word) => count + (word -> (count.getOrElse(word, 0) + 1)) }\n",
    "    }\n",
    "    //Ordenar Entidades\n",
    "    def sort(counts: Map[String,Int]): List[(String, Int)] = {\n",
    "        counts.toList\n",
    "          .sortBy(_._2)(Ordering[Int].reverse)\n",
    "    }\n",
    "}\n",
    "       "
   ]
  },
  {
   "cell_type": "code",
   "execution_count": 14,
   "id": "395a1734-f2d6-4b74-8dbe-5d7a5c765972",
   "metadata": {
    "tags": []
   },
   "outputs": [
    {
     "data": {
      "text/plain": [
       "\u001b[36mmodel\u001b[39m: \u001b[32mNERModel\u001b[39m = ammonite.$sess.cmd12$Helper$NERModel@2e0a535e"
      ]
     },
     "execution_count": 14,
     "metadata": {},
     "output_type": "execute_result"
    }
   ],
   "source": [
    "val model = new NERModel"
   ]
  },
  {
   "cell_type": "markdown",
   "id": "7e1f4f79-fb92-4b69-815b-ecf7fe556d1b",
   "metadata": {},
   "source": [
    "### 2.2 Aplicar el \"Modelo\" a los datos"
   ]
  },
  {
   "cell_type": "code",
   "execution_count": 15,
   "id": "6eb40c69-0bfe-4f37-87da-ba2078ecddd4",
   "metadata": {
    "collapsed": true,
    "jupyter": {
     "outputs_hidden": true
    },
    "tags": []
   },
   "outputs": [
    {
     "data": {
      "text/plain": [
       "\u001b[36mresult_rss\u001b[39m: \u001b[32mSeq\u001b[39m[\u001b[32mSeq\u001b[39m[\u001b[32mString\u001b[39m]] = \u001b[33mList\u001b[39m(\n",
       "  \u001b[33mArrayBuffer\u001b[39m(\n",
       "    \u001b[32m\"Chicago\"\u001b[39m,\n",
       "    \u001b[32m\"White\"\u001b[39m,\n",
       "    \u001b[32m\"Sox\"\u001b[39m,\n",
       "    \u001b[32m\"Minnesota\"\u001b[39m,\n",
       "    \u001b[32m\"Twins\"\u001b[39m,\n",
       "    \u001b[32m\"Chicago\"\u001b[39m,\n",
       "    \u001b[32m\"White\"\u001b[39m,\n",
       "    \u001b[32m\"Sox\"\u001b[39m,\n",
       "    \u001b[32m\"Minnesota\"\u001b[39m,\n",
       "    \u001b[32m\"Twins\"\u001b[39m,\n",
       "    \u001b[32m\"Thursday\"\u001b[39m,\n",
       "    \u001b[32m\"Guaranteed\"\u001b[39m,\n",
       "    \u001b[32m\"Rate\"\u001b[39m,\n",
       "    \u001b[32m\"Field\"\u001b[39m,\n",
       "    \u001b[32m\"Lance\"\u001b[39m,\n",
       "    \u001b[32m\"Lynn\"\u001b[39m\n",
       "  ),\n",
       "  \u001b[33mArrayBuffer\u001b[39m(\n",
       "    \u001b[32m\"Photos\"\u001b[39m,\n",
       "    \u001b[32m\"Chicago\"\u001b[39m,\n",
       "    \u001b[32m\"White\"\u001b[39m,\n",
       "    \u001b[32m\"Sox\"\u001b[39m,\n",
       "    \u001b[32m\"Minnesota\"\u001b[39m,\n",
       "    \u001b[32m\"Twins\"\u001b[39m,\n",
       "    \u001b[32m\"Photos\"\u001b[39m,\n",
       "    \u001b[32m\"Chicago\"\u001b[39m,\n",
       "    \u001b[32m\"White\"\u001b[39m,\n",
       "    \u001b[32m\"Soxs\"\u001b[39m,\n",
       "    \u001b[32m\"Minnesota\"\u001b[39m,\n",
       "    \u001b[32m\"Twins\"\u001b[39m,\n",
       "    \u001b[32m\"May\"\u001b[39m,\n",
       "    \u001b[32m\"Guaranteed\"\u001b[39m,\n",
       "    \u001b[32m\"Rate\"\u001b[39m,\n",
       "    \u001b[32m\"Field\"\u001b[39m,\n",
       "    \u001b[32m\"Sox\"\u001b[39m\n",
       "  ),\n",
       "  \u001b[33mArrayBuffer\u001b[39m(\u001b[32m\"Gleyber\"\u001b[39m, \u001b[32m\"Torres\"\u001b[39m, \u001b[32m\"Yankee\"\u001b[39m, \u001b[32m\"Yankees\"\u001b[39m, \u001b[32m\"Torres\"\u001b[39m),\n",
       "...\n",
       "\u001b[36mresult_reddit\u001b[39m: \u001b[32mSeq\u001b[39m[\u001b[32mSeq\u001b[39m[\u001b[32mString\u001b[39m]] = \u001b[33mList\u001b[39m(\n",
       "  \u001b[33mArrayBuffer\u001b[39m(\n",
       "    \u001b[32m\"Home\"\u001b[39m,\n",
       "    \u001b[32m\"Smartphones\"\u001b[39m,\n",
       "    \u001b[32m\"Top\"\u001b[39m,\n",
       "    \u001b[32m\"Phones\"\u001b[39m,\n",
       "    \u001b[32m\"Note\"\u001b[39m,\n",
       "    \u001b[32m\"Join\"\u001b[39m,\n",
       "    \u001b[32m\"Ctrl-F\"\u001b[39m,\n",
       "    \u001b[32m\"Note\"\u001b[39m,\n",
       "    \u001b[32m\"Join\"\u001b[39m,\n",
       "    \u001b[32m\"IRC\"\u001b[39m,\n",
       "    \u001b[32m\"Telegram\"\u001b[39m\n",
       "  ),\n",
       "  \u001b[33mArrayBuffer\u001b[39m(\u001b[32m\"Thursday\"\u001b[39m, \u001b[32m\"May\"\u001b[39m),\n",
       "  \u001b[33mArrayBuffer\u001b[39m(\n",
       "    \u001b[32m\"Hey\"\u001b[39m,\n",
       "    \u001b[32m\"Participation\"\u001b[39m,\n",
       "    \u001b[32m\"Google\"\u001b[39m,\n",
       "    \u001b[32m\"Forms\"\u001b[39m,\n",
       "    \u001b[32m\"Email\"\u001b[39m,\n",
       "    \u001b[32m\"Responses\"\u001b[39m,\n",
       "    \u001b[32m\"Well\"\u001b[39m,\n",
       "    \u001b[32m\"POLL]Edit\"\u001b[39m\n",
       "  ),\n",
       "  \u001b[33mArrayBuffer\u001b[39m(\u001b[32m\"Community\"\u001b[39m, \u001b[32m\"Feedback\"\u001b[39m, \u001b[32m\"Poll\"\u001b[39m, \u001b[32m\"February\"\u001b[39m),\n",
       "  \u001b[33mArrayBuffer\u001b[39m(),\n",
       "  \u001b[33mArrayBuffer\u001b[39m(\n",
       "    \u001b[32m\"Full\"\u001b[39m,\n",
       "    \u001b[32m\"Res\"\u001b[39m,\n",
       "    \u001b[32m\"Press\"\u001b[39m,\n",
       "    \u001b[32m\"Images\"\u001b[39m,\n",
       "    \u001b[32m\"Pixel\"\u001b[39m,\n",
       "    \u001b[32m\"Pixel\"\u001b[39m,\n",
       "    \u001b[32m\"Pro\"\u001b[39m,\n",
       "    \u001b[32m\"Jon\"\u001b[39m,\n",
       "    \u001b[32m\"Prosser\"\u001b[39m\n",
       "  ),\n",
       "  \u001b[33mArrayBuffer\u001b[39m(),\n",
       "..."
      ]
     },
     "execution_count": 15,
     "metadata": {},
     "output_type": "execute_result"
    }
   ],
   "source": [
    "val result_rss = model.getNEs(rssT)\n",
    "val result_reddit = model.getNEs(redditT)"
   ]
  },
  {
   "cell_type": "markdown",
   "id": "located-cookbook",
   "metadata": {
    "tags": []
   },
   "source": [
    "## 3. Contar y ordenar las entidades\n",
    "\n",
    "Concatenar todas las listas, contar cada Named Entity, y luego ordernar por frecuencia"
   ]
  },
  {
   "cell_type": "code",
   "execution_count": 16,
   "id": "dc1d260b-50c4-4783-a414-417375e7919a",
   "metadata": {
    "collapsed": true,
    "jupyter": {
     "outputs_hidden": true
    },
    "tags": []
   },
   "outputs": [
    {
     "data": {
      "text/plain": [
       "\u001b[36mcount_rss\u001b[39m: \u001b[32mMap\u001b[39m[\u001b[32mString\u001b[39m, \u001b[32mInt\u001b[39m] = \u001b[33mMap\u001b[39m(\n",
       "  \u001b[32m\"Rate\"\u001b[39m -> \u001b[32m6\u001b[39m,\n",
       "  \u001b[32m\"Nets\"\u001b[39m -> \u001b[32m3\u001b[39m,\n",
       "  \u001b[32m\"Gleyber\"\u001b[39m -> \u001b[32m2\u001b[39m,\n",
       "  \u001b[32m\"Corey\"\u001b[39m -> \u001b[32m2\u001b[39m,\n",
       "  \u001b[32m\"Polisky\"\u001b[39m -> \u001b[32m6\u001b[39m,\n",
       "  \u001b[32m\"Operations\"\u001b[39m -> \u001b[32m1\u001b[39m,\n",
       "  \u001b[32m\"Parker\"\u001b[39m -> \u001b[32m2\u001b[39m,\n",
       "  \u001b[32m\"Crawford\"\u001b[39m -> \u001b[32m2\u001b[39m,\n",
       "  \u001b[32m\"Bieber\"\u001b[39m -> \u001b[32m2\u001b[39m,\n",
       "  \u001b[32m\"OC\"\u001b[39m -> \u001b[32m1\u001b[39m,\n",
       "  \u001b[32m\"Yankee\"\u001b[39m -> \u001b[32m1\u001b[39m,\n",
       "  \u001b[32m\"Sky\"\u001b[39m -> \u001b[32m2\u001b[39m,\n",
       "  \u001b[32m\"Washington\"\u001b[39m -> \u001b[32m1\u001b[39m,\n",
       "  \u001b[32m\"Robert\"\u001b[39m -> \u001b[32m1\u001b[39m,\n",
       "  \u001b[32m\"Dach\\u2019s\"\u001b[39m -> \u001b[32m1\u001b[39m,\n",
       "  \u001b[32m\"Hockey\"\u001b[39m -> \u001b[32m1\u001b[39m,\n",
       "  \u001b[32m\"DeBrincat\\u2019s\"\u001b[39m -> \u001b[32m1\u001b[39m,\n",
       "  \u001b[32m\"President\"\u001b[39m -> \u001b[32m1\u001b[39m,\n",
       "  \u001b[32m\"Alex\"\u001b[39m -> \u001b[32m1\u001b[39m,\n",
       "  \u001b[32m\"Abreu\\u2019s\"\u001b[39m -> \u001b[32m1\u001b[39m,\n",
       "  \u001b[32m\"Shane\"\u001b[39m -> \u001b[32m2\u001b[39m,\n",
       "  \u001b[32m\"Finnish\"\u001b[39m -> \u001b[32m1\u001b[39m,\n",
       "  \u001b[32m\"COVID\"\u001b[39m -> \u001b[32m2\u001b[39m,\n",
       "  \u001b[32m\"Henrik\"\u001b[39m -> \u001b[32m2\u001b[39m,\n",
       "  \u001b[32m\"Toews\\u2019\"\u001b[39m -> \u001b[32m2\u001b[39m,\n",
       "  \u001b[32m\"ERA\"\u001b[39m -> \u001b[32m1\u001b[39m,\n",
       "  \u001b[32m\"Bortles\"\u001b[39m -> \u001b[32m1\u001b[39m,\n",
       "  \u001b[32m\"Baldwin\"\u001b[39m -> \u001b[32m2\u001b[39m,\n",
       "  \u001b[32m\"Andrew\"\u001b[39m -> \u001b[32m2\u001b[39m,\n",
       "  \u001b[32m\"Stanley\"\u001b[39m -> \u001b[32m1\u001b[39m,\n",
       "  \u001b[32m\"MVP\"\u001b[39m -> \u001b[32m1\u001b[39m,\n",
       "  \u001b[32m\"Jim\\u00e9nez\"\u001b[39m -> \u001b[32m1\u001b[39m,\n",
       "  \u001b[32m\"Kane\\u2019s\"\u001b[39m -> \u001b[32m2\u001b[39m,\n",
       "  \u001b[32m\"Minnesota\"\u001b[39m -> \u001b[32m12\u001b[39m,\n",
       "  \u001b[32m\"Mike\"\u001b[39m -> \u001b[32m6\u001b[39m,\n",
       "  \u001b[32m\"Matt\"\u001b[39m -> \u001b[32m2\u001b[39m,\n",
       "  \u001b[32m\"WNBA\\u2019s\"\u001b[39m -> \u001b[32m1\u001b[39m,\n",
       "  \u001b[32m\"Guaranteed\"\u001b[39m -> \u001b[32m6\u001b[39m,\n",
       "...\n",
       "\u001b[36mcount_reddit\u001b[39m: \u001b[32mMap\u001b[39m[\u001b[32mString\u001b[39m, \u001b[32mInt\u001b[39m] = \u001b[33mMap\u001b[39m(\n",
       "  \u001b[32m\"Participation\"\u001b[39m -> \u001b[32m1\u001b[39m,\n",
       "  \u001b[32m\"Easier\"\u001b[39m -> \u001b[32m1\u001b[39m,\n",
       "  \u001b[32m\"Use\"\u001b[39m -> \u001b[32m1\u001b[39m,\n",
       "  \u001b[32m\"Well\"\u001b[39m -> \u001b[32m1\u001b[39m,\n",
       "  \u001b[32m\"Feedback\"\u001b[39m -> \u001b[32m1\u001b[39m,\n",
       "  \u001b[32m\"February\"\u001b[39m -> \u001b[32m1\u001b[39m,\n",
       "  \u001b[32m\"Central-\"\u001b[39m -> \u001b[32m1\u001b[39m,\n",
       "  \u001b[32m\"Zenfone\"\u001b[39m -> \u001b[32m8\u001b[39m,\n",
       "  \u001b[32m\"Xperia\"\u001b[39m -> \u001b[32m1\u001b[39m,\n",
       "  \u001b[32m\"IP68\"\u001b[39m -> \u001b[32m1\u001b[39m,\n",
       "  \u001b[32m\"Buds\"\u001b[39m -> \u001b[32m1\u001b[39m,\n",
       "  \u001b[32m\"PSA\"\u001b[39m -> \u001b[32m1\u001b[39m,\n",
       "  \u001b[32m\"PowerShell\"\u001b[39m -> \u001b[32m1\u001b[39m,\n",
       "  \u001b[32m\"Phones\"\u001b[39m -> \u001b[32m1\u001b[39m,\n",
       "  \u001b[32m\"Ctrl-F\"\u001b[39m -> \u001b[32m1\u001b[39m,\n",
       "  \u001b[32m\"Galaxy\"\u001b[39m -> \u001b[32m3\u001b[39m,\n",
       "  \u001b[32m\"Note\"\u001b[39m -> \u001b[32m2\u001b[39m,\n",
       "  \u001b[32m\"Agrees\"\u001b[39m -> \u001b[32m1\u001b[39m,\n",
       "  \u001b[32m\"Xiaomi\"\u001b[39m -> \u001b[32m2\u001b[39m,\n",
       "  \u001b[32m\"Gboard\"\u001b[39m -> \u001b[32m1\u001b[39m,\n",
       "  \u001b[32m\"Assistant\"\u001b[39m -> \u001b[32m1\u001b[39m,\n",
       "  \u001b[32m\"Authority-\"\u001b[39m -> \u001b[32m1\u001b[39m,\n",
       "  \u001b[32m\"Anything\"\u001b[39m -> \u001b[32m1\u001b[39m,\n",
       "  \u001b[32m\"US\"\u001b[39m -> \u001b[32m2\u001b[39m,\n",
       "  \u001b[32m\"Poll\"\u001b[39m -> \u001b[32m1\u001b[39m,\n",
       "  \u001b[32m\"Leak\"\u001b[39m -> \u001b[32m1\u001b[39m,\n",
       "  \u001b[32m\"Ill\"\u001b[39m -> \u001b[32m1\u001b[39m,\n",
       "  \u001b[32m\"Community\"\u001b[39m -> \u001b[32m1\u001b[39m,\n",
       "  \u001b[32m\"Multi\"\u001b[39m -> \u001b[32m1\u001b[39m,\n",
       "  \u001b[32m\"ZenFone\"\u001b[39m -> \u001b[32m6\u001b[39m,\n",
       "  \u001b[32m\"Pixel\"\u001b[39m -> \u001b[32m3\u001b[39m,\n",
       "  \u001b[32m\"Forms\"\u001b[39m -> \u001b[32m1\u001b[39m,\n",
       "  \u001b[32m\"Asus\"\u001b[39m -> \u001b[32m4\u001b[39m,\n",
       "  \u001b[32m\"Circuit-\"\u001b[39m -> \u001b[32m1\u001b[39m,\n",
       "  \u001b[32m\"ADB\"\u001b[39m -> \u001b[32m1\u001b[39m,\n",
       "  \u001b[32m\"Remove\"\u001b[39m -> \u001b[32m1\u001b[39m,\n",
       "  \u001b[32m\"Wireless\"\u001b[39m -> \u001b[32m1\u001b[39m,\n",
       "  \u001b[32m\"Top\"\u001b[39m -> \u001b[32m1\u001b[39m,\n",
       "..."
      ]
     },
     "execution_count": 16,
     "metadata": {},
     "output_type": "execute_result"
    }
   ],
   "source": [
    "val count_rss = model.count(result_rss)\n",
    "val count_reddit = model.count(result_reddit)"
   ]
  },
  {
   "cell_type": "code",
   "execution_count": 17,
   "id": "0cd437f1-b1a5-4e2a-86bf-0d74bb283d7b",
   "metadata": {
    "collapsed": true,
    "jupyter": {
     "outputs_hidden": true
    },
    "tags": []
   },
   "outputs": [
    {
     "data": {
      "text/plain": [
       "\u001b[36msort_rss\u001b[39m: \u001b[32mList\u001b[39m[(\u001b[32mString\u001b[39m, \u001b[32mInt\u001b[39m)] = \u001b[33mList\u001b[39m(\n",
       "  (\u001b[32m\"Chicago\"\u001b[39m, \u001b[32m46\u001b[39m),\n",
       "  (\u001b[32m\"White\"\u001b[39m, \u001b[32m18\u001b[39m),\n",
       "  (\u001b[32m\"Sox\"\u001b[39m, \u001b[32m18\u001b[39m),\n",
       "  (\u001b[32m\"Minnesota\"\u001b[39m, \u001b[32m12\u001b[39m),\n",
       "  (\u001b[32m\"Twins\"\u001b[39m, \u001b[32m12\u001b[39m),\n",
       "  (\u001b[32m\"Blackhawks\"\u001b[39m, \u001b[32m11\u001b[39m),\n",
       "  (\u001b[32m\"Photos\"\u001b[39m, \u001b[32m8\u001b[39m),\n",
       "  (\u001b[32m\"Cubs\"\u001b[39m, \u001b[32m7\u001b[39m),\n",
       "  (\u001b[32m\"Bears\"\u001b[39m, \u001b[32m7\u001b[39m),\n",
       "  (\u001b[32m\"Rate\"\u001b[39m, \u001b[32m6\u001b[39m),\n",
       "  (\u001b[32m\"Polisky\"\u001b[39m, \u001b[32m6\u001b[39m),\n",
       "  (\u001b[32m\"Mike\"\u001b[39m, \u001b[32m6\u001b[39m),\n",
       "  (\u001b[32m\"Guaranteed\"\u001b[39m, \u001b[32m6\u001b[39m),\n",
       "  (\u001b[32m\"Field\"\u001b[39m, \u001b[32m6\u001b[39m),\n",
       "  (\u001b[32m\"NFL\"\u001b[39m, \u001b[32m6\u001b[39m),\n",
       "  (\u001b[32m\"Bulls\"\u001b[39m, \u001b[32m6\u001b[39m),\n",
       "  (\u001b[32m\"Patrick\"\u001b[39m, \u001b[32m5\u001b[39m),\n",
       "  (\u001b[32m\"May\"\u001b[39m, \u001b[32m5\u001b[39m),\n",
       "  (\u001b[32m\"Northwestern\"\u001b[39m, \u001b[32m5\u001b[39m),\n",
       "  (\u001b[32m\"Tuesday\"\u001b[39m, \u001b[32m4\u001b[39m),\n",
       "  (\u001b[32m\"COVID-19\"\u001b[39m, \u001b[32m4\u001b[39m),\n",
       "  (\u001b[32m\"Fields\"\u001b[39m, \u001b[32m4\u001b[39m),\n",
       "  (\u001b[32m\"Soxs\"\u001b[39m, \u001b[32m4\u001b[39m),\n",
       "  (\u001b[32m\"Justin\"\u001b[39m, \u001b[32m4\u001b[39m),\n",
       "  (\u001b[32m\"Cleveland\"\u001b[39m, \u001b[32m4\u001b[39m),\n",
       "  (\u001b[32m\"Indians\"\u001b[39m, \u001b[32m4\u001b[39m),\n",
       "  (\u001b[32m\"Nets\"\u001b[39m, \u001b[32m3\u001b[39m),\n",
       "  (\u001b[32m\"Wednesday\"\u001b[39m, \u001b[32m3\u001b[39m),\n",
       "  (\u001b[32m\"Brooklyn\"\u001b[39m, \u001b[32m3\u001b[39m),\n",
       "  (\u001b[32m\"Alzolay\"\u001b[39m, \u001b[32m3\u001b[39m),\n",
       "  (\u001b[32m\"Torres\"\u001b[39m, \u001b[32m3\u001b[39m),\n",
       "  (\u001b[32m\"Milwaukee\"\u001b[39m, \u001b[32m3\u001b[39m),\n",
       "  (\u001b[32m\"Friday\"\u001b[39m, \u001b[32m3\u001b[39m),\n",
       "  (\u001b[32m\"Stan\"\u001b[39m, \u001b[32m3\u001b[39m),\n",
       "  (\u001b[32m\"Zach\"\u001b[39m, \u001b[32m3\u001b[39m),\n",
       "  (\u001b[32m\"Yankees\"\u001b[39m, \u001b[32m3\u001b[39m),\n",
       "  (\u001b[32m\"Bowman\"\u001b[39m, \u001b[32m3\u001b[39m),\n",
       "  (\u001b[32m\"Jonathan\"\u001b[39m, \u001b[32m3\u001b[39m),\n",
       "...\n",
       "\u001b[36msort_reddit\u001b[39m: \u001b[32mList\u001b[39m[(\u001b[32mString\u001b[39m, \u001b[32mInt\u001b[39m)] = \u001b[33mList\u001b[39m(\n",
       "  (\u001b[32m\"Flip\"\u001b[39m, \u001b[32m10\u001b[39m),\n",
       "  (\u001b[32m\"Zenfone\"\u001b[39m, \u001b[32m8\u001b[39m),\n",
       "  (\u001b[32m\"Google\"\u001b[39m, \u001b[32m8\u001b[39m),\n",
       "  (\u001b[32m\"ZenFone\"\u001b[39m, \u001b[32m6\u001b[39m),\n",
       "  (\u001b[32m\"Asus\"\u001b[39m, \u001b[32m4\u001b[39m),\n",
       "  (\u001b[32m\"Android\"\u001b[39m, \u001b[32m4\u001b[39m),\n",
       "  (\u001b[32m\"Galaxy\"\u001b[39m, \u001b[32m3\u001b[39m),\n",
       "  (\u001b[32m\"Pixel\"\u001b[39m, \u001b[32m3\u001b[39m),\n",
       "  (\u001b[32m\"ASUS\"\u001b[39m, \u001b[32m3\u001b[39m),\n",
       "  (\u001b[32m\"Note\"\u001b[39m, \u001b[32m2\u001b[39m),\n",
       "  (\u001b[32m\"Xiaomi\"\u001b[39m, \u001b[32m2\u001b[39m),\n",
       "  (\u001b[32m\"US\"\u001b[39m, \u001b[32m2\u001b[39m),\n",
       "  (\u001b[32m\"Hey\"\u001b[39m, \u001b[32m2\u001b[39m),\n",
       "  (\u001b[32m\"Pro\"\u001b[39m, \u001b[32m2\u001b[39m),\n",
       "  (\u001b[32m\"Europe\"\u001b[39m, \u001b[32m2\u001b[39m),\n",
       "  (\u001b[32m\"Camera\"\u001b[39m, \u001b[32m2\u001b[39m),\n",
       "  (\u001b[32m\"Samsung\"\u001b[39m, \u001b[32m2\u001b[39m),\n",
       "  (\u001b[32m\"Join\"\u001b[39m, \u001b[32m2\u001b[39m),\n",
       "  (\u001b[32m\"Participation\"\u001b[39m, \u001b[32m1\u001b[39m),\n",
       "  (\u001b[32m\"Easier\"\u001b[39m, \u001b[32m1\u001b[39m),\n",
       "  (\u001b[32m\"Use\"\u001b[39m, \u001b[32m1\u001b[39m),\n",
       "  (\u001b[32m\"Well\"\u001b[39m, \u001b[32m1\u001b[39m),\n",
       "  (\u001b[32m\"Feedback\"\u001b[39m, \u001b[32m1\u001b[39m),\n",
       "  (\u001b[32m\"February\"\u001b[39m, \u001b[32m1\u001b[39m),\n",
       "  (\u001b[32m\"Central-\"\u001b[39m, \u001b[32m1\u001b[39m),\n",
       "  (\u001b[32m\"Xperia\"\u001b[39m, \u001b[32m1\u001b[39m),\n",
       "  (\u001b[32m\"IP68\"\u001b[39m, \u001b[32m1\u001b[39m),\n",
       "  (\u001b[32m\"Buds\"\u001b[39m, \u001b[32m1\u001b[39m),\n",
       "  (\u001b[32m\"PSA\"\u001b[39m, \u001b[32m1\u001b[39m),\n",
       "  (\u001b[32m\"PowerShell\"\u001b[39m, \u001b[32m1\u001b[39m),\n",
       "  (\u001b[32m\"Phones\"\u001b[39m, \u001b[32m1\u001b[39m),\n",
       "  (\u001b[32m\"Ctrl-F\"\u001b[39m, \u001b[32m1\u001b[39m),\n",
       "  (\u001b[32m\"Agrees\"\u001b[39m, \u001b[32m1\u001b[39m),\n",
       "  (\u001b[32m\"Gboard\"\u001b[39m, \u001b[32m1\u001b[39m),\n",
       "  (\u001b[32m\"Assistant\"\u001b[39m, \u001b[32m1\u001b[39m),\n",
       "  (\u001b[32m\"Authority-\"\u001b[39m, \u001b[32m1\u001b[39m),\n",
       "  (\u001b[32m\"Anything\"\u001b[39m, \u001b[32m1\u001b[39m),\n",
       "  (\u001b[32m\"Poll\"\u001b[39m, \u001b[32m1\u001b[39m),\n",
       "..."
      ]
     },
     "execution_count": 17,
     "metadata": {},
     "output_type": "execute_result"
    }
   ],
   "source": [
    "val sort_rss = model.sort(count_rss)\n",
    "val sort_reddit = model.sort(count_reddit)"
   ]
  },
  {
   "cell_type": "markdown",
   "id": "313f1d84-8f6a-4c00-9a62-a0902a22d09c",
   "metadata": {
    "tags": []
   },
   "source": [
    "## 4. FeedService\n"
   ]
  },
  {
   "cell_type": "code",
   "execution_count": 83,
   "id": "381d9816-add1-456f-9604-1006b9d755b1",
   "metadata": {
    "scrolled": true,
    "tags": []
   },
   "outputs": [
    {
     "data": {
      "text/plain": [
       "defined \u001b[32mclass\u001b[39m \u001b[36mFeedService\u001b[39m"
      ]
     },
     "execution_count": 83,
     "metadata": {},
     "output_type": "execute_result"
    }
   ],
   "source": [
    "class FeedService(){\n",
    "    //Variable donde almacenar las suscripciones\n",
    "    \n",
    "    private val buffer = new ListBuffer[(String,URL_R)]()\n",
    "    private val word = \"%s\".r\n",
    "    //Guardar un registro de las URL, y opcionalmente sus parámetros, suscriptas.\n",
    "    def suscribe(url: String, param: List[String], t: URL_R) : Unit= {\n",
    "        param match {\n",
    "            case Nil =>\n",
    "                buffer.append((url,t))\n",
    "            case param =>\n",
    "                val url_t = param.map(x => word.replaceFirstIn(url,x)).map(x => (x,t))\n",
    "                buffer ++= url_t\n",
    "        }\n",
    "    }\n",
    "    \n",
    "    //Obtener los feeds\n",
    "    def get_feed(): Seq[Seq[String]] = {\n",
    "        val toSeq = buffer.toSeq\n",
    "        toSeq.map{ x => x._2.parser(x._1)}\n",
    "    }\n",
    "    \n",
    "    //Compilar el resultado de cada una en una única lista\n",
    "    def get_result(feed: Seq[Seq[String]]): Seq[String] = {\n",
    "        feed.flatten\n",
    "    }\n",
    "    \n",
    "}"
   ]
  },
  {
   "cell_type": "code",
   "execution_count": 84,
   "id": "2a111e82-52cc-4255-93ef-fcdb4c425a79",
   "metadata": {
    "scrolled": true,
    "tags": []
   },
   "outputs": [
    {
     "data": {
      "text/plain": [
       "\u001b[36mfeed_service\u001b[39m: \u001b[32mFeedService\u001b[39m = ammonite.$sess.cmd82$Helper$FeedService@7b225695\n",
       "\u001b[36murl3\u001b[39m: \u001b[32mString\u001b[39m = \u001b[32m\"https://rss.nytimes.com/services/xml/rss/nyt/%s.xml\"\u001b[39m\n",
       "\u001b[36murl4\u001b[39m: \u001b[32mString\u001b[39m = \u001b[32m\"https://www.chicagotribune.com/arcio/rss/category/%s/?query=display_date:[now-2d+TO+now]&sort=display_date:desc\"\u001b[39m\n",
       "\u001b[36murl5\u001b[39m: \u001b[32mString\u001b[39m = \u001b[32m\"https://www.reddit.com/r/%s/hot/.json?count=10\"\u001b[39m"
      ]
     },
     "execution_count": 84,
     "metadata": {},
     "output_type": "execute_result"
    }
   ],
   "source": [
    "val feed_service = new FeedService()\n",
    "val url3 = \"https://rss.nytimes.com/services/xml/rss/nyt/%s.xml\"\n",
    "val url4 = \"https://www.chicagotribune.com/arcio/rss/category/%s/?query=display_date:[now-2d+TO+now]&sort=display_date:desc\"\n",
    "val url5 = \"https://www.reddit.com/r/%s/hot/.json?count=10\""
   ]
  },
  {
   "cell_type": "code",
   "execution_count": 85,
   "id": "35c24979-f99b-428f-8ab3-259708c9300e",
   "metadata": {
    "scrolled": true,
    "tags": []
   },
   "outputs": [],
   "source": [
    "feed_service.suscribe(url3, List[String](\"Business\",\"Technology\"), new RSS_Parse())\n",
    "feed_service.suscribe(url4, List[String](\"sports\",\"business\"), new RSS_Parse())\n",
    "feed_service.suscribe(url5, List[String](\"Android\"), new REDDIT_Parse())\n",
    "feed_service.suscribe(url2, List[String](), new RSS_Parse())"
   ]
  },
  {
   "cell_type": "code",
   "execution_count": 86,
   "id": "40c40254-a850-4026-ad52-87e14771c10a",
   "metadata": {
    "scrolled": true,
    "tags": []
   },
   "outputs": [
    {
     "data": {
      "text/plain": [
       "\u001b[36mget_feed\u001b[39m: \u001b[32mSeq\u001b[39m[\u001b[32mSeq\u001b[39m[\u001b[32mString\u001b[39m]] = \u001b[33mList\u001b[39m(\n",
       "  \u001b[33mList\u001b[39m(\n",
       "    \u001b[32m\"Looking for Bipartisan Accord? Just Ask About Big Business. In surveys and political discourse, Republicans are increasingly critical of corporations, but not for the reasons Democrats have long held that view.Delta is among the corporations that have drawn fire from Republicans for taking stands against Georgia\\u2019s new voting law after protests.\"\u001b[39m,\n",
       "    \u001b[32m\"He\\u2019s a Dogecoin Millionaire. And He\\u2019s Not Selling. Glauber Contessoto went looking for something that could change his fortunes overnight. He found it in a joke cryptocurrency.Glauber Contessoto believes deeply in Dogecoin.\"\u001b[39m,\n",
       "    \u001b[32m\"Retail Sales Were Flat in April Retail sales held steady in April after rising 10.7 percent the previous month, as Americans continued to spend government stimulus payments.Shoppers in New York this week. Retail sales were flat in April from the prior month.\"\u001b[39m,\n",
       "    \u001b[32m\"How to Navigate a Hot Housing Market Competition for homes in many cities is leading potential buyers to take steps they may not have considered a short time ago, including waiving the inspection.\"\u001b[39m,\n",
       "    \u001b[32m\"How a Bank of America Executive Created a Tense Work Culture Thomas K. Montag, the bank\\u2019s No. 2 executive, has long run its markets and corporate banking division with favoritism and an iron fist, employees say.\"\u001b[39m,\n",
       "    \u001b[32m\"Lies on Social Media Inflame Israeli-Palestinian Conflict Misinformation has flourished on Twitter, TikTok, Facebook and other social media about the violence between Israelis and Palestinians.The Al Shrouq building in central Gaza, which hosts offices for media outlets and companies, was destroyed during Israeli airstrikes on Wednesday.\"\u001b[39m,\n",
       "    \u001b[32m\"Faith-Based Investing Makes Up Ground in Gains and Convenience Investing according to theological beliefs \\u201cis much easier to do now,\\u201d a wealth adviser said. It\\u2019s also as profitable as investing without a religious screen, and no more risky.Faraz Ahmed, head of the online help platform at Google, said his portfolio for years was focused on stocks to avoid the Islamic prohibition against interest. But he worried that was too risky.\"\u001b[39m,\n",
       "    \u001b[32m\"As Trillions Flow Out the Door, Stimulus Oversight Faces Challenges A sprawling system meant to police trillions of dollars is showing signs of strain as watchdogs warn of waste, fraud and abuse.President Biden has two more multitrillion-dollar packages, including a $2.3 trillion infrastructure proposal that would require an entirely new system of oversight safeguards.\"\u001b[39m,\n",
       "    \u001b[32m\"Middle-Class Pay Lost Pace. Is Washington to Blame? A new paper by liberal economists presents evidence that policymakers helped hold down wages for four decades.An event to help with unemployment claims in Tulsa, Okla. A study found t\u001b[39m..."
      ]
     },
     "execution_count": 86,
     "metadata": {},
     "output_type": "execute_result"
    }
   ],
   "source": [
    "val get_feed = feed_service.get_feed"
   ]
  },
  {
   "cell_type": "code",
   "execution_count": 88,
   "id": "21db7f59-7427-4894-90bd-6c0f98df53f7",
   "metadata": {
    "scrolled": true,
    "tags": []
   },
   "outputs": [
    {
     "data": {
      "text/plain": [
       "\u001b[36mget_result\u001b[39m: \u001b[32mSeq\u001b[39m[\u001b[32mString\u001b[39m] = \u001b[33mList\u001b[39m(\n",
       "  \u001b[32m\"Looking for Bipartisan Accord? Just Ask About Big Business. In surveys and political discourse, Republicans are increasingly critical of corporations, but not for the reasons Democrats have long held that view.Delta is among the corporations that have drawn fire from Republicans for taking stands against Georgia\\u2019s new voting law after protests.\"\u001b[39m,\n",
       "  \u001b[32m\"He\\u2019s a Dogecoin Millionaire. And He\\u2019s Not Selling. Glauber Contessoto went looking for something that could change his fortunes overnight. He found it in a joke cryptocurrency.Glauber Contessoto believes deeply in Dogecoin.\"\u001b[39m,\n",
       "  \u001b[32m\"Retail Sales Were Flat in April Retail sales held steady in April after rising 10.7 percent the previous month, as Americans continued to spend government stimulus payments.Shoppers in New York this week. Retail sales were flat in April from the prior month.\"\u001b[39m,\n",
       "  \u001b[32m\"How to Navigate a Hot Housing Market Competition for homes in many cities is leading potential buyers to take steps they may not have considered a short time ago, including waiving the inspection.\"\u001b[39m,\n",
       "  \u001b[32m\"How a Bank of America Executive Created a Tense Work Culture Thomas K. Montag, the bank\\u2019s No. 2 executive, has long run its markets and corporate banking division with favoritism and an iron fist, employees say.\"\u001b[39m,\n",
       "  \u001b[32m\"Lies on Social Media Inflame Israeli-Palestinian Conflict Misinformation has flourished on Twitter, TikTok, Facebook and other social media about the violence between Israelis and Palestinians.The Al Shrouq building in central Gaza, which hosts offices for media outlets and companies, was destroyed during Israeli airstrikes on Wednesday.\"\u001b[39m,\n",
       "  \u001b[32m\"Faith-Based Investing Makes Up Ground in Gains and Convenience Investing according to theological beliefs \\u201cis much easier to do now,\\u201d a wealth adviser said. It\\u2019s also as profitable as investing without a religious screen, and no more risky.Faraz Ahmed, head of the online help platform at Google, said his portfolio for years was focused on stocks to avoid the Islamic prohibition against interest. But he worried that was too risky.\"\u001b[39m,\n",
       "  \u001b[32m\"As Trillions Flow Out the Door, Stimulus Oversight Faces Challenges A sprawling system meant to police trillions of dollars is showing signs of strain as watchdogs warn of waste, fraud and abuse.President Biden has two more multitrillion-dollar packages, including a $2.3 trillion infrastructure proposal that would require an entirely new system of oversight safeguards.\"\u001b[39m,\n",
       "  \u001b[32m\"Middle-Class Pay Lost Pace. Is Washington to Blame? A new paper by liberal economists presents evidence that policymakers helped hold down wages for four decades.An event to help with unemployment claims in Tulsa, Okla. A study found that policy decisions, not technology, may have done the most to suppress wages for\u001b[39m..."
      ]
     },
     "execution_count": 88,
     "metadata": {},
     "output_type": "execute_result"
    }
   ],
   "source": [
    "val get_result = feed_service.get_result(get_feed)"
   ]
  },
  {
   "cell_type": "code",
   "execution_count": 89,
   "id": "f30c9297-2763-4bff-af5e-bae38c0e42b7",
   "metadata": {},
   "outputs": [
    {
     "data": {
      "text/plain": [
       "\u001b[36mmodel_N\u001b[39m: \u001b[32mNERModel\u001b[39m = ammonite.$sess.cmd71$Helper$NERModel@10b03898"
      ]
     },
     "execution_count": 89,
     "metadata": {},
     "output_type": "execute_result"
    }
   ],
   "source": [
    "val model_N = new NERModel"
   ]
  },
  {
   "cell_type": "code",
   "execution_count": 90,
   "id": "6ca9d8a9-daf4-4cd2-be53-1b5c59175314",
   "metadata": {
    "tags": []
   },
   "outputs": [
    {
     "data": {
      "text/plain": [
       "\u001b[36mdo_model\u001b[39m: \u001b[32mSeq\u001b[39m[\u001b[32mSeq\u001b[39m[\u001b[32mString\u001b[39m]] = \u001b[33mList\u001b[39m(\n",
       "  \u001b[33mArrayBuffer\u001b[39m(\n",
       "    \u001b[32m\"Looking\"\u001b[39m,\n",
       "    \u001b[32m\"Bipartisan\"\u001b[39m,\n",
       "    \u001b[32m\"Accord\"\u001b[39m,\n",
       "    \u001b[32m\"Ask\"\u001b[39m,\n",
       "    \u001b[32m\"Big\"\u001b[39m,\n",
       "    \u001b[32m\"Business\"\u001b[39m,\n",
       "    \u001b[32m\"Republicans\"\u001b[39m,\n",
       "    \u001b[32m\"Democrats\"\u001b[39m,\n",
       "    \u001b[32m\"Republicans\"\u001b[39m,\n",
       "    \u001b[32m\"Georgia\\u2019s\"\u001b[39m\n",
       "  ),\n",
       "  \u001b[33mArrayBuffer\u001b[39m(\n",
       "    \u001b[32m\"He\\u2019s\"\u001b[39m,\n",
       "    \u001b[32m\"Dogecoin\"\u001b[39m,\n",
       "    \u001b[32m\"Millionaire\"\u001b[39m,\n",
       "    \u001b[32m\"He\\u2019s\"\u001b[39m,\n",
       "    \u001b[32m\"Selling\"\u001b[39m,\n",
       "    \u001b[32m\"Glauber\"\u001b[39m,\n",
       "    \u001b[32m\"Contessoto\"\u001b[39m,\n",
       "    \u001b[32m\"Contessoto\"\u001b[39m,\n",
       "    \u001b[32m\"Dogecoin\"\u001b[39m\n",
       "  ),\n",
       "  \u001b[33mArrayBuffer\u001b[39m(\n",
       "    \u001b[32m\"Retail\"\u001b[39m,\n",
       "    \u001b[32m\"Sales\"\u001b[39m,\n",
       "    \u001b[32m\"Flat\"\u001b[39m,\n",
       "    \u001b[32m\"April\"\u001b[39m,\n",
       "    \u001b[32m\"Retail\"\u001b[39m,\n",
       "    \u001b[32m\"April\"\u001b[39m,\n",
       "    \u001b[32m\"Americans\"\u001b[39m,\n",
       "    \u001b[32m\"New\"\u001b[39m,\n",
       "    \u001b[32m\"York\"\u001b[39m,\n",
       "    \u001b[32m\"Retail\"\u001b[39m,\n",
       "    \u001b[32m\"April\"\u001b[39m\n",
       "  ),\n",
       "  \u001b[33mArrayBuffer\u001b[39m(\u001b[32m\"Navigate\"\u001b[39m, \u001b[32m\"Hot\"\u001b[39m, \u001b[32m\"Housing\"\u001b[39m, \u001b[32m\"Market\"\u001b[39m, \u001b[32m\"Competition\"\u001b[39m),\n",
       "  \u001b[33mArrayBuffer\u001b[39m(\n",
       "...\n",
       "\u001b[36mdo_count\u001b[39m: \u001b[32mMap\u001b[39m[\u001b[32mString\u001b[39m, \u001b[32mInt\u001b[39m] = \u001b[33mMap\u001b[39m(\n",
       "  \u001b[32m\"Thing\"\u001b[39m -> \u001b[32m2\u001b[39m,\n",
       "  \u001b[32m\"Talk\"\u001b[39m -> \u001b[32m1\u001b[39m,\n",
       "  \u001b[32m\"Much\"\u001b[39m -> \u001b[32m1\u001b[39m,\n",
       "  \u001b[32m\"Gcam\"\u001b[39m -> \u001b[32m1\u001b[39m,\n",
       "  \u001b[32m\"Dies\"\u001b[39m -> \u001b[32m1\u001b[39m,\n",
       "  \u001b[32m\"Rate\"\u001b[39m -> \u001b[32m10\u001b[39m,\n",
       "  \u001b[32m\"Amateur\"\u001b[39m -> \u001b[32m1\u001b[39m,\n",
       "  \u001b[32m\"Laws\"\u001b[39m -> \u001b[32m1\u001b[39m,\n",
       "  \u001b[32m\"Citing\"\u001b[39m -> \u001b[32m1\u001b[39m,\n",
       "  \u001b[32m\"Covid-19\"\u001b[39m -> \u001b[32m1\u001b[39m,\n",
       "  \u001b[32m\"Term\"\u001b[39m -> \u001b[32m1\u001b[39m,\n",
       "  \u001b[32m\"WHOA\"\u001b[39m -> \u001b[32m1\u001b[39m,\n",
       "  \u001b[32m\"Comes\"\u001b[39m -> \u001b[32m1\u001b[39m,\n",
       "  \u001b[32m\"Ahmed\"\u001b[39m -> \u001b[32m1\u001b[39m,\n",
       "  \u001b[32m\"Says\"\u001b[39m -> \u001b[32m1\u001b[39m,\n",
       "  \u001b[32m\"One\"\u001b[39m -> \u001b[32m1\u001b[39m,\n",
       "  \u001b[32m\"CEO\"\u001b[39m -> \u001b[32m3\u001b[39m,\n",
       "  \u001b[32m\"Metropolitan\"\u001b[39m -> \u001b[32m2\u001b[39m,\n",
       "  \u001b[32m\"PalestiniansThe\"\u001b[39m -> \u001b[32m2\u001b[39m,\n",
       "  \u001b[32m\"Protest\"\u001b[39m -> \u001b[32m1\u001b[39m,\n",
       "  \u001b[32m\"Met\"\u001b[39m -> \u001b[32m1\u001b[39m,\n",
       "  \u001b[32m\"Nepalese\"\u001b[39m -> \u001b[32m1\u001b[39m,\n",
       "  \u001b[32m\"Unemployment\"\u001b[39m -> \u001b[32m1\u001b[39m,\n",
       "  \u001b[32m\"TTF\"\u001b[39m -> \u001b[32m1\u001b[39m,\n",
       "  \u001b[32m\"Participation\"\u001b[39m -> \u001b[32m1\u001b[39m,\n",
       "  \u001b[32m\"Tax\"\u001b[39m -> \u001b[32m1\u001b[39m,\n",
       "  \u001b[32m\"Gleyber\"\u001b[39m -> \u001b[32m4\u001b[39m,\n",
       "  \u001b[32m\"Set\"\u001b[39m -> \u001b[32m1\u001b[39m,\n",
       "  \u001b[32m\"Air\"\u001b[39m -> \u001b[32m2\u001b[39m,\n",
       "  \u001b[32m\"OneUI\"\u001b[39m -> \u001b[32m10\u001b[39m,\n",
       "  \u001b[32m\"Broker\"\u001b[39m -> \u001b[32m1\u001b[39m,\n",
       "  \u001b[32m\"Sandy\"\u001b[39m -> \u001b[32m1\u001b[39m,\n",
       "  \u001b[32m\"July\"\u001b[39m -> \u001b[32m1\u001b[39m,\n",
       "  \u001b[32m\"Well\"\u001b[39m -> \u001b[32m1\u001b[39m,\n",
       "  \u001b[32m\"Protect\"\u001b[39m -> \u001b[32m1\u001b[39m,\n",
       "  \u001b[32m\"Fix\"\u001b[39m -> \u001b[32m1\u001b[39m,\n",
       "  \u001b[32m\"Corey\"\u001b[39m -> \u001b[32m6\u001b[39m,\n",
       "  \u001b[32m\"Havre\\u201d\"\u001b[39m -> \u001b[32m2\u001b[39m,\n",
       "...\n",
       "\u001b[36mdo_sort\u001b[39m: \u001b[32mList\u001b[39m[(\u001b[32mString\u001b[39m, \u001b[32mInt\u001b[39m)] = \u001b[33mList\u001b[39m(\n",
       "  (\u001b[32m\"Chicago\"\u001b[39m, \u001b[32m94\u001b[39m),\n",
       "  (\u001b[32m\"White\"\u001b[39m, \u001b[32m33\u001b[39m),\n",
       "  (\u001b[32m\"Sox\"\u001b[39m, \u001b[32m28\u001b[39m),\n",
       "  (\u001b[32m\"Minnesota\"\u001b[39m, \u001b[32m26\u001b[39m),\n",
       "  (\u001b[32m\"Pipeline\"\u001b[39m, \u001b[32m26\u001b[39m),\n",
       "  (\u001b[32m\"Colonial\"\u001b[39m, \u001b[32m22\u001b[39m),\n",
       "  (\u001b[32m\"Twins\"\u001b[39m, \u001b[32m20\u001b[39m),\n",
       "  (\u001b[32m\"Cubs\"\u001b[39m, \u001b[32m20\u001b[39m),\n",
       "  (\u001b[32m\"Blackhawks\"\u001b[39m, \u001b[32m19\u001b[39m),\n",
       "  (\u001b[32m\"Bears\"\u001b[39m, \u001b[32m18\u001b[39m),\n",
       "  (\u001b[32m\"Thursday\"\u001b[39m, \u001b[32m15\u001b[39m),\n",
       "  (\u001b[32m\"New\"\u001b[39m, \u001b[32m15\u001b[39m),\n",
       "  (\u001b[32m\"Samsung\"\u001b[39m, \u001b[32m14\u001b[39m),\n",
       "  (\u001b[32m\"Biden\"\u001b[39m, \u001b[32m13\u001b[39m),\n",
       "  (\u001b[32m\"Polisky\"\u001b[39m, \u001b[32m12\u001b[39m),\n",
       "  (\u001b[32m\"Mike\"\u001b[39m, \u001b[32m12\u001b[39m),\n",
       "  (\u001b[32m\"Google\"\u001b[39m, \u001b[32m12\u001b[39m),\n",
       "  (\u001b[32m\"Bitcoin\"\u001b[39m, \u001b[32m12\u001b[39m),\n",
       "  (\u001b[32m\"Wednesday\"\u001b[39m, \u001b[32m11\u001b[39m),\n",
       "  (\u001b[32m\"May\"\u001b[39m, \u001b[32m11\u001b[39m),\n",
       "  (\u001b[32m\"Flip\"\u001b[39m, \u001b[32m11\u001b[39m),\n",
       "  (\u001b[32m\"Rate\"\u001b[39m, \u001b[32m10\u001b[39m),\n",
       "  (\u001b[32m\"OneUI\"\u001b[39m, \u001b[32m10\u001b[39m),\n",
       "  (\u001b[32m\"Guaranteed\"\u001b[39m, \u001b[32m10\u001b[39m),\n",
       "  (\u001b[32m\"Field\"\u001b[39m, \u001b[32m10\u001b[39m),\n",
       "  (\u001b[32m\"Friday\"\u001b[39m, \u001b[32m10\u001b[39m),\n",
       "  (\u001b[32m\"Photos\"\u001b[39m, \u001b[32m10\u001b[39m),\n",
       "  (\u001b[32m\"Northwestern\"\u001b[39m, \u001b[32m10\u001b[39m),\n",
       "  (\u001b[32m\"Zenfone\"\u001b[39m, \u001b[32m9\u001b[39m),\n",
       "  (\u001b[32m\"Side\"\u001b[39m, \u001b[32m9\u001b[39m),\n",
       "  (\u001b[32m\"UI\"\u001b[39m, \u001b[32m8\u001b[39m),\n",
       "  (\u001b[32m\"President\"\u001b[39m, \u001b[32m8\u001b[39m),\n",
       "  (\u001b[32m\"Pixel\"\u001b[39m, \u001b[32m8\u001b[39m),\n",
       "  (\u001b[32m\"NFL\"\u001b[39m, \u001b[32m8\u001b[39m),\n",
       "  (\u001b[32m\"Fields\"\u001b[39m, \u001b[32m8\u001b[39m),\n",
       "  (\u001b[32m\"American\"\u001b[39m, \u001b[32m8\u001b[39m),\n",
       "  (\u001b[32m\"Justin\"\u001b[39m, \u001b[32m8\u001b[39m),\n",
       "  (\u001b[32m\"Musk\"\u001b[39m, \u001b[32m7\u001b[39m),\n",
       "..."
      ]
     },
     "execution_count": 90,
     "metadata": {},
     "output_type": "execute_result"
    }
   ],
   "source": [
    "val do_model = model_N.getNEs(get_result)\n",
    "val do_count = model_N.count(do_model)\n",
    "val do_sort = model_N.sort(do_count)"
   ]
  },
  {
   "cell_type": "code",
   "execution_count": null,
   "id": "b4c3f794-56b5-4ac7-9e92-e1ae0bc277b8",
   "metadata": {},
   "outputs": [],
   "source": []
  }
 ],
 "metadata": {
  "kernelspec": {
   "display_name": "Scala",
   "language": "scala",
   "name": "scala"
  },
  "language_info": {
   "codemirror_mode": "text/x-scala",
   "file_extension": ".scala",
   "mimetype": "text/x-scala",
   "name": "scala",
   "nbconvert_exporter": "script",
   "version": "2.11.12"
  }
 },
 "nbformat": 4,
 "nbformat_minor": 5
}
