{
 "cells": [
  {
   "cell_type": "markdown",
   "id": "77e07999-1b9b-4ce9-a072-aad79b31a252",
   "metadata": {
    "tags": []
   },
   "source": [
    "# Named Entity Recognition Pipeline\n",
    "\n",
    "El pipeline toma una URL de un feed en formato RSS, obtiene el título y descripción de los artículos en el feed, detecta las NER con un modelo pre-entrenado, y las muestra ordenadas por frecuencia de aparición.\n",
    "\n",
    "### Versiones\n",
    "Probado con:\n",
    "* Almond 0.6.0\n",
    "* Ammonite 1.6.7\n",
    "* Scala library version **2.11.12** -- Copyright 2002-2017, LAMP/EPFL\n",
    "* Java 1.8.0_282\n",
    "\n",
    "Para ver más información ir a (Help -> About Scala Kernel)"
   ]
  },
  {
   "cell_type": "markdown",
   "id": "3c9aca1f-e342-4f45-9e90-20f01e75ac7c",
   "metadata": {
    "tags": []
   },
   "source": [
    "## 1. Obtener texto"
   ]
  },
  {
   "cell_type": "markdown",
   "id": "important-swaziland",
   "metadata": {},
   "source": [
    "### 1.1 Importar librerías"
   ]
  },
  {
   "cell_type": "code",
   "execution_count": 105,
   "id": "ccd94c5a-99e4-49cf-8b19-a17c49e37703",
   "metadata": {
    "tags": []
   },
   "outputs": [
    {
     "data": {
      "text/plain": [
       "\u001b[32mimport \u001b[39m\u001b[36m$ivy.$                              \u001b[39m"
      ]
     },
     "execution_count": 105,
     "metadata": {},
     "output_type": "execute_result"
    }
   ],
   "source": [
    "import $ivy.`org.scalaj::scalaj-http:2.4.2`"
   ]
  },
  {
   "cell_type": "code",
   "execution_count": 106,
   "id": "9fb71d1f-9381-4674-ac0b-46cdcb512435",
   "metadata": {
    "tags": []
   },
   "outputs": [
    {
     "data": {
      "text/plain": [
       "\u001b[32mimport \u001b[39m\u001b[36m$ivy.$                              \n",
       "// \"org.scala-lang.modules\" %% \"scala-xml\" % \"1.3.0\"\n",
       "\u001b[39m\n",
       "\u001b[32mimport \u001b[39m\u001b[36m$ivy.$                                        \u001b[39m"
      ]
     },
     "execution_count": 106,
     "metadata": {},
     "output_type": "execute_result"
    }
   ],
   "source": [
    "import $ivy.`org.scalaj::scalaj-http:2.4.2`\n",
    "// \"org.scala-lang.modules\" %% \"scala-xml\" % \"1.3.0\"\n",
    "import $ivy.`org.scala-lang.modules::scala-xml:1.3.0`"
   ]
  },
  {
   "cell_type": "code",
   "execution_count": 107,
   "id": "4c876116-303f-4839-a8b5-cbea434adace",
   "metadata": {
    "tags": []
   },
   "outputs": [
    {
     "data": {
      "text/plain": [
       "\u001b[32mimport \u001b[39m\u001b[36mscalaj.http.{Http, HttpResponse}\n",
       "\u001b[39m\n",
       "\u001b[32mimport \u001b[39m\u001b[36mscala.xml.XML\u001b[39m"
      ]
     },
     "execution_count": 107,
     "metadata": {},
     "output_type": "execute_result"
    }
   ],
   "source": [
    "import scalaj.http.{Http, HttpResponse}\n",
    "import scala.xml.XML"
   ]
  },
  {
   "cell_type": "code",
   "execution_count": 108,
   "id": "ea956412-17d4-49a3-8d48-210c70c07e9f",
   "metadata": {
    "tags": []
   },
   "outputs": [
    {
     "data": {
      "text/plain": [
       "\u001b[32mimport \u001b[39m\u001b[36m$ivy.$                                 \n",
       "\u001b[39m\n",
       "\u001b[32mimport \u001b[39m\u001b[36morg.json4s.JsonDSL._\n",
       "\u001b[39m\n",
       "\u001b[32mimport \u001b[39m\u001b[36morg.json4s._\n",
       "\u001b[39m\n",
       "\u001b[32mimport \u001b[39m\u001b[36morg.json4s.jackson.JsonMethods._\n",
       "\u001b[39m\n",
       "\u001b[36mformats\u001b[39m: \u001b[32mDefaultFormats\u001b[39m.type = org.json4s.DefaultFormats$@1065e3fa"
      ]
     },
     "execution_count": 108,
     "metadata": {},
     "output_type": "execute_result"
    }
   ],
   "source": [
    "import $ivy.`org.json4s::json4s-jackson:3.4.0`\n",
    "import org.json4s.JsonDSL._\n",
    "import org.json4s._\n",
    "import org.json4s.jackson.JsonMethods._\n",
    "implicit val formats = DefaultFormats"
   ]
  },
  {
   "cell_type": "code",
   "execution_count": 109,
   "id": "8d3088f8-d18a-4338-b2d9-e335a6cd72e5",
   "metadata": {
    "tags": []
   },
   "outputs": [
    {
     "data": {
      "text/plain": [
       "\u001b[32mimport \u001b[39m\u001b[36mscala.collection.mutable.ListBuffer\u001b[39m"
      ]
     },
     "execution_count": 109,
     "metadata": {},
     "output_type": "execute_result"
    }
   ],
   "source": [
    "import scala.collection.mutable.ListBuffer"
   ]
  },
  {
   "cell_type": "markdown",
   "id": "794c77e9-bfd4-4fd0-ba3f-84bcc8e847fe",
   "metadata": {},
   "source": [
    "### 1.1 Obtener el texto del RSS Feed y REDDIT Feed\n",
    "\n",
    "Creamos una clase la cual toma un argumento que definira como se usara.\n",
    "Consta de un metodo queryURL(url: String) ---> Seq[String] el cual recibe una url y devuelve una lista de texto, la cual tiene los datos de dicha url.\n",
    "\n",
    "Para RSS:\n",
    "\n",
    "Realizamos una consulta HTTP, que nos devuelve una instancia de HTTPResponse. Dentro del atributo `body` de la HTTPResponse, se encuentra el texto del feed en formato XML. Luego, se parsea el XML para extraer los campos `title` y `description`.\n",
    "\n",
    "Para REDDIT:\n",
    "\n",
    "Realizamos una consulta HTTP, que nos devuelve una instancia de HTTPResponse.Dentro del atributo `body` de la HTTPResponse, se encuentra el texto del feed en formato XML.Luego, se parsea con JSON para extraer los campos `title` y `selftext`."
   ]
  },
  {
   "cell_type": "code",
   "execution_count": 110,
   "id": "2818facc-e2e8-4e75-974f-3fb3efc73458",
   "metadata": {
    "tags": []
   },
   "outputs": [
    {
     "data": {
      "text/plain": [
       "\u001b[36murl1\u001b[39m: \u001b[32mString\u001b[39m = \u001b[32m\"https://www.reddit.com/r/Android/hot/.json?count=10\"\u001b[39m\n",
       "\u001b[36murl2\u001b[39m: \u001b[32mString\u001b[39m = \u001b[32m\"https://www.chicagotribune.com/arcio/rss/category/sports/?query=display_date:[now-2d+TO+now]&sort=display_date:desc\"\u001b[39m"
      ]
     },
     "execution_count": 110,
     "metadata": {},
     "output_type": "execute_result"
    }
   ],
   "source": [
    "val url1 = \"https://www.reddit.com/r/Android/hot/.json?count=10\"\n",
    "val url2 = \"https://www.chicagotribune.com/arcio/rss/category/sports/?query=display_date:[now-2d+TO+now]&sort=display_date:desc\""
   ]
  },
  {
   "cell_type": "code",
   "execution_count": 111,
   "id": "3290e0be-0852-4552-a0b7-d2a7d541c076",
   "metadata": {
    "tags": []
   },
   "outputs": [
    {
     "data": {
      "text/plain": [
       "defined \u001b[32mclass\u001b[39m \u001b[36mGetTextURL\u001b[39m"
      ]
     },
     "execution_count": 111,
     "metadata": {},
     "output_type": "execute_result"
    }
   ],
   "source": [
    "class GetTextURL(urlType: String){\n",
    "    // Obtener texto desde una url\n",
    "    def queryURL(url: String): Seq[String] = {\n",
    "        try{\n",
    "            val response: HttpResponse[String] = Http(url)\n",
    "              .timeout(connTimeoutMs = 2000, readTimeoutMs = 5000)\n",
    "              .asString\n",
    "            val stringBody = response.body\n",
    "            urlType match {\n",
    "                case \"rss\" => {\n",
    "                    val xml = XML.loadString(stringBody)\n",
    "                    // Extract text from title and description\n",
    "                    (xml \\\\ \"item\").map { item => ((item \\ \"title\").text + \" \" + (item \\ \"description\").text) }\n",
    "                }\n",
    "                case \"reddit\" => {\n",
    "                    // parse Reddit feed in JSON\n",
    "                    val result = (parse(stringBody) \\ \"data\" \\ \"children\" \\ \"data\")\n",
    "                         .extract[List[Map[String, Any]]]\n",
    "                    // Parsear JSON\n",
    "                    val filterContent = result.flatten.filter{case (v , _) => v == \"title\" || v == \"selftext\" }.map(x => x._2.toString)\n",
    "                    val pattern = \"(https?|ftp|file)://[-a-zA-Z0-9+&@#/%?=~_|!:,.;]*[-a-zA-Z0-9+&@#/%=~_|]\".r\n",
    "                    filterContent.map(x => pattern.replaceAllIn(x,\"\")).toSeq\n",
    "                }\n",
    "            }\n",
    "        }catch{\n",
    "            case e: Exception => List()\n",
    "        }    \n",
    "    }\n",
    "}"
   ]
  },
  {
   "cell_type": "code",
   "execution_count": 114,
   "id": "184d2a18-8e0e-4458-b8c7-59c1904f0e54",
   "metadata": {
    "tags": []
   },
   "outputs": [
    {
     "data": {
      "text/plain": [
       "\u001b[36mrss\u001b[39m: \u001b[32mGetTextURL\u001b[39m = ammonite.$sess.cmd110$Helper$GetTextURL@5c4f583b\n",
       "\u001b[36mrssT\u001b[39m: \u001b[32mSeq\u001b[39m[\u001b[32mString\u001b[39m] = \u001b[33mList\u001b[39m(\n",
       "  \u001b[32m\"Andrew Vaughn\\u2019s 1st major-league home run helps power the Chicago White Sox to their 5th straight win: \\u2018Pretty special moment. It came at a good time, too.\\u2019 Andrew Vaughn hit the first home run of his major-league career in the Chicago White Sox's 13-8 victory against the Minnesota Twins at Guaranteed Rate Field. The Sox won their fifth straight, and it's their fourth consecutive game scoring at least nine runs.\"\u001b[39m,\n",
       "  \u001b[32m\"The highs and lows of the 2020-21 Chicago Blackhawks: From Jonathan Toews\\u2019 season-long absence to Patrick Kane\\u2019s milestone and Kirby Dach\\u2019s injury and return The Chicago Blackhawks' 2020-21 season started with offseason news about Kirby Dach but held a few other surprises. Here's a timeline of their year.\"\u001b[39m,\n",
       "  \u001b[32m\"The Chicago Bears\\u2019 2021 schedule is out. Here are our game-by-game predictions. The Chicago Bears have the third-toughest schedule in the league based on opponent winning percentage in 2020. Here\\u2019s how our trio of Bears reporters sees the season playing out.\"\u001b[39m,\n",
       "  \u001b[32m\"Yankees now have 7 confirmed COVID cases among coaches and support staff; Gleyber Torres out of lineup as precaution The Yankees now have seven confirmed cases of COVID among their coaches and support staff.\"\u001b[39m,\n",
       "  \u001b[32m\"Chicago White Sox are putting up runs without Luis Robert and Eloy Jim\\u00e9nez \\u2014 and mostly without the long ball: \\u2018Hitting\\u2019s contagious no matter who\\u2019s doing it\\u2019 The Chicago White Sox are finding ways to produce offense without the long ball. The Sox are last in the American League with 29 home runs.\"\u001b[39m,\n",
       "  \u001b[32m\"Mike Polisky resigns as Northwestern athletic director after continued criticism of his hiring: \\u2018I do not want to be a distraction\\u2019 Mike Polisky stepped down Wednesday from his newly appointed role as Northwestern athletic director as criticism continued to mount against his hiring.\"\u001b[39m,\n",
       "  \u001b[32m\"Photos: Chicago White Sox 13, Minnesota Twins 8 Photos from the Chicago White Sox's 13-8 win against the Minnesota Twins on May 12, 2021, at Guaranteed Rate Field.\"\u001b[39m,\n",
       "  \u001b[32m\"Chicago Bears 2021 schedule: All the matchups, dates and times for the 17-game season Chicago Bears fans will have to wait a while before they find out when Justin Fields will make his first NFL start. But they at least will know the 17 regular-season dates it potentially could happen in 2021.\"\u001b[39m,\n",
       "  \u001b[32m\"10 things we learned about the Chicago Blackhawks offseason from Stan Bowman and Jeremy Colliton, including Jonathan Toews\\u2019 status and whether Kevin Lankinen has a grip on the starting goalie job Chicago Blackhawks president of hockey operations Stan Bowman and coach Jeremy Colliton addressed questions about th\u001b[39m..."
      ]
     },
     "execution_count": 114,
     "metadata": {},
     "output_type": "execute_result"
    }
   ],
   "source": [
    "val rss = new GetTextURL(\"rss\")\n",
    "val rssT = rss.queryURL(url2)"
   ]
  },
  {
   "cell_type": "code",
   "execution_count": 115,
   "id": "1eebc64a-cab4-4a77-a66c-4a35822fb263",
   "metadata": {
    "tags": []
   },
   "outputs": [
    {
     "data": {
      "text/plain": [
       "\u001b[36mreddit\u001b[39m: \u001b[32mGetTextURL\u001b[39m = ammonite.$sess.cmd110$Helper$GetTextURL@38676b12\n",
       "\u001b[36mredditT\u001b[39m: \u001b[32mSeq\u001b[39m[\u001b[32mString\u001b[39m] = \u001b[33mList\u001b[39m(\n",
       "  \u001b[32m\"\"\"**Credits to the team at /r/PickAnAndroidForMe for compiling this information:**\n",
       "\n",
       "* Home - \n",
       "\n",
       "* Smartphones 101 - \n",
       "\n",
       "* Top Phones - \n",
       "\n",
       "\n",
       "***        \n",
       "Note 1. Join us at /r/MoronicMondayAndroid, a sub serving as a repository for our retired weekly threads. Just pick any thread and Ctrl-F your way to wisdom! \n",
       "\n",
       "Note 2. Join our IRC, and Telegram chat-rooms! [Please see our wiki for instructions.]()\"\"\"\u001b[39m,\n",
       "  \u001b[32m\"What should I buy Thursday (May 13 2021) - Your weekly device inquiry thread!\"\u001b[39m,\n",
       "  \u001b[32m\"\"\"Hey /r/android, we had conducted a [feedback poll]() last year. We have decided to make a few revisions (mainly a preferential voting system) since some of the results were rather open-ended and did not present a clear solution. Participation on the last poll was also lower than anticipated since we only got about [930 responses]().\n",
       "\n",
       "NOTES\n",
       "\n",
       "* The poll was created via Google Forms and requires sign-in to prevent duplication of votes.\n",
       "\n",
       "* Most questions require a response although a few yes/no type questions are optional.\n",
       "\n",
       "* Email addresses aren't collected by the /r/android mod team.\n",
       "\n",
       "* Responses can be edited after they have been submitted.\n",
       "\n",
       "* The order of yes/no responses have been randomized.\n",
       "\n",
       "\u001b[39m..."
      ]
     },
     "execution_count": 115,
     "metadata": {},
     "output_type": "execute_result"
    }
   ],
   "source": [
    "val reddit = new GetTextURL(\"reddit\")\n",
    "val redditT = reddit.queryURL(url1)"
   ]
  },
  {
   "cell_type": "markdown",
   "id": "c0cd7c82-e1b7-400f-8781-ea8d1aeaf787",
   "metadata": {},
   "source": [
    "## 2. Detectar las entidades nombradas"
   ]
  },
  {
   "cell_type": "markdown",
   "id": "portable-tender",
   "metadata": {
    "tags": []
   },
   "source": [
    "### 2.1 Crear la clase encargada del modelo,contar,y ordenar Entidades\n",
    "\n",
    "Los metodos de esta clase son :\n",
    "\n",
    "getNEs(textList: Seq[String]) ---> Seq[Seq[String]] el cual que recibe una lista de textos y aplica el modelo, para cada texto, se separa las palabras del texto usando los espacios, y considera que es una entidad nombrada si empieza con mayúscula.\n",
    "\n",
    "count(textL : Seq[Seq[String]]) ---> Map[String,Int] el cual recibe el resultado de aplicar el modelo, devuelve la entidad junto las cantidad de veces que aparece nombrada\n",
    "\n",
    "sort(counts: Map[String,Int]) ---> List[(String, Int)] el cual ordena el resultado de contar las entidades"
   ]
  },
  {
   "cell_type": "code",
   "execution_count": 116,
   "id": "ef16a433-c5d0-4566-997e-dd9c9958d097",
   "metadata": {
    "tags": []
   },
   "outputs": [
    {
     "data": {
      "text/plain": [
       "defined \u001b[32mclass\u001b[39m \u001b[36mNERModel\u001b[39m"
      ]
     },
     "execution_count": 116,
     "metadata": {},
     "output_type": "execute_result"
    }
   ],
   "source": [
    "class NERModel() {\n",
    "    // Variables Necesarias para crear modelo\n",
    "    private val STOPWORDS = Seq (\n",
    "        \"i\", \"me\", \"my\", \"myself\", \"we\", \"our\", \"ours\", \"ourselves\", \"you\",\n",
    "        \"yours\", \"yourself\", \"yourselves\", \"he\", \"him\", \"his\", \"himself\", \"she\",\n",
    "        \"her\", \"hers\", \"herself\", \"it\", \"its\", \"itself\", \"they\", \"them\", \"your\",\n",
    "        \"their\", \"theirs\", \"themselves\", \"what\", \"which\", \"who\", \"whom\",\n",
    "        \"this\", \"that\", \"these\", \"those\", \"am\", \"is\", \"are\", \"was\", \"were\",\n",
    "        \"be\", \"been\", \"being\", \"have\", \"has\", \"had\", \"having\", \"do\", \"does\",\n",
    "        \"did\", \"doing\", \"a\", \"an\", \"the\", \"and\", \"but\", \"if\", \"or\",\n",
    "        \"because\", \"as\", \"until\", \"while\", \"of\", \"at\", \"by\", \"for\", \"with\",\n",
    "        \"about\", \"against\", \"between\", \"into\", \"through\", \"during\", \"before\",\n",
    "        \"after\", \"above\", \"below\", \"to\", \"from\", \"up\", \"down\", \"in\", \"out\",\n",
    "        \"off\", \"over\", \"under\", \"again\", \"further\", \"then\", \"once\", \"here\",\n",
    "        \"there\", \"when\", \"where\", \"why\", \"how\", \"all\", \"any\", \"both\", \"each\",\n",
    "        \"few\", \"more\", \"most\", \"other\", \"some\", \"such\", \"no\", \"nor\", \"not\",\n",
    "        \"only\", \"own\", \"same\", \"so\", \"than\", \"too\", \"very\", \"s\", \"t\", \"can\",\n",
    "        \"will\", \"just\", \"don\", \"should\", \"now\", \"on\",\n",
    "        // Contractions without '\n",
    "        \"im\", \"ive\", \"id\", \"Youre\", \"youd\", \"youve\",\n",
    "        \"hes\", \"hed\", \"shes\", \"shed\", \"itd\", \"were\", \"wed\", \"weve\",\n",
    "        \"theyre\", \"theyd\", \"theyve\",\n",
    "        \"shouldnt\", \"couldnt\", \"musnt\", \"cant\", \"wont\",\n",
    "        // Common uppercase words\n",
    "        \"hi\", \"hello\"\n",
    "    )\n",
    "    private val punctuationSymbols = \".,()!?;:'`´\\n\"\n",
    "    private val punctuationRegex = \"\\\\\" + punctuationSymbols.split(\"\").mkString(\"|\\\\\")\n",
    "    \n",
    "    // Aplicar el Modelo a los datos (simplemente es aplicar la funcion a la lista de textos)\n",
    "    private def getNEsSingle(text: String): Seq[String] =\n",
    "      text.replaceAll(punctuationRegex, \"\").split(\" \")\n",
    "        .filter { word:String => word.length > 1 &&\n",
    "                  Character.isUpperCase(word.charAt(0)) &&\n",
    "                  !STOPWORDS.contains(word.toLowerCase) }.toSeq\n",
    "\n",
    "    def getNEs(textList: Seq[String]): Seq[Seq[String]] = textList.map(getNEsSingle)\n",
    "    \n",
    "    // Contar las entidades\n",
    "    def count(textL : Seq[Seq[String]]): Map[String,Int] = {\n",
    "            textL.flatten.foldLeft(Map.empty[String, Int]) {\n",
    "             (count, word) => count + (word -> (count.getOrElse(word, 0) + 1)) }\n",
    "    }\n",
    "    //Ordenar Entidades\n",
    "    def sort(counts: Map[String,Int]): List[(String, Int)] = {\n",
    "        counts.toList\n",
    "          .sortBy(_._2)(Ordering[Int].reverse)\n",
    "    }\n",
    "}\n",
    "       "
   ]
  },
  {
   "cell_type": "code",
   "execution_count": 117,
   "id": "395a1734-f2d6-4b74-8dbe-5d7a5c765972",
   "metadata": {
    "tags": []
   },
   "outputs": [
    {
     "data": {
      "text/plain": [
       "\u001b[36mmodel\u001b[39m: \u001b[32mNERModel\u001b[39m = ammonite.$sess.cmd115$Helper$NERModel@2ad8afa0"
      ]
     },
     "execution_count": 117,
     "metadata": {},
     "output_type": "execute_result"
    }
   ],
   "source": [
    "val model = new NERModel"
   ]
  },
  {
   "cell_type": "markdown",
   "id": "7e1f4f79-fb92-4b69-815b-ecf7fe556d1b",
   "metadata": {},
   "source": [
    "### 2.2 Aplicar el \"Modelo\" a los datos"
   ]
  },
  {
   "cell_type": "code",
   "execution_count": 118,
   "id": "6eb40c69-0bfe-4f37-87da-ba2078ecddd4",
   "metadata": {
    "tags": []
   },
   "outputs": [
    {
     "data": {
      "text/plain": [
       "\u001b[36mresult_rss\u001b[39m: \u001b[32mSeq\u001b[39m[\u001b[32mSeq\u001b[39m[\u001b[32mString\u001b[39m]] = \u001b[33mList\u001b[39m(\n",
       "  \u001b[33mArrayBuffer\u001b[39m(\n",
       "    \u001b[32m\"Andrew\"\u001b[39m,\n",
       "    \u001b[32m\"Vaughn\\u2019s\"\u001b[39m,\n",
       "    \u001b[32m\"Chicago\"\u001b[39m,\n",
       "    \u001b[32m\"White\"\u001b[39m,\n",
       "    \u001b[32m\"Sox\"\u001b[39m,\n",
       "    \u001b[32m\"Andrew\"\u001b[39m,\n",
       "    \u001b[32m\"Vaughn\"\u001b[39m,\n",
       "    \u001b[32m\"Chicago\"\u001b[39m,\n",
       "    \u001b[32m\"White\"\u001b[39m,\n",
       "    \u001b[32m\"Soxs\"\u001b[39m,\n",
       "    \u001b[32m\"Minnesota\"\u001b[39m,\n",
       "    \u001b[32m\"Twins\"\u001b[39m,\n",
       "    \u001b[32m\"Guaranteed\"\u001b[39m,\n",
       "    \u001b[32m\"Rate\"\u001b[39m,\n",
       "    \u001b[32m\"Field\"\u001b[39m,\n",
       "    \u001b[32m\"Sox\"\u001b[39m\n",
       "  ),\n",
       "  \u001b[33mArrayBuffer\u001b[39m(\n",
       "    \u001b[32m\"Chicago\"\u001b[39m,\n",
       "    \u001b[32m\"Blackhawks\"\u001b[39m,\n",
       "    \u001b[32m\"Jonathan\"\u001b[39m,\n",
       "    \u001b[32m\"Toews\\u2019\"\u001b[39m,\n",
       "    \u001b[32m\"Patrick\"\u001b[39m,\n",
       "    \u001b[32m\"Kane\\u2019s\"\u001b[39m,\n",
       "    \u001b[32m\"Kirby\"\u001b[39m,\n",
       "    \u001b[32m\"Dach\\u2019s\"\u001b[39m,\n",
       "    \u001b[32m\"Chicago\"\u001b[39m,\n",
       "    \u001b[32m\"Blackhawks\"\u001b[39m,\n",
       "    \u001b[32m\"Kirby\"\u001b[39m,\n",
       "    \u001b[32m\"Dach\"\u001b[39m,\n",
       "    \u001b[32m\"Heres\"\u001b[39m\n",
       "  ),\n",
       "  \u001b[33mArrayBuffer\u001b[39m(\n",
       "    \u001b[32m\"Chicago\"\u001b[39m,\n",
       "    \u001b[32m\"Bears\\u2019\"\u001b[39m,\n",
       "    \u001b[32m\"Chicago\"\u001b[39m,\n",
       "    \u001b[32m\"Bears\"\u001b[39m,\n",
       "...\n",
       "\u001b[36mresult_reddit\u001b[39m: \u001b[32mSeq\u001b[39m[\u001b[32mSeq\u001b[39m[\u001b[32mString\u001b[39m]] = \u001b[33mList\u001b[39m(\n",
       "  \u001b[33mArrayBuffer\u001b[39m(\n",
       "    \u001b[32m\"Home\"\u001b[39m,\n",
       "    \u001b[32m\"Smartphones\"\u001b[39m,\n",
       "    \u001b[32m\"Top\"\u001b[39m,\n",
       "    \u001b[32m\"Phones\"\u001b[39m,\n",
       "    \u001b[32m\"Note\"\u001b[39m,\n",
       "    \u001b[32m\"Join\"\u001b[39m,\n",
       "    \u001b[32m\"Ctrl-F\"\u001b[39m,\n",
       "    \u001b[32m\"Note\"\u001b[39m,\n",
       "    \u001b[32m\"Join\"\u001b[39m,\n",
       "    \u001b[32m\"IRC\"\u001b[39m,\n",
       "    \u001b[32m\"Telegram\"\u001b[39m\n",
       "  ),\n",
       "  \u001b[33mArrayBuffer\u001b[39m(\u001b[32m\"Thursday\"\u001b[39m, \u001b[32m\"May\"\u001b[39m),\n",
       "  \u001b[33mArrayBuffer\u001b[39m(\n",
       "    \u001b[32m\"Hey\"\u001b[39m,\n",
       "    \u001b[32m\"Participation\"\u001b[39m,\n",
       "    \u001b[32m\"Google\"\u001b[39m,\n",
       "    \u001b[32m\"Forms\"\u001b[39m,\n",
       "    \u001b[32m\"Email\"\u001b[39m,\n",
       "    \u001b[32m\"Responses\"\u001b[39m,\n",
       "    \u001b[32m\"Well\"\u001b[39m,\n",
       "    \u001b[32m\"POLL]Edit\"\u001b[39m\n",
       "  ),\n",
       "  \u001b[33mArrayBuffer\u001b[39m(\u001b[32m\"Community\"\u001b[39m, \u001b[32m\"Feedback\"\u001b[39m, \u001b[32m\"Poll\"\u001b[39m, \u001b[32m\"February\"\u001b[39m),\n",
       "  \u001b[33mArrayBuffer\u001b[39m(),\n",
       "  \u001b[33mArrayBuffer\u001b[39m(\u001b[32m\"Google\"\u001b[39m, \u001b[32m\"Messages\"\u001b[39m),\n",
       "  \u001b[33mArrayBuffer\u001b[39m(),\n",
       "  \u001b[33mArrayBuffer\u001b[39m(),\n",
       "  \u001b[33mArrayBuffer\u001b[39m(),\n",
       "  \u001b[33mArrayBuffer\u001b[39m(\u001b[32m\"US\"\u001b[39m, \u001b[32m\"Agrees\"\u001b[39m, \u001b[32m\"Remove\"\u001b[39m, \u001b[32m\"Xiaomi\"\u001b[39m, \u001b[32m\"Blacklist\"\u001b[39m, \u001b[32m\"Lawsuit\"\u001b[39m),\n",
       "  \u001b[33mArrayBuffer\u001b[39m(),\n",
       "  \u001b[33mArrayBuffer\u001b[39m(\u001b[32m\"Hey\"\u001b[39m, \u001b[32m\"Google\"\u001b[39m),\n",
       "  \u001b[33mArrayBuffer\u001b[39m(),\n",
       "  \u001b[33mArrayBuffer\u001b[39m(\u001b[32m\"Samsung\"\u001b[39m, \u001b[32m\"Galaxy\"\u001b[39m, \u001b[32m\"Watch\"\u001b[39m, \u001b[32m\"WearOS\"\u001b[39m),\n",
       "  \u001b[33mArrayBuffer\u001b[39m(\n",
       "    \u001b[32m\"RedditASUS\"\u001b[39m,\n",
       "    \u001b[32m\"Europe\"\u001b[39m,\n",
       "..."
      ]
     },
     "execution_count": 118,
     "metadata": {},
     "output_type": "execute_result"
    }
   ],
   "source": [
    "val result_rss = model.getNEs(rssT)\n",
    "val result_reddit = model.getNEs(redditT)"
   ]
  },
  {
   "cell_type": "markdown",
   "id": "located-cookbook",
   "metadata": {
    "tags": []
   },
   "source": [
    "## 3. Contar y ordenar las entidades\n",
    "\n",
    "Concatenar todas las listas, contar cada Named Entity, y luego ordernar por frecuencia"
   ]
  },
  {
   "cell_type": "code",
   "execution_count": 119,
   "id": "dc1d260b-50c4-4783-a414-417375e7919a",
   "metadata": {
    "tags": []
   },
   "outputs": [
    {
     "data": {
      "text/plain": [
       "\u001b[36mcount_rss\u001b[39m: \u001b[32mMap\u001b[39m[\u001b[32mString\u001b[39m, \u001b[32mInt\u001b[39m] = \u001b[33mMap\u001b[39m(\n",
       "  \u001b[32m\"Rate\"\u001b[39m -> \u001b[32m4\u001b[39m,\n",
       "  \u001b[32m\"University\"\u001b[39m -> \u001b[32m1\u001b[39m,\n",
       "  \u001b[32m\"Nets\"\u001b[39m -> \u001b[32m3\u001b[39m,\n",
       "  \u001b[32m\"Gleyber\"\u001b[39m -> \u001b[32m1\u001b[39m,\n",
       "  \u001b[32m\"Spirit\\u2019s\"\u001b[39m -> \u001b[32m1\u001b[39m,\n",
       "  \u001b[32m\"Corey\"\u001b[39m -> \u001b[32m2\u001b[39m,\n",
       "  \u001b[32m\"Marisnick\"\u001b[39m -> \u001b[32m1\u001b[39m,\n",
       "  \u001b[32m\"Polisky\"\u001b[39m -> \u001b[32m4\u001b[39m,\n",
       "  \u001b[32m\"Operations\"\u001b[39m -> \u001b[32m1\u001b[39m,\n",
       "  \u001b[32m\"Cub\"\u001b[39m -> \u001b[32m1\u001b[39m,\n",
       "  \u001b[32m\"Parker\"\u001b[39m -> \u001b[32m4\u001b[39m,\n",
       "  \u001b[32m\"Crawford\"\u001b[39m -> \u001b[32m2\u001b[39m,\n",
       "  \u001b[32m\"Bieber\"\u001b[39m -> \u001b[32m2\u001b[39m,\n",
       "  \u001b[32m\"Sky\"\u001b[39m -> \u001b[32m3\u001b[39m,\n",
       "  \u001b[32m\"Hawaii\"\u001b[39m -> \u001b[32m2\u001b[39m,\n",
       "  \u001b[32m\"Washington\"\u001b[39m -> \u001b[32m1\u001b[39m,\n",
       "  \u001b[32m\"IL\"\u001b[39m -> \u001b[32m1\u001b[39m,\n",
       "  \u001b[32m\"Robert\"\u001b[39m -> \u001b[32m1\u001b[39m,\n",
       "  \u001b[32m\"Dach\\u2019s\"\u001b[39m -> \u001b[32m1\u001b[39m,\n",
       "  \u001b[32m\"Hockey\"\u001b[39m -> \u001b[32m1\u001b[39m,\n",
       "  \u001b[32m\"DeBrincat\\u2019s\"\u001b[39m -> \u001b[32m1\u001b[39m,\n",
       "  \u001b[32m\"Marisnick\\u2019s\"\u001b[39m -> \u001b[32m2\u001b[39m,\n",
       "  \u001b[32m\"President\"\u001b[39m -> \u001b[32m1\u001b[39m,\n",
       "  \u001b[32m\"Alex\"\u001b[39m -> \u001b[32m1\u001b[39m,\n",
       "  \u001b[32m\"Pat\"\u001b[39m -> \u001b[32m2\u001b[39m,\n",
       "  \u001b[32m\"Abreu\\u2019s\"\u001b[39m -> \u001b[32m1\u001b[39m,\n",
       "  \u001b[32m\"Colt\"\u001b[39m -> \u001b[32m2\u001b[39m,\n",
       "  \u001b[32m\"Shane\"\u001b[39m -> \u001b[32m2\u001b[39m,\n",
       "  \u001b[32m\"Finnish\"\u001b[39m -> \u001b[32m1\u001b[39m,\n",
       "  \u001b[32m\"COVID\"\u001b[39m -> \u001b[32m2\u001b[39m,\n",
       "  \u001b[32m\"Henrik\"\u001b[39m -> \u001b[32m2\u001b[39m,\n",
       "  \u001b[32m\"Toews\\u2019\"\u001b[39m -> \u001b[32m2\u001b[39m,\n",
       "  \u001b[32m\"ERA\"\u001b[39m -> \u001b[32m1\u001b[39m,\n",
       "  \u001b[32m\"Bortles\"\u001b[39m -> \u001b[32m1\u001b[39m,\n",
       "  \u001b[32m\"Baldwin\"\u001b[39m -> \u001b[32m2\u001b[39m,\n",
       "  \u001b[32m\"Andrew\"\u001b[39m -> \u001b[32m2\u001b[39m,\n",
       "  \u001b[32m\"MVP\"\u001b[39m -> \u001b[32m1\u001b[39m,\n",
       "  \u001b[32m\"Phase\"\u001b[39m -> \u001b[32m1\u001b[39m,\n",
       "...\n",
       "\u001b[36mcount_reddit\u001b[39m: \u001b[32mMap\u001b[39m[\u001b[32mString\u001b[39m, \u001b[32mInt\u001b[39m] = \u001b[33mMap\u001b[39m(\n",
       "  \u001b[32m\"Much\"\u001b[39m -> \u001b[32m1\u001b[39m,\n",
       "  \u001b[32m\"Participation\"\u001b[39m -> \u001b[32m1\u001b[39m,\n",
       "  \u001b[32m\"Well\"\u001b[39m -> \u001b[32m1\u001b[39m,\n",
       "  \u001b[32m\"Feedback\"\u001b[39m -> \u001b[32m1\u001b[39m,\n",
       "  \u001b[32m\"February\"\u001b[39m -> \u001b[32m1\u001b[39m,\n",
       "  \u001b[32m\"Central-\"\u001b[39m -> \u001b[32m1\u001b[39m,\n",
       "  \u001b[32m\"Zenfone\"\u001b[39m -> \u001b[32m8\u001b[39m,\n",
       "  \u001b[32m\"Goggles\"\u001b[39m -> \u001b[32m1\u001b[39m,\n",
       "  \u001b[32m\"Xperia\"\u001b[39m -> \u001b[32m1\u001b[39m,\n",
       "  \u001b[32m\"IP68\"\u001b[39m -> \u001b[32m1\u001b[39m,\n",
       "  \u001b[32m\"PowerShell\"\u001b[39m -> \u001b[32m1\u001b[39m,\n",
       "  \u001b[32m\"Look\"\u001b[39m -> \u001b[32m1\u001b[39m,\n",
       "  \u001b[32m\"Comparison\"\u001b[39m -> \u001b[32m2\u001b[39m,\n",
       "  \u001b[32m\"Phones\"\u001b[39m -> \u001b[32m1\u001b[39m,\n",
       "  \u001b[32m\"Flagship\"\u001b[39m -> \u001b[32m1\u001b[39m,\n",
       "  \u001b[32m\"Pay\"\u001b[39m -> \u001b[32m1\u001b[39m,\n",
       "  \u001b[32m\"Ctrl-F\"\u001b[39m -> \u001b[32m1\u001b[39m,\n",
       "  \u001b[32m\"Galaxy\"\u001b[39m -> \u001b[32m1\u001b[39m,\n",
       "  \u001b[32m\"Note\"\u001b[39m -> \u001b[32m3\u001b[39m,\n",
       "  \u001b[32m\"Agrees\"\u001b[39m -> \u001b[32m1\u001b[39m,\n",
       "  \u001b[32m\"Xiaomi\"\u001b[39m -> \u001b[32m1\u001b[39m,\n",
       "  \u001b[32m\"Gboard\"\u001b[39m -> \u001b[32m1\u001b[39m,\n",
       "  \u001b[32m\"Authority-\"\u001b[39m -> \u001b[32m1\u001b[39m,\n",
       "  \u001b[32m\"Anything\"\u001b[39m -> \u001b[32m1\u001b[39m,\n",
       "  \u001b[32m\"US\"\u001b[39m -> \u001b[32m2\u001b[39m,\n",
       "  \u001b[32m\"Poll\"\u001b[39m -> \u001b[32m1\u001b[39m,\n",
       "  \u001b[32m\"Ill\"\u001b[39m -> \u001b[32m1\u001b[39m,\n",
       "  \u001b[32m\"Community\"\u001b[39m -> \u001b[32m1\u001b[39m,\n",
       "  \u001b[32m\"Could\"\u001b[39m -> \u001b[32m1\u001b[39m,\n",
       "  \u001b[32m\"JSC\"\u001b[39m -> \u001b[32m1\u001b[39m,\n",
       "  \u001b[32m\"ZenFone\"\u001b[39m -> \u001b[32m6\u001b[39m,\n",
       "  \u001b[32m\"Pixel\"\u001b[39m -> \u001b[32m1\u001b[39m,\n",
       "  \u001b[32m\"Forms\"\u001b[39m -> \u001b[32m1\u001b[39m,\n",
       "  \u001b[32m\"Redmi\"\u001b[39m -> \u001b[32m1\u001b[39m,\n",
       "  \u001b[32m\"Asus\"\u001b[39m -> \u001b[32m4\u001b[39m,\n",
       "  \u001b[32m\"Circuit-\"\u001b[39m -> \u001b[32m1\u001b[39m,\n",
       "  \u001b[32m\"ADB\"\u001b[39m -> \u001b[32m1\u001b[39m,\n",
       "  \u001b[32m\"Remove\"\u001b[39m -> \u001b[32m1\u001b[39m,\n",
       "..."
      ]
     },
     "execution_count": 119,
     "metadata": {},
     "output_type": "execute_result"
    }
   ],
   "source": [
    "val count_rss = model.count(result_rss)\n",
    "val count_reddit = model.count(result_reddit)"
   ]
  },
  {
   "cell_type": "code",
   "execution_count": 120,
   "id": "0cd437f1-b1a5-4e2a-86bf-0d74bb283d7b",
   "metadata": {
    "tags": []
   },
   "outputs": [
    {
     "data": {
      "text/plain": [
       "\u001b[36msort_rss\u001b[39m: \u001b[32mList\u001b[39m[(\u001b[32mString\u001b[39m, \u001b[32mInt\u001b[39m)] = \u001b[33mList\u001b[39m(\n",
       "  (\u001b[32m\"Chicago\"\u001b[39m, \u001b[32m49\u001b[39m),\n",
       "  (\u001b[32m\"White\"\u001b[39m, \u001b[32m12\u001b[39m),\n",
       "  (\u001b[32m\"Sox\"\u001b[39m, \u001b[32m12\u001b[39m),\n",
       "  (\u001b[32m\"Blackhawks\"\u001b[39m, \u001b[32m11\u001b[39m),\n",
       "  (\u001b[32m\"Minnesota\"\u001b[39m, \u001b[32m8\u001b[39m),\n",
       "  (\u001b[32m\"Twins\"\u001b[39m, \u001b[32m8\u001b[39m),\n",
       "  (\u001b[32m\"NFL\"\u001b[39m, \u001b[32m8\u001b[39m),\n",
       "  (\u001b[32m\"Cubs\"\u001b[39m, \u001b[32m7\u001b[39m),\n",
       "  (\u001b[32m\"Bears\"\u001b[39m, \u001b[32m7\u001b[39m),\n",
       "  (\u001b[32m\"Tuesday\"\u001b[39m, \u001b[32m6\u001b[39m),\n",
       "  (\u001b[32m\"Bulls\"\u001b[39m, \u001b[32m6\u001b[39m),\n",
       "  (\u001b[32m\"Photos\"\u001b[39m, \u001b[32m6\u001b[39m),\n",
       "  (\u001b[32m\"Wednesday\"\u001b[39m, \u001b[32m5\u001b[39m),\n",
       "  (\u001b[32m\"Patrick\"\u001b[39m, \u001b[32m5\u001b[39m),\n",
       "  (\u001b[32m\"Rate\"\u001b[39m, \u001b[32m4\u001b[39m),\n",
       "  (\u001b[32m\"Polisky\"\u001b[39m, \u001b[32m4\u001b[39m),\n",
       "  (\u001b[32m\"Parker\"\u001b[39m, \u001b[32m4\u001b[39m),\n",
       "  (\u001b[32m\"Mike\"\u001b[39m, \u001b[32m4\u001b[39m),\n",
       "  (\u001b[32m\"Guaranteed\"\u001b[39m, \u001b[32m4\u001b[39m),\n",
       "  (\u001b[32m\"Candace\"\u001b[39m, \u001b[32m4\u001b[39m),\n",
       "  (\u001b[32m\"Field\"\u001b[39m, \u001b[32m4\u001b[39m),\n",
       "  (\u001b[32m\"Cleveland\"\u001b[39m, \u001b[32m4\u001b[39m),\n",
       "  (\u001b[32m\"Indians\"\u001b[39m, \u001b[32m4\u001b[39m),\n",
       "  (\u001b[32m\"Nets\"\u001b[39m, \u001b[32m3\u001b[39m),\n",
       "  (\u001b[32m\"Sky\"\u001b[39m, \u001b[32m3\u001b[39m),\n",
       "  (\u001b[32m\"Brooklyn\"\u001b[39m, \u001b[32m3\u001b[39m),\n",
       "  (\u001b[32m\"Alzolay\"\u001b[39m, \u001b[32m3\u001b[39m),\n",
       "  (\u001b[32m\"Milwaukee\"\u001b[39m, \u001b[32m3\u001b[39m),\n",
       "  (\u001b[32m\"May\"\u001b[39m, \u001b[32m3\u001b[39m),\n",
       "  (\u001b[32m\"Stan\"\u001b[39m, \u001b[32m3\u001b[39m),\n",
       "  (\u001b[32m\"Former\"\u001b[39m, \u001b[32m3\u001b[39m),\n",
       "  (\u001b[32m\"COVID-19\"\u001b[39m, \u001b[32m3\u001b[39m),\n",
       "  (\u001b[32m\"Here\\u2019s\"\u001b[39m, \u001b[32m3\u001b[39m),\n",
       "  (\u001b[32m\"Zach\"\u001b[39m, \u001b[32m3\u001b[39m),\n",
       "  (\u001b[32m\"Northwestern\"\u001b[39m, \u001b[32m3\u001b[39m),\n",
       "  (\u001b[32m\"Soxs\"\u001b[39m, \u001b[32m3\u001b[39m),\n",
       "  (\u001b[32m\"Bowman\"\u001b[39m, \u001b[32m3\u001b[39m),\n",
       "  (\u001b[32m\"Jonathan\"\u001b[39m, \u001b[32m3\u001b[39m),\n",
       "...\n",
       "\u001b[36msort_reddit\u001b[39m: \u001b[32mList\u001b[39m[(\u001b[32mString\u001b[39m, \u001b[32mInt\u001b[39m)] = \u001b[33mList\u001b[39m(\n",
       "  (\u001b[32m\"Flip\"\u001b[39m, \u001b[32m10\u001b[39m),\n",
       "  (\u001b[32m\"Google\"\u001b[39m, \u001b[32m9\u001b[39m),\n",
       "  (\u001b[32m\"Zenfone\"\u001b[39m, \u001b[32m8\u001b[39m),\n",
       "  (\u001b[32m\"ZenFone\"\u001b[39m, \u001b[32m6\u001b[39m),\n",
       "  (\u001b[32m\"Asus\"\u001b[39m, \u001b[32m4\u001b[39m),\n",
       "  (\u001b[32m\"Android\"\u001b[39m, \u001b[32m4\u001b[39m),\n",
       "  (\u001b[32m\"Note\"\u001b[39m, \u001b[32m3\u001b[39m),\n",
       "  (\u001b[32m\"ASUS\"\u001b[39m, \u001b[32m3\u001b[39m),\n",
       "  (\u001b[32m\"Camera\"\u001b[39m, \u001b[32m3\u001b[39m),\n",
       "  (\u001b[32m\"Comparison\"\u001b[39m, \u001b[32m2\u001b[39m),\n",
       "  (\u001b[32m\"US\"\u001b[39m, \u001b[32m2\u001b[39m),\n",
       "  (\u001b[32m\"Hey\"\u001b[39m, \u001b[32m2\u001b[39m),\n",
       "  (\u001b[32m\"Review\"\u001b[39m, \u001b[32m2\u001b[39m),\n",
       "  (\u001b[32m\"Realme\"\u001b[39m, \u001b[32m2\u001b[39m),\n",
       "  (\u001b[32m\"Phone\"\u001b[39m, \u001b[32m2\u001b[39m),\n",
       "  (\u001b[32m\"Samsung\"\u001b[39m, \u001b[32m2\u001b[39m),\n",
       "  (\u001b[32m\"Join\"\u001b[39m, \u001b[32m2\u001b[39m),\n",
       "  (\u001b[32m\"Much\"\u001b[39m, \u001b[32m1\u001b[39m),\n",
       "  (\u001b[32m\"Participation\"\u001b[39m, \u001b[32m1\u001b[39m),\n",
       "  (\u001b[32m\"Well\"\u001b[39m, \u001b[32m1\u001b[39m),\n",
       "  (\u001b[32m\"Feedback\"\u001b[39m, \u001b[32m1\u001b[39m),\n",
       "  (\u001b[32m\"February\"\u001b[39m, \u001b[32m1\u001b[39m),\n",
       "  (\u001b[32m\"Central-\"\u001b[39m, \u001b[32m1\u001b[39m),\n",
       "  (\u001b[32m\"Goggles\"\u001b[39m, \u001b[32m1\u001b[39m),\n",
       "  (\u001b[32m\"Xperia\"\u001b[39m, \u001b[32m1\u001b[39m),\n",
       "  (\u001b[32m\"IP68\"\u001b[39m, \u001b[32m1\u001b[39m),\n",
       "  (\u001b[32m\"PowerShell\"\u001b[39m, \u001b[32m1\u001b[39m),\n",
       "  (\u001b[32m\"Look\"\u001b[39m, \u001b[32m1\u001b[39m),\n",
       "  (\u001b[32m\"Phones\"\u001b[39m, \u001b[32m1\u001b[39m),\n",
       "  (\u001b[32m\"Flagship\"\u001b[39m, \u001b[32m1\u001b[39m),\n",
       "  (\u001b[32m\"Pay\"\u001b[39m, \u001b[32m1\u001b[39m),\n",
       "  (\u001b[32m\"Ctrl-F\"\u001b[39m, \u001b[32m1\u001b[39m),\n",
       "  (\u001b[32m\"Galaxy\"\u001b[39m, \u001b[32m1\u001b[39m),\n",
       "  (\u001b[32m\"Agrees\"\u001b[39m, \u001b[32m1\u001b[39m),\n",
       "  (\u001b[32m\"Xiaomi\"\u001b[39m, \u001b[32m1\u001b[39m),\n",
       "  (\u001b[32m\"Gboard\"\u001b[39m, \u001b[32m1\u001b[39m),\n",
       "  (\u001b[32m\"Authority-\"\u001b[39m, \u001b[32m1\u001b[39m),\n",
       "  (\u001b[32m\"Anything\"\u001b[39m, \u001b[32m1\u001b[39m),\n",
       "..."
      ]
     },
     "execution_count": 120,
     "metadata": {},
     "output_type": "execute_result"
    }
   ],
   "source": [
    "val sort_rss = model.sort(count_rss)\n",
    "val sort_reddit = model.sort(count_reddit)"
   ]
  },
  {
   "cell_type": "markdown",
   "id": "313f1d84-8f6a-4c00-9a62-a0902a22d09c",
   "metadata": {
    "tags": []
   },
   "source": [
    "## 4. FeedService\n"
   ]
  },
  {
   "cell_type": "code",
   "execution_count": 121,
   "id": "2aafc6a5-a206-403f-bf92-4ce6a729bb8f",
   "metadata": {
    "scrolled": true,
    "tags": []
   },
   "outputs": [
    {
     "data": {
      "text/plain": [
       "defined \u001b[32mclass\u001b[39m \u001b[36mFeedService\u001b[39m"
      ]
     },
     "execution_count": 121,
     "metadata": {},
     "output_type": "execute_result"
    }
   ],
   "source": [
    "class FeedService(){\n",
    "    //Variable donde almacenar las suscripciones\n",
    "    private val buffer = new ListBuffer[(String,GetTextURL)]()\n",
    "    \n",
    "    //Guardar un registro de las URL, y opcionalmente sus parámetros, suscriptas.\n",
    "    def suscribe(url: String, t: GetTextURL) : Unit= {\n",
    "        buffer += ((url,t))\n",
    "    }\n",
    "    \n",
    "    //Obtener los feeds\n",
    "    def get_feed(): Seq[Seq[String]] = {\n",
    "        val model = new NERModel\n",
    "        val toSeq = buffer.toSeq\n",
    "        toSeq.map{ x => x._2.queryURL(x._1)}\n",
    "    }\n",
    "    \n",
    "    //Compilar el resultado de cada una en una única lista\n",
    "    def get_result(feed: Seq[Seq[String]]): Seq[String] = {\n",
    "        feed.flatten\n",
    "    }\n",
    "    \n",
    "}"
   ]
  },
  {
   "cell_type": "code",
   "execution_count": 122,
   "id": "418aa757-aaba-4165-b107-16e3e949ebf7",
   "metadata": {
    "scrolled": true,
    "tags": []
   },
   "outputs": [
    {
     "data": {
      "text/plain": [
       "\u001b[36mfeed_service\u001b[39m: \u001b[32mFeedService\u001b[39m = ammonite.$sess.cmd120$Helper$FeedService@1fdc8c5e"
      ]
     },
     "execution_count": 122,
     "metadata": {},
     "output_type": "execute_result"
    }
   ],
   "source": [
    "val feed_service = new FeedService()"
   ]
  },
  {
   "cell_type": "code",
   "execution_count": 123,
   "id": "35c24979-f99b-428f-8ab3-259708c9300e",
   "metadata": {
    "scrolled": true,
    "tags": []
   },
   "outputs": [],
   "source": [
    "feed_service.suscribe(url1, new GetTextURL(\"reddit\"))\n",
    "feed_service.suscribe(url1, new GetTextURL(\"reddit\"))\n",
    "feed_service.suscribe(url2, new GetTextURL(\"rss\"))\n",
    "feed_service.suscribe(url1, new GetTextURL(\"reddit\"))"
   ]
  },
  {
   "cell_type": "code",
   "execution_count": 124,
   "id": "40c40254-a850-4026-ad52-87e14771c10a",
   "metadata": {
    "scrolled": true,
    "tags": []
   },
   "outputs": [
    {
     "data": {
      "text/plain": [
       "\u001b[36mget_feed\u001b[39m: \u001b[32mSeq\u001b[39m[\u001b[32mSeq\u001b[39m[\u001b[32mString\u001b[39m]] = \u001b[33mList\u001b[39m(\n",
       "  \u001b[33mList\u001b[39m(\n",
       "    \u001b[32m\"\"\"**Credits to the team at /r/PickAnAndroidForMe for compiling this information:**\n",
       "\n",
       "* Home - \n",
       "\n",
       "* Smartphones 101 - \n",
       "\n",
       "* Top Phones - \n",
       "\n",
       "\n",
       "***        \n",
       "Note 1. Join us at /r/MoronicMondayAndroid, a sub serving as a repository for our retired weekly threads. Just pick any thread and Ctrl-F your way to wisdom! \n",
       "\n",
       "Note 2. Join our IRC, and Telegram chat-rooms! [Please see our wiki for instructions.]()\"\"\"\u001b[39m,\n",
       "    \u001b[32m\"What should I buy Thursday (May 13 2021) - Your weekly device inquiry thread!\"\u001b[39m,\n",
       "    \u001b[32m\"\"\"Hey /r/android, we had conducted a [feedback poll]() last year. We have decided to make a few revisions (mainly a preferential voting system) since some of the results were rather open-ended and did not present a clear solution. Participation on the last poll was also lower than anticipated since we only got about [930 responses]().\n",
       "\n",
       "NOTES\n",
       "\n",
       "* The poll was created via Google Forms and requires sign-in to prevent duplication of votes.\n",
       "\n",
       "* Most questions require a response although a few yes/no type questions are optional.\n",
       "\n",
       "* Email addresses aren't collected by the /r/android mod team.\n",
       "\n",
       "* Responses can be edited after they have been submitted.\n",
       "\n",
       "* The order of yes/no responses have been randomized.\n",
       "\u001b[39m..."
      ]
     },
     "execution_count": 124,
     "metadata": {},
     "output_type": "execute_result"
    }
   ],
   "source": [
    "val get_feed = feed.get_feed"
   ]
  },
  {
   "cell_type": "code",
   "execution_count": 125,
   "id": "21db7f59-7427-4894-90bd-6c0f98df53f7",
   "metadata": {
    "scrolled": true,
    "tags": []
   },
   "outputs": [
    {
     "data": {
      "text/plain": [
       "\u001b[36mget_result\u001b[39m: \u001b[32mSeq\u001b[39m[\u001b[32mString\u001b[39m] = \u001b[33mList\u001b[39m(\n",
       "  \u001b[32m\"\"\"**Credits to the team at /r/PickAnAndroidForMe for compiling this information:**\n",
       "\n",
       "* Home - \n",
       "\n",
       "* Smartphones 101 - \n",
       "\n",
       "* Top Phones - \n",
       "\n",
       "\n",
       "***        \n",
       "Note 1. Join us at /r/MoronicMondayAndroid, a sub serving as a repository for our retired weekly threads. Just pick any thread and Ctrl-F your way to wisdom! \n",
       "\n",
       "Note 2. Join our IRC, and Telegram chat-rooms! [Please see our wiki for instructions.]()\"\"\"\u001b[39m,\n",
       "  \u001b[32m\"What should I buy Thursday (May 13 2021) - Your weekly device inquiry thread!\"\u001b[39m,\n",
       "  \u001b[32m\"\"\"Hey /r/android, we had conducted a [feedback poll]() last year. We have decided to make a few revisions (mainly a preferential voting system) since some of the results were rather open-ended and did not present a clear solution. Participation on the last poll was also lower than anticipated since we only got about [930 responses]().\n",
       "\n",
       "NOTES\n",
       "\n",
       "* The poll was created via Google Forms and requires sign-in to prevent duplication of votes.\n",
       "\n",
       "* Most questions require a response although a few yes/no type questions are optional.\n",
       "\n",
       "* Email addresses aren't collected by the /r/android mod team.\n",
       "\n",
       "* Responses can be edited after they have been submitted.\n",
       "\n",
       "* The order of yes/no responses have been randomized.\n",
       "\n",
       "\u001b[39m..."
      ]
     },
     "execution_count": 125,
     "metadata": {},
     "output_type": "execute_result"
    }
   ],
   "source": [
    "val get_result = feed.get_result(get_feed)"
   ]
  },
  {
   "cell_type": "code",
   "execution_count": 126,
   "id": "f30c9297-2763-4bff-af5e-bae38c0e42b7",
   "metadata": {},
   "outputs": [
    {
     "data": {
      "text/plain": [
       "\u001b[36mmodel_N\u001b[39m: \u001b[32mNERModel\u001b[39m = ammonite.$sess.cmd115$Helper$NERModel@f270a92"
      ]
     },
     "execution_count": 126,
     "metadata": {},
     "output_type": "execute_result"
    }
   ],
   "source": [
    "val model_N = new NERModel"
   ]
  },
  {
   "cell_type": "code",
   "execution_count": 127,
   "id": "6ca9d8a9-daf4-4cd2-be53-1b5c59175314",
   "metadata": {
    "tags": []
   },
   "outputs": [
    {
     "data": {
      "text/plain": [
       "\u001b[36mdo_model\u001b[39m: \u001b[32mSeq\u001b[39m[\u001b[32mSeq\u001b[39m[\u001b[32mString\u001b[39m]] = \u001b[33mList\u001b[39m(\n",
       "  \u001b[33mArrayBuffer\u001b[39m(\n",
       "    \u001b[32m\"Home\"\u001b[39m,\n",
       "    \u001b[32m\"Smartphones\"\u001b[39m,\n",
       "    \u001b[32m\"Top\"\u001b[39m,\n",
       "    \u001b[32m\"Phones\"\u001b[39m,\n",
       "    \u001b[32m\"Note\"\u001b[39m,\n",
       "    \u001b[32m\"Join\"\u001b[39m,\n",
       "    \u001b[32m\"Ctrl-F\"\u001b[39m,\n",
       "    \u001b[32m\"Note\"\u001b[39m,\n",
       "    \u001b[32m\"Join\"\u001b[39m,\n",
       "    \u001b[32m\"IRC\"\u001b[39m,\n",
       "    \u001b[32m\"Telegram\"\u001b[39m\n",
       "  ),\n",
       "  \u001b[33mArrayBuffer\u001b[39m(\u001b[32m\"Thursday\"\u001b[39m, \u001b[32m\"May\"\u001b[39m),\n",
       "  \u001b[33mArrayBuffer\u001b[39m(\n",
       "    \u001b[32m\"Hey\"\u001b[39m,\n",
       "    \u001b[32m\"Participation\"\u001b[39m,\n",
       "    \u001b[32m\"Google\"\u001b[39m,\n",
       "    \u001b[32m\"Forms\"\u001b[39m,\n",
       "    \u001b[32m\"Email\"\u001b[39m,\n",
       "    \u001b[32m\"Responses\"\u001b[39m,\n",
       "    \u001b[32m\"Well\"\u001b[39m,\n",
       "    \u001b[32m\"POLL]Edit\"\u001b[39m\n",
       "  ),\n",
       "  \u001b[33mArrayBuffer\u001b[39m(\u001b[32m\"Community\"\u001b[39m, \u001b[32m\"Feedback\"\u001b[39m, \u001b[32m\"Poll\"\u001b[39m, \u001b[32m\"February\"\u001b[39m),\n",
       "  \u001b[33mArrayBuffer\u001b[39m(),\n",
       "  \u001b[33mArrayBuffer\u001b[39m(\u001b[32m\"Google\"\u001b[39m, \u001b[32m\"Messages\"\u001b[39m),\n",
       "  \u001b[33mArrayBuffer\u001b[39m(),\n",
       "  \u001b[33mArrayBuffer\u001b[39m(),\n",
       "  \u001b[33mArrayBuffer\u001b[39m(),\n",
       "  \u001b[33mArrayBuffer\u001b[39m(\u001b[32m\"US\"\u001b[39m, \u001b[32m\"Agrees\"\u001b[39m, \u001b[32m\"Remove\"\u001b[39m, \u001b[32m\"Xiaomi\"\u001b[39m, \u001b[32m\"Blacklist\"\u001b[39m, \u001b[32m\"Lawsuit\"\u001b[39m),\n",
       "  \u001b[33mArrayBuffer\u001b[39m(),\n",
       "  \u001b[33mArrayBuffer\u001b[39m(\u001b[32m\"Hey\"\u001b[39m, \u001b[32m\"Google\"\u001b[39m),\n",
       "  \u001b[33mArrayBuffer\u001b[39m(),\n",
       "  \u001b[33mArrayBuffer\u001b[39m(\u001b[32m\"Samsung\"\u001b[39m, \u001b[32m\"Galaxy\"\u001b[39m, \u001b[32m\"Watch\"\u001b[39m, \u001b[32m\"WearOS\"\u001b[39m),\n",
       "  \u001b[33mArrayBuffer\u001b[39m(\n",
       "    \u001b[32m\"RedditASUS\"\u001b[39m,\n",
       "    \u001b[32m\"Europe\"\u001b[39m,\n",
       "...\n",
       "\u001b[36mdo_count\u001b[39m: \u001b[32mMap\u001b[39m[\u001b[32mString\u001b[39m, \u001b[32mInt\u001b[39m] = \u001b[33mMap\u001b[39m(\n",
       "  \u001b[32m\"Much\"\u001b[39m -> \u001b[32m3\u001b[39m,\n",
       "  \u001b[32m\"Rate\"\u001b[39m -> \u001b[32m4\u001b[39m,\n",
       "  \u001b[32m\"University\"\u001b[39m -> \u001b[32m1\u001b[39m,\n",
       "  \u001b[32m\"Participation\"\u001b[39m -> \u001b[32m3\u001b[39m,\n",
       "  \u001b[32m\"Nets\"\u001b[39m -> \u001b[32m3\u001b[39m,\n",
       "  \u001b[32m\"Gleyber\"\u001b[39m -> \u001b[32m1\u001b[39m,\n",
       "  \u001b[32m\"Spirit\\u2019s\"\u001b[39m -> \u001b[32m1\u001b[39m,\n",
       "  \u001b[32m\"Well\"\u001b[39m -> \u001b[32m3\u001b[39m,\n",
       "  \u001b[32m\"Corey\"\u001b[39m -> \u001b[32m2\u001b[39m,\n",
       "  \u001b[32m\"Marisnick\"\u001b[39m -> \u001b[32m1\u001b[39m,\n",
       "  \u001b[32m\"Polisky\"\u001b[39m -> \u001b[32m4\u001b[39m,\n",
       "  \u001b[32m\"Operations\"\u001b[39m -> \u001b[32m1\u001b[39m,\n",
       "  \u001b[32m\"Feedback\"\u001b[39m -> \u001b[32m3\u001b[39m,\n",
       "  \u001b[32m\"Cub\"\u001b[39m -> \u001b[32m1\u001b[39m,\n",
       "  \u001b[32m\"February\"\u001b[39m -> \u001b[32m3\u001b[39m,\n",
       "  \u001b[32m\"Central-\"\u001b[39m -> \u001b[32m3\u001b[39m,\n",
       "  \u001b[32m\"Parker\"\u001b[39m -> \u001b[32m4\u001b[39m,\n",
       "  \u001b[32m\"Zenfone\"\u001b[39m -> \u001b[32m24\u001b[39m,\n",
       "  \u001b[32m\"Goggles\"\u001b[39m -> \u001b[32m3\u001b[39m,\n",
       "  \u001b[32m\"Crawford\"\u001b[39m -> \u001b[32m2\u001b[39m,\n",
       "  \u001b[32m\"Bieber\"\u001b[39m -> \u001b[32m2\u001b[39m,\n",
       "  \u001b[32m\"Xperia\"\u001b[39m -> \u001b[32m3\u001b[39m,\n",
       "  \u001b[32m\"Sky\"\u001b[39m -> \u001b[32m3\u001b[39m,\n",
       "  \u001b[32m\"Hawaii\"\u001b[39m -> \u001b[32m2\u001b[39m,\n",
       "  \u001b[32m\"Washington\"\u001b[39m -> \u001b[32m1\u001b[39m,\n",
       "  \u001b[32m\"IP68\"\u001b[39m -> \u001b[32m3\u001b[39m,\n",
       "  \u001b[32m\"IL\"\u001b[39m -> \u001b[32m1\u001b[39m,\n",
       "  \u001b[32m\"Robert\"\u001b[39m -> \u001b[32m1\u001b[39m,\n",
       "  \u001b[32m\"PowerShell\"\u001b[39m -> \u001b[32m3\u001b[39m,\n",
       "  \u001b[32m\"Look\"\u001b[39m -> \u001b[32m3\u001b[39m,\n",
       "  \u001b[32m\"Dach\\u2019s\"\u001b[39m -> \u001b[32m1\u001b[39m,\n",
       "  \u001b[32m\"Hockey\"\u001b[39m -> \u001b[32m1\u001b[39m,\n",
       "  \u001b[32m\"Comparison\"\u001b[39m -> \u001b[32m6\u001b[39m,\n",
       "  \u001b[32m\"DeBrincat\\u2019s\"\u001b[39m -> \u001b[32m1\u001b[39m,\n",
       "  \u001b[32m\"Phones\"\u001b[39m -> \u001b[32m3\u001b[39m,\n",
       "  \u001b[32m\"Flagship\"\u001b[39m -> \u001b[32m3\u001b[39m,\n",
       "  \u001b[32m\"Marisnick\\u2019s\"\u001b[39m -> \u001b[32m2\u001b[39m,\n",
       "  \u001b[32m\"President\"\u001b[39m -> \u001b[32m1\u001b[39m,\n",
       "...\n",
       "\u001b[36mdo_sort\u001b[39m: \u001b[32mList\u001b[39m[(\u001b[32mString\u001b[39m, \u001b[32mInt\u001b[39m)] = \u001b[33mList\u001b[39m(\n",
       "  (\u001b[32m\"Chicago\"\u001b[39m, \u001b[32m49\u001b[39m),\n",
       "  (\u001b[32m\"Flip\"\u001b[39m, \u001b[32m30\u001b[39m),\n",
       "  (\u001b[32m\"Google\"\u001b[39m, \u001b[32m27\u001b[39m),\n",
       "  (\u001b[32m\"Zenfone\"\u001b[39m, \u001b[32m24\u001b[39m),\n",
       "  (\u001b[32m\"ZenFone\"\u001b[39m, \u001b[32m18\u001b[39m),\n",
       "  (\u001b[32m\"Asus\"\u001b[39m, \u001b[32m12\u001b[39m),\n",
       "  (\u001b[32m\"White\"\u001b[39m, \u001b[32m12\u001b[39m),\n",
       "  (\u001b[32m\"Sox\"\u001b[39m, \u001b[32m12\u001b[39m),\n",
       "  (\u001b[32m\"Android\"\u001b[39m, \u001b[32m12\u001b[39m),\n",
       "  (\u001b[32m\"Blackhawks\"\u001b[39m, \u001b[32m11\u001b[39m),\n",
       "  (\u001b[32m\"Note\"\u001b[39m, \u001b[32m9\u001b[39m),\n",
       "  (\u001b[32m\"ASUS\"\u001b[39m, \u001b[32m9\u001b[39m),\n",
       "  (\u001b[32m\"Camera\"\u001b[39m, \u001b[32m9\u001b[39m),\n",
       "  (\u001b[32m\"Minnesota\"\u001b[39m, \u001b[32m8\u001b[39m),\n",
       "  (\u001b[32m\"Twins\"\u001b[39m, \u001b[32m8\u001b[39m),\n",
       "  (\u001b[32m\"NFL\"\u001b[39m, \u001b[32m8\u001b[39m),\n",
       "  (\u001b[32m\"Cubs\"\u001b[39m, \u001b[32m7\u001b[39m),\n",
       "  (\u001b[32m\"Bears\"\u001b[39m, \u001b[32m7\u001b[39m),\n",
       "  (\u001b[32m\"Comparison\"\u001b[39m, \u001b[32m6\u001b[39m),\n",
       "  (\u001b[32m\"US\"\u001b[39m, \u001b[32m6\u001b[39m),\n",
       "  (\u001b[32m\"Hey\"\u001b[39m, \u001b[32m6\u001b[39m),\n",
       "  (\u001b[32m\"Review\"\u001b[39m, \u001b[32m6\u001b[39m),\n",
       "  (\u001b[32m\"Realme\"\u001b[39m, \u001b[32m6\u001b[39m),\n",
       "  (\u001b[32m\"Phone\"\u001b[39m, \u001b[32m6\u001b[39m),\n",
       "  (\u001b[32m\"May\"\u001b[39m, \u001b[32m6\u001b[39m),\n",
       "  (\u001b[32m\"Tuesday\"\u001b[39m, \u001b[32m6\u001b[39m),\n",
       "  (\u001b[32m\"Samsung\"\u001b[39m, \u001b[32m6\u001b[39m),\n",
       "  (\u001b[32m\"Join\"\u001b[39m, \u001b[32m6\u001b[39m),\n",
       "  (\u001b[32m\"Bulls\"\u001b[39m, \u001b[32m6\u001b[39m),\n",
       "  (\u001b[32m\"Photos\"\u001b[39m, \u001b[32m6\u001b[39m),\n",
       "  (\u001b[32m\"Wednesday\"\u001b[39m, \u001b[32m5\u001b[39m),\n",
       "  (\u001b[32m\"Patrick\"\u001b[39m, \u001b[32m5\u001b[39m),\n",
       "  (\u001b[32m\"Rate\"\u001b[39m, \u001b[32m4\u001b[39m),\n",
       "  (\u001b[32m\"Polisky\"\u001b[39m, \u001b[32m4\u001b[39m),\n",
       "  (\u001b[32m\"Parker\"\u001b[39m, \u001b[32m4\u001b[39m),\n",
       "  (\u001b[32m\"Mike\"\u001b[39m, \u001b[32m4\u001b[39m),\n",
       "  (\u001b[32m\"Guaranteed\"\u001b[39m, \u001b[32m4\u001b[39m),\n",
       "  (\u001b[32m\"Candace\"\u001b[39m, \u001b[32m4\u001b[39m),\n",
       "..."
      ]
     },
     "execution_count": 127,
     "metadata": {},
     "output_type": "execute_result"
    }
   ],
   "source": [
    "val do_model = model_N.getNEs(get_result)\n",
    "val do_count = model_N.count(do_model)\n",
    "val do_sort = model_N.sort(do_count)"
   ]
  },
  {
   "cell_type": "code",
   "execution_count": null,
   "id": "b4c3f794-56b5-4ac7-9e92-e1ae0bc277b8",
   "metadata": {},
   "outputs": [],
   "source": []
  }
 ],
 "metadata": {
  "kernelspec": {
   "display_name": "Scala",
   "language": "scala",
   "name": "scala"
  },
  "language_info": {
   "codemirror_mode": "text/x-scala",
   "file_extension": ".scala",
   "mimetype": "text/x-scala",
   "name": "scala",
   "nbconvert_exporter": "script",
   "version": "2.11.12"
  }
 },
 "nbformat": 4,
 "nbformat_minor": 5
}
