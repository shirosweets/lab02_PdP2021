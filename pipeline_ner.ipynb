{
 "cells": [
  {
   "cell_type": "markdown",
   "id": "77e07999-1b9b-4ce9-a072-aad79b31a252",
   "metadata": {
    "tags": []
   },
   "source": [
    "# Named Entity Recognition Pipeline\n",
    "\n",
    "El pipeline toma una URL de un feed en formato RSS, obtiene el título y descripción de los artículos en el feed, detecta las NER con un modelo pre-entrenado, y las muestra ordenadas por frecuencia de aparición.\n",
    "\n",
    "### Versiones\n",
    "Probado con:\n",
    "* Almond 0.6.0\n",
    "* Ammonite 1.6.7\n",
    "* Scala library version **2.11.12** -- Copyright 2002-2017, LAMP/EPFL\n",
    "* Java 1.8.0_282\n",
    "\n",
    "Para ver más información ir a (Help -> About Scala Kernel)"
   ]
  },
  {
   "cell_type": "markdown",
   "id": "3c9aca1f-e342-4f45-9e90-20f01e75ac7c",
   "metadata": {
    "tags": []
   },
   "source": [
    "## 1. Obtener texto"
   ]
  },
  {
   "cell_type": "markdown",
   "id": "important-swaziland",
   "metadata": {},
   "source": [
    "### 1.1 Importar librerías"
   ]
  },
  {
   "cell_type": "code",
   "execution_count": 1,
   "id": "ccd94c5a-99e4-49cf-8b19-a17c49e37703",
   "metadata": {
    "tags": []
   },
   "outputs": [
    {
     "data": {
      "text/plain": [
       "\u001b[32mimport \u001b[39m\u001b[36m$ivy.$                              \u001b[39m"
      ]
     },
     "execution_count": 1,
     "metadata": {},
     "output_type": "execute_result"
    }
   ],
   "source": [
    "import $ivy.`org.scalaj::scalaj-http:2.4.2`"
   ]
  },
  {
   "cell_type": "code",
   "execution_count": 2,
   "id": "9fb71d1f-9381-4674-ac0b-46cdcb512435",
   "metadata": {
    "tags": []
   },
   "outputs": [
    {
     "data": {
      "text/plain": [
       "\u001b[32mimport \u001b[39m\u001b[36m$ivy.$                              \n",
       "// \"org.scala-lang.modules\" %% \"scala-xml\" % \"1.3.0\"\n",
       "\u001b[39m\n",
       "\u001b[32mimport \u001b[39m\u001b[36m$ivy.$                                        \u001b[39m"
      ]
     },
     "execution_count": 2,
     "metadata": {},
     "output_type": "execute_result"
    }
   ],
   "source": [
    "import $ivy.`org.scalaj::scalaj-http:2.4.2`\n",
    "// \"org.scala-lang.modules\" %% \"scala-xml\" % \"1.3.0\"\n",
    "import $ivy.`org.scala-lang.modules::scala-xml:1.3.0`"
   ]
  },
  {
   "cell_type": "code",
   "execution_count": 5,
   "id": "4c876116-303f-4839-a8b5-cbea434adace",
   "metadata": {
    "tags": []
   },
   "outputs": [
    {
     "data": {
      "text/plain": [
       "\u001b[32mimport \u001b[39m\u001b[36mscalaj.http.{Http, HttpResponse}\n",
       "\u001b[39m\n",
       "\u001b[32mimport \u001b[39m\u001b[36mscala.xml.XML\u001b[39m"
      ]
     },
     "execution_count": 5,
     "metadata": {},
     "output_type": "execute_result"
    }
   ],
   "source": [
    "import scalaj.http.{Http, HttpResponse}\n",
    "import scala.xml.XML"
   ]
  },
  {
   "cell_type": "code",
   "execution_count": 4,
   "id": "08a13acc-d6c7-4111-89ec-306e44c0032c",
   "metadata": {
    "tags": []
   },
   "outputs": [
    {
     "data": {
      "text/plain": [
       "\u001b[32mimport \u001b[39m\u001b[36m$ivy.$                                 \n",
       "\u001b[39m\n",
       "\u001b[32mimport \u001b[39m\u001b[36morg.json4s.JsonDSL._\n",
       "\u001b[39m\n",
       "\u001b[32mimport \u001b[39m\u001b[36morg.json4s._\n",
       "\u001b[39m\n",
       "\u001b[32mimport \u001b[39m\u001b[36morg.json4s.jackson.JsonMethods._\n",
       "\u001b[39m\n",
       "\u001b[36mformats\u001b[39m: \u001b[32mDefaultFormats\u001b[39m.type = org.json4s.DefaultFormats$@6f7917c2"
      ]
     },
     "execution_count": 4,
     "metadata": {},
     "output_type": "execute_result"
    }
   ],
   "source": [
    "import $ivy.`org.json4s::json4s-jackson:3.4.0`\n",
    "import org.json4s.JsonDSL._\n",
    "import org.json4s._\n",
    "import org.json4s.jackson.JsonMethods._\n",
    "implicit val formats = DefaultFormats"
   ]
  },
  {
   "cell_type": "markdown",
   "id": "794c77e9-bfd4-4fd0-ba3f-84bcc8e847fe",
   "metadata": {},
   "source": [
    "### 1.1 Obtener el texto del RSS Feed\n",
    "\n",
    "Realizamos una consulta HTTP, que nos devuelve una instancia de HTTPResponse. Dentro del atributo `body` de la HTTPResponse, se encuentra el texto del feed en formato XML. Luego, se parsea el XML para extraer los campos `title` y `description`."
   ]
  },
  {
   "cell_type": "code",
   "execution_count": 6,
   "id": "2818facc-e2e8-4e75-974f-3fb3efc73458",
   "metadata": {
    "tags": []
   },
   "outputs": [
    {
     "data": {
      "text/plain": [
       "\u001b[36murl1\u001b[39m: \u001b[32mString\u001b[39m = \u001b[32m\"https://www.reddit.com/r/Android/hot/.json?count=10\"\u001b[39m\n",
       "\u001b[36murl2\u001b[39m: \u001b[32mString\u001b[39m = \u001b[32m\"https://www.chicagotribune.com/arcio/rss/category/sports/?query=display_date:[now-2d+TO+now]&sort=display_date:desc\"\u001b[39m"
      ]
     },
     "execution_count": 6,
     "metadata": {},
     "output_type": "execute_result"
    }
   ],
   "source": [
    "val url1 = \"https://www.reddit.com/r/Android/hot/.json?count=10\"\n",
    "val url2 = \"https://www.chicagotribune.com/arcio/rss/category/sports/?query=display_date:[now-2d+TO+now]&sort=display_date:desc\""
   ]
  },
  {
   "cell_type": "code",
   "execution_count": 9,
   "id": "67113ee2-36d4-4976-875d-a5f5d852f282",
   "metadata": {
    "tags": []
   },
   "outputs": [
    {
     "data": {
      "text/plain": [
       "defined \u001b[32mclass\u001b[39m \u001b[36mGetTextURL\u001b[39m"
      ]
     },
     "execution_count": 9,
     "metadata": {},
     "output_type": "execute_result"
    }
   ],
   "source": [
    "class GetTextURL(){\n",
    "    // Obtener texto desde una url\n",
    "    def queryURL(url: String, urlType: String): Seq[String] = {\n",
    "        try{\n",
    "            val response: HttpResponse[String] = Http(url)\n",
    "              .timeout(connTimeoutMs = 2000, readTimeoutMs = 5000)\n",
    "              .asString\n",
    "            val stringBody = response.body\n",
    "            urlType match {\n",
    "                case \"rss\" => {\n",
    "                    val xml = XML.loadString(stringBody)\n",
    "                    // Extract text from title and description\n",
    "                    (xml \\\\ \"item\").map { item => ((item \\ \"title\").text + \" \" + (item \\ \"description\").text) }\n",
    "                }\n",
    "                case \"reddit\" => {\n",
    "                    // parse Reddit feed in JSON\n",
    "                    val result = (parse(stringBody) \\ \"data\" \\ \"children\" \\ \"data\")\n",
    "                         .extract[List[Map[String, Any]]]\n",
    "                    // Parsear JSON\n",
    "                    val filterContent = result.flatten.filter{case (v , _) => v == \"title\" || v == \"selftext\" }.map(x => x._2.toString)\n",
    "                    val pattern = \"(https?|ftp|file)://[-a-zA-Z0-9+&@#/%?=~_|!:,.;]*[-a-zA-Z0-9+&@#/%=~_|]\".r\n",
    "                    filterContent.map(x => pattern.replaceAllIn(x,\"\")).toSeq\n",
    "                }\n",
    "            }\n",
    "        }catch{\n",
    "            case e: Exception => List()\n",
    "        }    \n",
    "    }\n",
    "}"
   ]
  },
  {
   "cell_type": "code",
   "execution_count": 10,
   "id": "13721d69-9a7e-4a1f-9658-4534534320d7",
   "metadata": {
    "tags": []
   },
   "outputs": [
    {
     "data": {
      "text/plain": [
       "\u001b[36mtext\u001b[39m: \u001b[32mGetTextURL\u001b[39m = ammonite.$sess.cmd8$Helper$GetTextURL@110f17ec"
      ]
     },
     "execution_count": 10,
     "metadata": {},
     "output_type": "execute_result"
    }
   ],
   "source": [
    "val text = new GetTextURL"
   ]
  },
  {
   "cell_type": "code",
   "execution_count": 23,
   "id": "e57ff087-e8a5-437c-9bfb-99a932af91cf",
   "metadata": {
    "tags": []
   },
   "outputs": [
    {
     "data": {
      "text/plain": [
       "\u001b[36mrss\u001b[39m: \u001b[32mSeq\u001b[39m[\u001b[32mString\u001b[39m] = \u001b[33mList\u001b[39m(\n",
       "  \u001b[32m\"\"\"Note 1. Join our IRC, and Telegram chat-rooms! [Please see our wiki for instructions.]()\n",
       "\n",
       "This weekly Sunday thread is for you to let off some steam and speak out about whatever complaint you might have about:  \n",
       "\n",
       "* Your device.  \n",
       "\n",
       "* Your carrier.  \n",
       "\n",
       "* Your device's manufacturer.  \n",
       "\n",
       "* An app  \n",
       "\n",
       "* Any other company\n",
       "\n",
       "***  \n",
       "\n",
       "**Rules**  \n",
       "\n",
       "1) Please do not target any individuals or try to name/shame any individual. If you hate Google/Samsung/HTC etc. for one thing that is fine, but do not be rude to an individual app developer.\n",
       "\n",
       "2) If you have a suggestion to solve another user's issue, please leave a comment but be sure it's constructive! We do not want any flame-wars.  \n",
       "\n",
       "3) Be respectful of other's opinions. Even if you feel that somebody is \"wrong\" you don't have to go out of your way to prove them wrong. Disagree politely, and move on.\"\"\"\u001b[39m,\n",
       "  \u001b[32m\"Sunday Rant/Rage (May 09 2021) - Your weekly complaint thread!\"\u001b[39m,\n",
       "  \u001b[32m\"\"\"Hey /r/android, we had conducted a [feedback poll]() last year. We have decided to make a few revisions (mainly a preferential voting system) since some of the results were rather open-ended and did not present a clear solution. Participation on the last poll was also lower than anticipated since we only got about [930 responses]().\n",
       "\n",
       "NOTES\n",
       "\u001b[39m..."
      ]
     },
     "execution_count": 23,
     "metadata": {},
     "output_type": "execute_result"
    }
   ],
   "source": [
    "val redditText = text.queryURL(url1,\"reddit\")\n",
    "val rssText = text.queryURL(url2)"
   ]
  },
  {
   "cell_type": "markdown",
   "id": "c0cd7c82-e1b7-400f-8781-ea8d1aeaf787",
   "metadata": {},
   "source": [
    "## 2. Detectar las entidades nombradas"
   ]
  },
  {
   "cell_type": "markdown",
   "id": "portable-tender",
   "metadata": {
    "tags": []
   },
   "source": [
    "### 2.1 Crear el modelo\n",
    "\n",
    "El **modelo** es sólo la función `getNEs`, que recibe una lista de textos.\n",
    "Para cada texto, se separa las palabras del texto usando los espacios, y considera que es una entidad nombrada si empieza con mayúscula."
   ]
  },
  {
   "cell_type": "markdown",
   "id": "8eb5cdf5-5b4e-4a5b-8368-bd8e731aa328",
   "metadata": {},
   "source": [
    "Este código lista los signos de puntuación y algunas palabras comunes del inglés que se van a sacar del texto."
   ]
  },
  {
   "cell_type": "code",
   "execution_count": 24,
   "id": "ef16a433-c5d0-4566-997e-dd9c9958d097",
   "metadata": {
    "tags": []
   },
   "outputs": [
    {
     "data": {
      "text/plain": [
       "defined \u001b[32mclass\u001b[39m \u001b[36mNERModel\u001b[39m"
      ]
     },
     "execution_count": 24,
     "metadata": {},
     "output_type": "execute_result"
    }
   ],
   "source": [
    "class NERModel() {\n",
    "    // Variables Necesarias para crear modelo\n",
    "    val STOPWORDS = Seq (\n",
    "        \"i\", \"me\", \"my\", \"myself\", \"we\", \"our\", \"ours\", \"ourselves\", \"you\",\n",
    "        \"yours\", \"yourself\", \"yourselves\", \"he\", \"him\", \"his\", \"himself\", \"she\",\n",
    "        \"her\", \"hers\", \"herself\", \"it\", \"its\", \"itself\", \"they\", \"them\", \"your\",\n",
    "        \"their\", \"theirs\", \"themselves\", \"what\", \"which\", \"who\", \"whom\",\n",
    "        \"this\", \"that\", \"these\", \"those\", \"am\", \"is\", \"are\", \"was\", \"were\",\n",
    "        \"be\", \"been\", \"being\", \"have\", \"has\", \"had\", \"having\", \"do\", \"does\",\n",
    "        \"did\", \"doing\", \"a\", \"an\", \"the\", \"and\", \"but\", \"if\", \"or\",\n",
    "        \"because\", \"as\", \"until\", \"while\", \"of\", \"at\", \"by\", \"for\", \"with\",\n",
    "        \"about\", \"against\", \"between\", \"into\", \"through\", \"during\", \"before\",\n",
    "        \"after\", \"above\", \"below\", \"to\", \"from\", \"up\", \"down\", \"in\", \"out\",\n",
    "        \"off\", \"over\", \"under\", \"again\", \"further\", \"then\", \"once\", \"here\",\n",
    "        \"there\", \"when\", \"where\", \"why\", \"how\", \"all\", \"any\", \"both\", \"each\",\n",
    "        \"few\", \"more\", \"most\", \"other\", \"some\", \"such\", \"no\", \"nor\", \"not\",\n",
    "        \"only\", \"own\", \"same\", \"so\", \"than\", \"too\", \"very\", \"s\", \"t\", \"can\",\n",
    "        \"will\", \"just\", \"don\", \"should\", \"now\", \"on\",\n",
    "        // Contractions without '\n",
    "        \"im\", \"ive\", \"id\", \"Youre\", \"youd\", \"youve\",\n",
    "        \"hes\", \"hed\", \"shes\", \"shed\", \"itd\", \"were\", \"wed\", \"weve\",\n",
    "        \"theyre\", \"theyd\", \"theyve\",\n",
    "        \"shouldnt\", \"couldnt\", \"musnt\", \"cant\", \"wont\",\n",
    "        // Common uppercase words\n",
    "        \"hi\", \"hello\"\n",
    "    )\n",
    "    val punctuationSymbols = \".,()!?;:'`´\\n\"\n",
    "    val punctuationRegex = \"\\\\\" + punctuationSymbols.split(\"\").mkString(\"|\\\\\")\n",
    "    \n",
    "    // Aplicar el Modelo a los datos (simplemente es aplicar la funcion a la lista de textos)\n",
    "    def getNEsSingle(text: String): Seq[String] =\n",
    "      text.replaceAll(punctuationRegex, \"\").split(\" \")\n",
    "        .filter { word:String => word.length > 1 &&\n",
    "                  Character.isUpperCase(word.charAt(0)) &&\n",
    "                  !STOPWORDS.contains(word.toLowerCase) }.toSeq\n",
    "\n",
    "    def getNEs(textList: Seq[String]): Seq[Seq[String]] = textList.map(getNEsSingle)\n",
    "    \n",
    "    // Contar y ordenar las entidades\n",
    "    def countandsort(textL : Seq[Seq[String]]): List[(String, Int)] = {\n",
    "        val counts: Map[String, Int] = textL.flatten\n",
    "          .foldLeft(Map.empty[String, Int]) {\n",
    "             (count, word) => count + (word -> (count.getOrElse(word, 0) + 1)) }\n",
    "        counts.toList\n",
    "          .sortBy(_._2)(Ordering[Int].reverse)\n",
    "    }\n",
    "}\n",
    "       "
   ]
  },
  {
   "cell_type": "code",
   "execution_count": 25,
   "id": "395a1734-f2d6-4b74-8dbe-5d7a5c765972",
   "metadata": {
    "tags": []
   },
   "outputs": [
    {
     "data": {
      "text/plain": [
       "\u001b[36mmodel\u001b[39m: \u001b[32mNERModel\u001b[39m = ammonite.$sess.cmd23$Helper$NERModel@7a38d15f"
      ]
     },
     "execution_count": 25,
     "metadata": {},
     "output_type": "execute_result"
    }
   ],
   "source": [
    "val model = new NERModel"
   ]
  },
  {
   "cell_type": "markdown",
   "id": "7e1f4f79-fb92-4b69-815b-ecf7fe556d1b",
   "metadata": {},
   "source": [
    "### 2.2 Aplicar el \"Modelo\" a los datos"
   ]
  },
  {
   "cell_type": "code",
   "execution_count": 26,
   "id": "6eb40c69-0bfe-4f37-87da-ba2078ecddd4",
   "metadata": {
    "tags": []
   },
   "outputs": [
    {
     "data": {
      "text/plain": [
       "\u001b[36mresult\u001b[39m: \u001b[32mSeq\u001b[39m[\u001b[32mSeq\u001b[39m[\u001b[32mString\u001b[39m]] = \u001b[33mList\u001b[39m(\n",
       "  \u001b[33mArrayBuffer\u001b[39m(\n",
       "    \u001b[32m\"Note\"\u001b[39m,\n",
       "    \u001b[32m\"Join\"\u001b[39m,\n",
       "    \u001b[32m\"IRC\"\u001b[39m,\n",
       "    \u001b[32m\"Telegram\"\u001b[39m,\n",
       "    \u001b[32m\"Sunday\"\u001b[39m,\n",
       "    \u001b[32m\"Please\"\u001b[39m,\n",
       "    \u001b[32m\"Google/Samsung/HTC\"\u001b[39m,\n",
       "    \u001b[32m\"Even\"\u001b[39m,\n",
       "    \u001b[32m\"Disagree\"\u001b[39m\n",
       "  ),\n",
       "  \u001b[33mArrayBuffer\u001b[39m(\u001b[32m\"Sunday\"\u001b[39m, \u001b[32m\"Rant/Rage\"\u001b[39m, \u001b[32m\"May\"\u001b[39m),\n",
       "  \u001b[33mArrayBuffer\u001b[39m(\n",
       "    \u001b[32m\"Hey\"\u001b[39m,\n",
       "    \u001b[32m\"Participation\"\u001b[39m,\n",
       "    \u001b[32m\"Google\"\u001b[39m,\n",
       "    \u001b[32m\"Forms\"\u001b[39m,\n",
       "    \u001b[32m\"Email\"\u001b[39m,\n",
       "    \u001b[32m\"Responses\"\u001b[39m,\n",
       "    \u001b[32m\"Well\"\u001b[39m,\n",
       "    \u001b[32m\"POLL]Edit\"\u001b[39m\n",
       "  ),\n",
       "  \u001b[33mArrayBuffer\u001b[39m(\u001b[32m\"Community\"\u001b[39m, \u001b[32m\"Feedback\"\u001b[39m, \u001b[32m\"Poll\"\u001b[39m, \u001b[32m\"February\"\u001b[39m),\n",
       "  \u001b[33mArrayBuffer\u001b[39m(),\n",
       "  \u001b[33mArrayBuffer\u001b[39m(\u001b[32m\"Xiaomi\"\u001b[39m, \u001b[32m\"Mi\"\u001b[39m, \u001b[32m\"Mix\"\u001b[39m, \u001b[32m\"Folds\"\u001b[39m, \u001b[32m\"PC\"\u001b[39m, \u001b[32m\"Mode\"\u001b[39m),\n",
       "  \u001b[33mArrayBuffer\u001b[39m(),\n",
       "  \u001b[33mArrayBuffer\u001b[39m(\n",
       "    \u001b[32m\"PSA\"\u001b[39m,\n",
       "    \u001b[32m\"Qualcomm\"\u001b[39m,\n",
       "    \u001b[32m\"Modem\"\u001b[39m,\n",
       "    \u001b[32m\"Vulnerability\"\u001b[39m,\n",
       "    \u001b[32m\"Lets\"\u001b[39m,\n",
       "    \u001b[32m\"Hackers\"\u001b[39m,\n",
       "    \u001b[32m\"Listen\"\u001b[39m,\n",
       "    \u001b[32m\"Call\"\u001b[39m\n",
       "  ),\n",
       "  \u001b[33mArrayBuffer\u001b[39m(),\n",
       "  \u001b[33mArrayBuffer\u001b[39m(\u001b[32m\"Samsung\"\u001b[39m, \u001b[32m\"Qualcomm\"\u001b[39m),\n",
       "..."
      ]
     },
     "execution_count": 26,
     "metadata": {},
     "output_type": "execute_result"
    }
   ],
   "source": [
    "val result = model.getNEs(rss)"
   ]
  },
  {
   "cell_type": "markdown",
   "id": "located-cookbook",
   "metadata": {
    "tags": []
   },
   "source": [
    "## 3. Contar y ordenar las entidades\n",
    "\n",
    "Concatenar todas las listas, contar cada Named Entity, y luego ordernar por frecuencia"
   ]
  },
  {
   "cell_type": "code",
   "execution_count": 27,
   "id": "dc1d260b-50c4-4783-a414-417375e7919a",
   "metadata": {
    "tags": []
   },
   "outputs": [
    {
     "data": {
      "text/plain": [
       "\u001b[36mCountAndSortedNEs\u001b[39m: \u001b[32mList\u001b[39m[(\u001b[32mString\u001b[39m, \u001b[32mInt\u001b[39m)] = \u001b[33mList\u001b[39m(\n",
       "  (\u001b[32m\"GoPro\"\u001b[39m, \u001b[32m18\u001b[39m),\n",
       "  (\u001b[32m\"Plus\"\u001b[39m, \u001b[32m9\u001b[39m),\n",
       "  (\u001b[32m\"Android\"\u001b[39m, \u001b[32m8\u001b[39m),\n",
       "  (\u001b[32m\"Google\"\u001b[39m, \u001b[32m6\u001b[39m),\n",
       "  (\u001b[32m\"ADB\"\u001b[39m, \u001b[32m5\u001b[39m),\n",
       "  (\u001b[32m\"OS\"\u001b[39m, \u001b[32m5\u001b[39m),\n",
       "  (\u001b[32m\"Windows\"\u001b[39m, \u001b[32m5\u001b[39m),\n",
       "  (\u001b[32m\"HDR\"\u001b[39m, \u001b[32m4\u001b[39m),\n",
       "  (\u001b[32m\"Samsung\"\u001b[39m, \u001b[32m4\u001b[39m),\n",
       "  (\u001b[32m\"MIUI\"\u001b[39m, \u001b[32m4\u001b[39m),\n",
       "  (\u001b[32m\"Note\"\u001b[39m, \u001b[32m3\u001b[39m),\n",
       "  (\u001b[32m\"Fastboot\\\"\"\u001b[39m, \u001b[32m3\u001b[39m),\n",
       "  (\u001b[32m\"App\"\u001b[39m, \u001b[32m3\u001b[39m),\n",
       "  (\u001b[32m\"Pro\"\u001b[39m, \u001b[32m3\u001b[39m),\n",
       "  (\u001b[32m\"May\"\u001b[39m, \u001b[32m3\u001b[39m),\n",
       "  (\u001b[32m\"Join\"\u001b[39m, \u001b[32m3\u001b[39m),\n",
       "  (\u001b[32m\"AI\"\u001b[39m, \u001b[32m3\u001b[39m),\n",
       "  (\u001b[32m\"Photos\"\u001b[39m, \u001b[32m3\u001b[39m),\n",
       "  (\u001b[32m\"However\"\u001b[39m, \u001b[32m3\u001b[39m),\n",
       "  (\u001b[32m\"Users\"\u001b[39m, \u001b[32m2\u001b[39m),\n",
       "  (\u001b[32m\"Xperia\"\u001b[39m, \u001b[32m2\u001b[39m),\n",
       "  (\u001b[32m\"PSA\"\u001b[39m, \u001b[32m2\u001b[39m),\n",
       "  (\u001b[32m\"Galaxy\"\u001b[39m, \u001b[32m2\u001b[39m),\n",
       "  (\u001b[32m\"PC\"\u001b[39m, \u001b[32m2\u001b[39m),\n",
       "  (\u001b[32m\"Hey\"\u001b[39m, \u001b[32m2\u001b[39m),\n",
       "  (\u001b[32m\"SDK\"\u001b[39m, \u001b[32m2\u001b[39m),\n",
       "  (\u001b[32m\"Black\"\u001b[39m, \u001b[32m2\u001b[39m),\n",
       "  (\u001b[32m\"Saturday\"\u001b[39m, \u001b[32m2\u001b[39m),\n",
       "  (\u001b[32m\"XIAOMI\"\u001b[39m, \u001b[32m2\u001b[39m),\n",
       "  (\u001b[32m\"Qualcomm\"\u001b[39m, \u001b[32m2\u001b[39m),\n",
       "  (\u001b[32m\"Hero9\"\u001b[39m, \u001b[32m2\u001b[39m),\n",
       "  (\u001b[32m\"Sunday\"\u001b[39m, \u001b[32m2\u001b[39m),\n",
       "  (\u001b[32m\"Telegram\"\u001b[39m, \u001b[32m2\u001b[39m),\n",
       "  (\u001b[32m\"Fastboot\"\u001b[39m, \u001b[32m2\u001b[39m),\n",
       "  (\u001b[32m\"MAX\"\u001b[39m, \u001b[32m2\u001b[39m),\n",
       "  (\u001b[32m\"IRC\"\u001b[39m, \u001b[32m2\u001b[39m),\n",
       "  (\u001b[32m\"Store\"\u001b[39m, \u001b[32m2\u001b[39m),\n",
       "  (\u001b[32m\"Please\"\u001b[39m, \u001b[32m1\u001b[39m),\n",
       "..."
      ]
     },
     "execution_count": 27,
     "metadata": {},
     "output_type": "execute_result"
    }
   ],
   "source": [
    "val CountAndSortedNEs = model.countandsort(result)"
   ]
  },
  {
   "cell_type": "code",
   "execution_count": null,
   "id": "0cd437f1-b1a5-4e2a-86bf-0d74bb283d7b",
   "metadata": {},
   "outputs": [],
   "source": []
  }
 ],
 "metadata": {
  "kernelspec": {
   "display_name": "Scala",
   "language": "scala",
   "name": "scala"
  },
  "language_info": {
   "codemirror_mode": "text/x-scala",
   "file_extension": ".scala",
   "mimetype": "text/x-scala",
   "name": "scala",
   "nbconvert_exporter": "script",
   "version": "2.11.12"
  }
 },
 "nbformat": 4,
 "nbformat_minor": 5
}
